{
  "cells": [
    {
      "cell_type": "markdown",
      "metadata": {
        "id": "view-in-github",
        "colab_type": "text"
      },
      "source": [
        "<a href=\"https://colab.research.google.com/github/Showcas/NLP/blob/main/04_1_PyTorch.ipynb\" target=\"_parent\"><img src=\"https://colab.research.google.com/assets/colab-badge.svg\" alt=\"Open In Colab\"/></a>"
      ]
    },
    {
      "cell_type": "markdown",
      "id": "64f0c8c6-2886-4eab-96ca-073f6cc6d984",
      "metadata": {
        "id": "64f0c8c6-2886-4eab-96ca-073f6cc6d984"
      },
      "source": [
        "# Natural Language Processing with Large Language Models\n",
        "\n",
        "## 04 - PyTorch\n",
        "\n",
        "---"
      ]
    },
    {
      "cell_type": "code",
      "execution_count": 102,
      "id": "439ad420",
      "metadata": {
        "colab": {
          "base_uri": "https://localhost:8080/"
        },
        "id": "439ad420",
        "outputId": "4821753f-0413-4aa5-c143-209ba278fb96"
      },
      "outputs": [
        {
          "output_type": "stream",
          "name": "stdout",
          "text": [
            "Requirement already satisfied: torch in /usr/local/lib/python3.11/dist-packages (2.6.0+cu124)\n",
            "Requirement already satisfied: torchvision in /usr/local/lib/python3.11/dist-packages (0.21.0+cu124)\n",
            "Requirement already satisfied: torchaudio in /usr/local/lib/python3.11/dist-packages (2.6.0+cu124)\n",
            "Requirement already satisfied: filelock in /usr/local/lib/python3.11/dist-packages (from torch) (3.17.0)\n",
            "Requirement already satisfied: typing-extensions>=4.10.0 in /usr/local/lib/python3.11/dist-packages (from torch) (4.12.2)\n",
            "Requirement already satisfied: networkx in /usr/local/lib/python3.11/dist-packages (from torch) (3.4.2)\n",
            "Requirement already satisfied: jinja2 in /usr/local/lib/python3.11/dist-packages (from torch) (3.1.6)\n",
            "Requirement already satisfied: fsspec in /usr/local/lib/python3.11/dist-packages (from torch) (2024.10.0)\n",
            "Requirement already satisfied: nvidia-cuda-nvrtc-cu12==12.4.127 in /usr/local/lib/python3.11/dist-packages (from torch) (12.4.127)\n",
            "Requirement already satisfied: nvidia-cuda-runtime-cu12==12.4.127 in /usr/local/lib/python3.11/dist-packages (from torch) (12.4.127)\n",
            "Requirement already satisfied: nvidia-cuda-cupti-cu12==12.4.127 in /usr/local/lib/python3.11/dist-packages (from torch) (12.4.127)\n",
            "Requirement already satisfied: nvidia-cudnn-cu12==9.1.0.70 in /usr/local/lib/python3.11/dist-packages (from torch) (9.1.0.70)\n",
            "Requirement already satisfied: nvidia-cublas-cu12==12.4.5.8 in /usr/local/lib/python3.11/dist-packages (from torch) (12.4.5.8)\n",
            "Requirement already satisfied: nvidia-cufft-cu12==11.2.1.3 in /usr/local/lib/python3.11/dist-packages (from torch) (11.2.1.3)\n",
            "Requirement already satisfied: nvidia-curand-cu12==10.3.5.147 in /usr/local/lib/python3.11/dist-packages (from torch) (10.3.5.147)\n",
            "Requirement already satisfied: nvidia-cusolver-cu12==11.6.1.9 in /usr/local/lib/python3.11/dist-packages (from torch) (11.6.1.9)\n",
            "Requirement already satisfied: nvidia-cusparse-cu12==12.3.1.170 in /usr/local/lib/python3.11/dist-packages (from torch) (12.3.1.170)\n",
            "Requirement already satisfied: nvidia-cusparselt-cu12==0.6.2 in /usr/local/lib/python3.11/dist-packages (from torch) (0.6.2)\n",
            "Requirement already satisfied: nvidia-nccl-cu12==2.21.5 in /usr/local/lib/python3.11/dist-packages (from torch) (2.21.5)\n",
            "Requirement already satisfied: nvidia-nvtx-cu12==12.4.127 in /usr/local/lib/python3.11/dist-packages (from torch) (12.4.127)\n",
            "Requirement already satisfied: nvidia-nvjitlink-cu12==12.4.127 in /usr/local/lib/python3.11/dist-packages (from torch) (12.4.127)\n",
            "Requirement already satisfied: triton==3.2.0 in /usr/local/lib/python3.11/dist-packages (from torch) (3.2.0)\n",
            "Requirement already satisfied: sympy==1.13.1 in /usr/local/lib/python3.11/dist-packages (from torch) (1.13.1)\n",
            "Requirement already satisfied: mpmath<1.4,>=1.1.0 in /usr/local/lib/python3.11/dist-packages (from sympy==1.13.1->torch) (1.3.0)\n",
            "Requirement already satisfied: numpy in /usr/local/lib/python3.11/dist-packages (from torchvision) (1.26.4)\n",
            "Requirement already satisfied: pillow!=8.3.*,>=5.3.0 in /usr/local/lib/python3.11/dist-packages (from torchvision) (11.1.0)\n",
            "Requirement already satisfied: MarkupSafe>=2.0 in /usr/local/lib/python3.11/dist-packages (from jinja2->torch) (3.0.2)\n",
            "Requirement already satisfied: numpy in /usr/local/lib/python3.11/dist-packages (1.26.4)\n"
          ]
        }
      ],
      "source": [
        "!pip3 install torch torchvision torchaudio\n",
        "!pip install numpy"
      ]
    },
    {
      "cell_type": "code",
      "execution_count": 104,
      "id": "bc7a363f-f14a-4f00-be8d-da08c02403e1",
      "metadata": {
        "tags": [],
        "colab": {
          "base_uri": "https://localhost:8080/"
        },
        "id": "bc7a363f-f14a-4f00-be8d-da08c02403e1",
        "outputId": "cd6fa205-a6f5-4874-fa75-a81cc5b444d0"
      },
      "outputs": [
        {
          "output_type": "stream",
          "name": "stdout",
          "text": [
            "3.11.11 (main, Dec  4 2024, 08:55:07) [GCC 11.4.0]\n"
          ]
        }
      ],
      "source": [
        "# With Python version are we running?\n",
        "import sys\n",
        "\n",
        "print(sys.version)"
      ]
    },
    {
      "cell_type": "markdown",
      "id": "b7470cbb-28c9-4108-90b6-6a14a2eb999c",
      "metadata": {
        "id": "b7470cbb-28c9-4108-90b6-6a14a2eb999c"
      },
      "source": [
        "## Introduction\n",
        "[PyTorch](https://pytorch.org/) is a deep learning framework, one of the two main frameworks alongside [TensorFlow](https://www.tensorflow.org/).\n",
        "\n",
        "Let's start by importing PyTorch. It is called **Py**Torch but it is installed and imported with\n",
        "\n",
        "`%pip install torch`"
      ]
    },
    {
      "cell_type": "code",
      "execution_count": 105,
      "id": "f8af9dd1-37b4-42e4-aad4-87a515735a0e",
      "metadata": {
        "tags": [],
        "colab": {
          "base_uri": "https://localhost:8080/"
        },
        "id": "f8af9dd1-37b4-42e4-aad4-87a515735a0e",
        "outputId": "4e330582-8a33-49f5-eeea-d19e1a0fd29a"
      },
      "outputs": [
        {
          "output_type": "stream",
          "name": "stdout",
          "text": [
            "2.6.0+cu124\n"
          ]
        }
      ],
      "source": [
        "import torch\n",
        "\n",
        "print(torch.__version__)"
      ]
    },
    {
      "cell_type": "code",
      "execution_count": 106,
      "id": "76c1100f-9bc1-41aa-9746-aa37636b9391",
      "metadata": {
        "tags": [],
        "id": "76c1100f-9bc1-41aa-9746-aa37636b9391"
      },
      "outputs": [],
      "source": [
        "# Most Neural Network functions are in the nn submodule:\n",
        "import torch.nn as nn"
      ]
    },
    {
      "cell_type": "code",
      "execution_count": 5,
      "id": "74033641-bf64-4a8c-af8a-03775c84a3b7",
      "metadata": {
        "tags": [],
        "colab": {
          "base_uri": "https://localhost:8080/"
        },
        "id": "74033641-bf64-4a8c-af8a-03775c84a3b7",
        "outputId": "89109c6f-9e2d-4bda-f626-cbb9090eee18"
      },
      "outputs": [
        {
          "output_type": "stream",
          "name": "stdout",
          "text": [
            "1.26.4\n"
          ]
        }
      ],
      "source": [
        "# We also use NumPy a lot:\n",
        "import numpy as np\n",
        "\n",
        "print(np.__version__)"
      ]
    },
    {
      "cell_type": "code",
      "execution_count": 6,
      "id": "e3c5df15-b324-40bc-aad7-174a9a96d602",
      "metadata": {
        "tags": [],
        "id": "e3c5df15-b324-40bc-aad7-174a9a96d602"
      },
      "outputs": [],
      "source": [
        "# Additionally, we import pretty print to print prettily\n",
        "from pprint import PrettyPrinter\n",
        "\n",
        "pp = PrettyPrinter().pprint"
      ]
    },
    {
      "cell_type": "markdown",
      "id": "dc298d22-800c-44f5-90de-99045d9ae3e0",
      "metadata": {
        "id": "dc298d22-800c-44f5-90de-99045d9ae3e0"
      },
      "source": [
        "## Part 1: Tensors\n",
        "\n",
        "**Tensors** are PyTorch's most basic building block.\n",
        "Each tensor is a multi-dimensional matrix; for example, a 256x256 square image might be represented by a `3x256x256` tensor, where the first dimension represents color.\n",
        "\n",
        "Here's how to create a tensor:"
      ]
    },
    {
      "cell_type": "code",
      "execution_count": 7,
      "id": "1cfdfe2d-2386-4a5b-b426-d5f98ca49ccc",
      "metadata": {
        "tags": [],
        "colab": {
          "base_uri": "https://localhost:8080/"
        },
        "id": "1cfdfe2d-2386-4a5b-b426-d5f98ca49ccc",
        "outputId": "d06c4f6e-8772-490c-dd40-308a9609699c"
      },
      "outputs": [
        {
          "output_type": "stream",
          "name": "stdout",
          "text": [
            "[[1, 2], [3, 4], [5, 6]]\n"
          ]
        }
      ],
      "source": [
        "list_of_lists = [\n",
        "    [1, 2],\n",
        "    [3, 4],\n",
        "    [5, 6],\n",
        "]\n",
        "pp(list_of_lists)"
      ]
    },
    {
      "cell_type": "markdown",
      "id": "8e7a612f-5bc7-4259-a9fc-a09985278f4e",
      "metadata": {
        "id": "8e7a612f-5bc7-4259-a9fc-a09985278f4e"
      },
      "source": [
        "And now in PyTorch:"
      ]
    },
    {
      "cell_type": "code",
      "execution_count": 8,
      "id": "bd15d3b9-0faa-4b68-bbe6-89e1f1159448",
      "metadata": {
        "tags": [],
        "colab": {
          "base_uri": "https://localhost:8080/"
        },
        "id": "bd15d3b9-0faa-4b68-bbe6-89e1f1159448",
        "outputId": "3a57564c-8b00-4570-ac84-29d32370126c"
      },
      "outputs": [
        {
          "output_type": "stream",
          "name": "stdout",
          "text": [
            "tensor([[0, 1],\n",
            "        [2, 3],\n",
            "        [4, 5]])\n"
          ]
        }
      ],
      "source": [
        "data = torch.tensor([[0, 1], [2, 3], [4, 5]])\n",
        "pp(data)"
      ]
    },
    {
      "cell_type": "markdown",
      "id": "db535666-b1c5-421d-b99b-9fc2d41083b3",
      "metadata": {
        "id": "db535666-b1c5-421d-b99b-9fc2d41083b3"
      },
      "source": [
        "Each tenser as a _predefined_ and _fixed_ **data type**:\n",
        "\n",
        "the major data types you'll handle are floating point numbers in 32bit precision: `torch.float32` and integers `torch.int`.\n",
        "\n",
        "You can specify this data type during the instatiation explicitly with the `dtype` argument:"
      ]
    },
    {
      "cell_type": "code",
      "execution_count": 9,
      "id": "3d26fd69-1e71-4917-9396-2ca014b57a60",
      "metadata": {
        "tags": [],
        "colab": {
          "base_uri": "https://localhost:8080/"
        },
        "id": "3d26fd69-1e71-4917-9396-2ca014b57a60",
        "outputId": "e955a894-70ae-42c9-939b-b32c0cb6e0b0"
      },
      "outputs": [
        {
          "output_type": "stream",
          "name": "stdout",
          "text": [
            "tensor([[0., 1.],\n",
            "        [2., 3.],\n",
            "        [4., 5.]])\n"
          ]
        }
      ],
      "source": [
        "data = torch.tensor([[0, 1], [2, 3], [4, 5]], dtype=torch.float32)\n",
        "\n",
        "pp(data)"
      ]
    },
    {
      "cell_type": "code",
      "execution_count": 10,
      "id": "f9457236-d444-4ff1-b1d9-f8d2e7e901fa",
      "metadata": {
        "tags": [],
        "colab": {
          "base_uri": "https://localhost:8080/"
        },
        "id": "f9457236-d444-4ff1-b1d9-f8d2e7e901fa",
        "outputId": "71af227e-daa7-4a2a-fa60-0b76d41a458f"
      },
      "outputs": [
        {
          "output_type": "stream",
          "name": "stdout",
          "text": [
            "torch.float32\n"
          ]
        }
      ],
      "source": [
        "pp(data.dtype)"
      ]
    },
    {
      "cell_type": "code",
      "execution_count": 11,
      "id": "d08af0dd-b0bd-45d8-9632-c8de4545adb8",
      "metadata": {
        "tags": [],
        "colab": {
          "base_uri": "https://localhost:8080/"
        },
        "id": "d08af0dd-b0bd-45d8-9632-c8de4545adb8",
        "outputId": "ec6ba3ab-6ea6-4a95-8f66-e4ce5b968c1e"
      },
      "outputs": [
        {
          "output_type": "stream",
          "name": "stdout",
          "text": [
            "tensor([[0.1111, 1.0000],\n",
            "        [2.0000, 3.0000],\n",
            "        [4.0000, 5.0000]])\n"
          ]
        }
      ],
      "source": [
        "data = torch.tensor([[0.11111111, 1], [2, 3], [4, 5]], dtype=torch.float32)\n",
        "pp(data)"
      ]
    },
    {
      "cell_type": "code",
      "execution_count": 12,
      "id": "6b26e195-6d99-4583-a5c1-97369ab27476",
      "metadata": {
        "tags": [],
        "colab": {
          "base_uri": "https://localhost:8080/"
        },
        "id": "6b26e195-6d99-4583-a5c1-97369ab27476",
        "outputId": "5961d19f-6e04-4b16-b6c8-a4f9f02dcbc1"
      },
      "outputs": [
        {
          "output_type": "stream",
          "name": "stdout",
          "text": [
            "tensor([[0.1111, 1.0000],\n",
            "        [2.0000, 3.0000],\n",
            "        [4.0000, 5.0000]])\n",
            "torch.float32\n"
          ]
        }
      ],
      "source": [
        "# A tensor can only have one data type. It uses the highest abstraction for all of them:\n",
        "data = torch.tensor([[0.11111111, 1], [2, 3], [4, 5]])\n",
        "pp(data)\n",
        "pp(data.dtype)"
      ]
    },
    {
      "cell_type": "markdown",
      "id": "eeef4340-a146-4b80-945f-7fca014eb347",
      "metadata": {
        "id": "eeef4340-a146-4b80-945f-7fca014eb347"
      },
      "source": [
        "Utility functions also exist to create tensors with given shapes and contents:"
      ]
    },
    {
      "cell_type": "code",
      "execution_count": 13,
      "id": "c69503a0-5a00-4337-91eb-da355693dbe4",
      "metadata": {
        "tags": [],
        "colab": {
          "base_uri": "https://localhost:8080/"
        },
        "id": "c69503a0-5a00-4337-91eb-da355693dbe4",
        "outputId": "1c4e3254-fd83-4ab2-abf0-d2a491a5a0dd"
      },
      "outputs": [
        {
          "output_type": "stream",
          "name": "stdout",
          "text": [
            "tensor([[0., 0., 0., 0., 0.],\n",
            "        [0., 0., 0., 0., 0.]])\n"
          ]
        }
      ],
      "source": [
        "zeros = torch.zeros(2, 5)  # a tensor of all zeros\n",
        "pp(zeros)"
      ]
    },
    {
      "cell_type": "code",
      "execution_count": 14,
      "id": "90444e48-f842-463f-906d-14f30cf7c097",
      "metadata": {
        "tags": [],
        "colab": {
          "base_uri": "https://localhost:8080/"
        },
        "id": "90444e48-f842-463f-906d-14f30cf7c097",
        "outputId": "3d5c4db3-d0ee-4801-826d-e0702f2b007f"
      },
      "outputs": [
        {
          "output_type": "stream",
          "name": "stdout",
          "text": [
            "tensor([[1., 1., 1., 1.],\n",
            "        [1., 1., 1., 1.],\n",
            "        [1., 1., 1., 1.]])\n"
          ]
        }
      ],
      "source": [
        "ones = torch.ones(3, 4)  # a tensor of all ones\n",
        "pp(ones)"
      ]
    },
    {
      "cell_type": "code",
      "execution_count": 15,
      "id": "5d33de93-b210-4d33-af5f-df7f8eb95a36",
      "metadata": {
        "tags": [],
        "colab": {
          "base_uri": "https://localhost:8080/"
        },
        "id": "5d33de93-b210-4d33-af5f-df7f8eb95a36",
        "outputId": "aa34abc8-c418-47be-8c50-c2013569c74e"
      },
      "outputs": [
        {
          "output_type": "stream",
          "name": "stdout",
          "text": [
            "tensor([1, 2, 3, 4, 5, 6, 7, 8, 9])\n"
          ]
        }
      ],
      "source": [
        "rr = torch.arange(1, 10)  # range from [1, 10)\n",
        "pp(rr)"
      ]
    },
    {
      "cell_type": "code",
      "execution_count": 16,
      "id": "db750706-91ce-4904-81eb-6bcae540f587",
      "metadata": {
        "tags": [],
        "colab": {
          "base_uri": "https://localhost:8080/"
        },
        "id": "db750706-91ce-4904-81eb-6bcae540f587",
        "outputId": "6484ab5c-9ff3-4cd8-afeb-884da62f8844"
      },
      "outputs": [
        {
          "output_type": "stream",
          "name": "stdout",
          "text": [
            "tensor([[1., 0., 0., 0., 0.],\n",
            "        [1., 1., 0., 0., 0.],\n",
            "        [1., 1., 1., 0., 0.],\n",
            "        [1., 1., 1., 1., 0.],\n",
            "        [1., 1., 1., 1., 1.]])\n"
          ]
        }
      ],
      "source": [
        "tril = torch.tril(torch.ones(5, 5))\n",
        "\n",
        "pp(tril)"
      ]
    },
    {
      "cell_type": "markdown",
      "id": "388c4e14-525e-4cd1-987a-2e44c153b9aa",
      "metadata": {
        "id": "388c4e14-525e-4cd1-987a-2e44c153b9aa"
      },
      "source": [
        "Math operators are **broadcasted** and applied elementwise!"
      ]
    },
    {
      "cell_type": "code",
      "execution_count": 17,
      "id": "9ad10d6a-34c1-4f9e-905a-de45c1e1f2ad",
      "metadata": {
        "tags": [],
        "colab": {
          "base_uri": "https://localhost:8080/"
        },
        "id": "9ad10d6a-34c1-4f9e-905a-de45c1e1f2ad",
        "outputId": "069fb6e2-ce44-446d-c101-5cc1fe670a3b"
      },
      "outputs": [
        {
          "output_type": "stream",
          "name": "stdout",
          "text": [
            "tensor([1, 2, 3, 4, 5, 6, 7, 8, 9])\n",
            "tensor([ 3,  4,  5,  6,  7,  8,  9, 10, 11])\n",
            "tensor([ 1,  4,  9, 16, 25, 36, 49, 64, 81])\n"
          ]
        }
      ],
      "source": [
        "pp(rr)\n",
        "\n",
        "pp(rr + 2)\n",
        "\n",
        "pp(rr**2)"
      ]
    },
    {
      "cell_type": "markdown",
      "id": "a3251937-d975-43c7-8df1-ca81a40e2beb",
      "metadata": {
        "id": "a3251937-d975-43c7-8df1-ca81a40e2beb"
      },
      "source": [
        "This also works with other tensors:"
      ]
    },
    {
      "cell_type": "code",
      "execution_count": 18,
      "id": "5cccd7a2-4f4b-4109-afb2-213812b3d57b",
      "metadata": {
        "tags": [],
        "colab": {
          "base_uri": "https://localhost:8080/"
        },
        "id": "5cccd7a2-4f4b-4109-afb2-213812b3d57b",
        "outputId": "2cbf8fa3-4ce1-4441-d73c-a78b06fccf7e"
      },
      "outputs": [
        {
          "output_type": "stream",
          "name": "stdout",
          "text": [
            "A is:\n",
            "tensor([[1, 2],\n",
            "        [2, 3],\n",
            "        [4, 5]])\n",
            "B is:\n",
            "tensor([[1, 2, 3, 4],\n",
            "        [5, 6, 7, 8]])\n"
          ]
        }
      ],
      "source": [
        "a = torch.tensor([[1, 2], [2, 3], [4, 5]])  # shape: (3, 2)\n",
        "b = torch.tensor([[1, 2, 3, 4], [5, 6, 7, 8]])  # shape: (2, 4)\n",
        "\n",
        "print(\"A is:\")\n",
        "pp(a)\n",
        "\n",
        "print(\"B is:\")\n",
        "pp(b)"
      ]
    },
    {
      "cell_type": "code",
      "execution_count": 19,
      "id": "d9a37aa7-ebdc-4bd9-ba6e-2c94e6a1965e",
      "metadata": {
        "tags": [],
        "colab": {
          "base_uri": "https://localhost:8080/"
        },
        "id": "d9a37aa7-ebdc-4bd9-ba6e-2c94e6a1965e",
        "outputId": "98f7e42e-5524-449f-b32c-391c976451ad"
      },
      "outputs": [
        {
          "output_type": "stream",
          "name": "stdout",
          "text": [
            "The product is:\n",
            "tensor([[11, 14, 17, 20],\n",
            "        [17, 22, 27, 32],\n",
            "        [29, 38, 47, 56]])\n"
          ]
        }
      ],
      "source": [
        "print(\"The product is:\")\n",
        "pp(a.matmul(b))"
      ]
    },
    {
      "cell_type": "code",
      "execution_count": 20,
      "id": "51051194-7dd9-425b-8a49-835b1de705f1",
      "metadata": {
        "tags": [],
        "colab": {
          "base_uri": "https://localhost:8080/"
        },
        "id": "51051194-7dd9-425b-8a49-835b1de705f1",
        "outputId": "9251d40f-be46-42e5-e1d0-a184d1863e6a"
      },
      "outputs": [
        {
          "output_type": "stream",
          "name": "stdout",
          "text": [
            "Special operator specifically for matrix multiplication:\n",
            "tensor([[11, 14, 17, 20],\n",
            "        [17, 22, 27, 32],\n",
            "        [29, 38, 47, 56]])\n"
          ]
        }
      ],
      "source": [
        "print(\"Special operator specifically for matrix multiplication:\")\n",
        "pp(a @ b)  # +, -, *, @"
      ]
    },
    {
      "cell_type": "code",
      "execution_count": 21,
      "id": "26d406c3-0ead-4b15-88ef-cda87cff3850",
      "metadata": {
        "tags": [],
        "id": "26d406c3-0ead-4b15-88ef-cda87cff3850"
      },
      "outputs": [],
      "source": [
        "# What about +?\n",
        "\n",
        "# pp(a + b)"
      ]
    },
    {
      "cell_type": "markdown",
      "id": "731228d7-fd5a-496d-9d0e-983800e10b98",
      "metadata": {
        "id": "731228d7-fd5a-496d-9d0e-983800e10b98"
      },
      "source": [
        "What about the shapes?"
      ]
    },
    {
      "cell_type": "code",
      "execution_count": 22,
      "id": "ed597293-9314-4e4f-9b9b-4cb36121a364",
      "metadata": {
        "tags": [],
        "colab": {
          "base_uri": "https://localhost:8080/"
        },
        "id": "ed597293-9314-4e4f-9b9b-4cb36121a364",
        "outputId": "6a527773-1ec9-453c-9e36-6f1aaa1da3f7"
      },
      "outputs": [
        {
          "output_type": "stream",
          "name": "stdout",
          "text": [
            "torch.Size([3])\n"
          ]
        }
      ],
      "source": [
        "v = torch.tensor([1, 2, 3])\n",
        "\n",
        "pp(v.shape)"
      ]
    },
    {
      "cell_type": "code",
      "execution_count": 23,
      "id": "664d7696-18ba-4f8f-a403-fbf542b7de1d",
      "metadata": {
        "tags": [],
        "colab": {
          "base_uri": "https://localhost:8080/"
        },
        "id": "664d7696-18ba-4f8f-a403-fbf542b7de1d",
        "outputId": "aba5d687-d17a-41da-cd7e-48bc7c748056"
      },
      "outputs": [
        {
          "output_type": "stream",
          "name": "stdout",
          "text": [
            "We're multiplying torch.Size([2, 3]) and torch.Size([3]).\n",
            "tensor([[1, 2, 3],\n",
            "        [4, 5, 6]])\n",
            "tensor([1, 2, 3])\n",
            "The result is torch.Size([2]).\n",
            "tensor([14, 32])\n"
          ]
        }
      ],
      "source": [
        "m = torch.tensor([[1, 2, 3], [4, 5, 6]])\n",
        "\n",
        "r = m @ v\n",
        "\n",
        "print(f\"We're multiplying {m.shape} and {v.shape}.\")\n",
        "pp(m)\n",
        "pp(v)\n",
        "print(f\"The result is {r.shape}.\")\n",
        "\n",
        "pp(r)"
      ]
    },
    {
      "cell_type": "markdown",
      "id": "30016e0e-739a-4def-baf2-86126a931a40",
      "metadata": {
        "id": "30016e0e-739a-4def-baf2-86126a931a40"
      },
      "source": [
        "The **shape** of a matrix (which can be accessed by `.shape`) is defined as the dimensions of the matrix.\n",
        "\n",
        "Here's some examples:"
      ]
    },
    {
      "cell_type": "code",
      "execution_count": 24,
      "id": "131b9fc6-05be-4d1e-bdc6-0bfd4dc3884c",
      "metadata": {
        "tags": [],
        "colab": {
          "base_uri": "https://localhost:8080/"
        },
        "id": "131b9fc6-05be-4d1e-bdc6-0bfd4dc3884c",
        "outputId": "96fde4a2-1970-4c97-b766-d55480634117"
      },
      "outputs": [
        {
          "output_type": "stream",
          "name": "stdout",
          "text": [
            "torch.Size([2, 3])\n",
            "tensor([[1, 2, 3],\n",
            "        [4, 5, 6]])\n"
          ]
        }
      ],
      "source": [
        "matr_2d = torch.tensor([[1, 2, 3], [4, 5, 6]])\n",
        "\n",
        "pp(matr_2d.shape)\n",
        "pp(matr_2d)"
      ]
    },
    {
      "cell_type": "code",
      "execution_count": 25,
      "id": "ee1973ef-d5de-46dd-9c08-f23c6ed356cd",
      "metadata": {
        "tags": [],
        "colab": {
          "base_uri": "https://localhost:8080/"
        },
        "id": "ee1973ef-d5de-46dd-9c08-f23c6ed356cd",
        "outputId": "fcb6cedf-54b5-43df-fe62-dc50236007da"
      },
      "outputs": [
        {
          "output_type": "stream",
          "name": "stdout",
          "text": [
            "tensor([[[ 1,  2,  3,  4],\n",
            "         [-2,  5,  6,  9]],\n",
            "\n",
            "        [[ 5,  6,  7,  2],\n",
            "         [ 8,  9, 10,  4]],\n",
            "\n",
            "        [[-3,  2,  2,  1],\n",
            "         [ 4,  6,  5,  9]]])\n",
            "torch.Size([3, 2, 4])\n"
          ]
        }
      ],
      "source": [
        "matr_3d = torch.tensor(\n",
        "    [\n",
        "        [[1, 2, 3, 4], [-2, 5, 6, 9]],\n",
        "        [[5, 6, 7, 2], [8, 9, 10, 4]],\n",
        "        [[-3, 2, 2, 1], [4, 6, 5, 9]],\n",
        "    ]\n",
        ")\n",
        "\n",
        "pp(matr_3d)\n",
        "pp(matr_3d.shape)"
      ]
    },
    {
      "cell_type": "markdown",
      "id": "c13eb62d-c9bc-4f3d-853f-05eed1699756",
      "metadata": {
        "id": "c13eb62d-c9bc-4f3d-853f-05eed1699756"
      },
      "source": [
        "**Reshaping** tensors can be used to make batch operations easier (more on that later), but be careful that the data is reshaped in the order you expect:"
      ]
    },
    {
      "cell_type": "code",
      "execution_count": 26,
      "id": "f31ff72e-0124-41f4-ad41-302e7c8a7fdb",
      "metadata": {
        "tags": [],
        "colab": {
          "base_uri": "https://localhost:8080/"
        },
        "id": "f31ff72e-0124-41f4-ad41-302e7c8a7fdb",
        "outputId": "e3bfee25-22f7-46ac-a81e-6c078c8a831d"
      },
      "outputs": [
        {
          "output_type": "stream",
          "name": "stdout",
          "text": [
            "The shape is currently torch.Size([15])\n",
            "The contents are currently:\n",
            "tensor([ 1,  2,  3,  4,  5,  6,  7,  8,  9, 10, 11, 12, 13, 14, 15])\n"
          ]
        }
      ],
      "source": [
        "rr = torch.arange(1, 16)\n",
        "print(f\"The shape is currently {rr.shape}\")\n",
        "print(\"The contents are currently:\")\n",
        "\n",
        "pp(rr)"
      ]
    },
    {
      "cell_type": "code",
      "execution_count": 27,
      "id": "fbad6cca-81fb-4fa7-a7e3-ca2d53f0e025",
      "metadata": {
        "tags": [],
        "colab": {
          "base_uri": "https://localhost:8080/"
        },
        "id": "fbad6cca-81fb-4fa7-a7e3-ca2d53f0e025",
        "outputId": "a3f37b74-98c8-4377-f7ab-9a432897418b"
      },
      "outputs": [
        {
          "output_type": "stream",
          "name": "stdout",
          "text": [
            "The shape is currently torch.Size([5, 3])\n",
            "The contents are currently:\n",
            "tensor([[ 1,  2,  3],\n",
            "        [ 4,  5,  6],\n",
            "        [ 7,  8,  9],\n",
            "        [10, 11, 12],\n",
            "        [13, 14, 15]])\n"
          ]
        }
      ],
      "source": [
        "rr = rr.view(5, 3)\n",
        "\n",
        "print(f\"The shape is currently {rr.shape}\")\n",
        "print(\"The contents are currently:\")\n",
        "\n",
        "pp(rr)"
      ]
    },
    {
      "cell_type": "markdown",
      "id": "ceefd7f4-8cfb-472d-814a-b7283b2b2ed4",
      "metadata": {
        "id": "ceefd7f4-8cfb-472d-814a-b7283b2b2ed4"
      },
      "source": [
        "Finally, you can also inter-convert tensors with **NumPy arrays**:"
      ]
    },
    {
      "cell_type": "code",
      "execution_count": 28,
      "id": "0a395f8d-002c-49f2-81ca-9b2d820f972d",
      "metadata": {
        "tags": [],
        "colab": {
          "base_uri": "https://localhost:8080/"
        },
        "id": "0a395f8d-002c-49f2-81ca-9b2d820f972d",
        "outputId": "dc659c3a-566b-4faa-8563-87adc5c5449b"
      },
      "outputs": [
        {
          "output_type": "stream",
          "name": "stdout",
          "text": [
            "This is a torch.tensor:\n",
            "(tensor([[1, 0, 5]]), <class 'torch.Tensor'>)\n",
            "This is a np.ndarray:\n",
            "(array([[1, 0, 5]]), <class 'numpy.ndarray'>)\n"
          ]
        }
      ],
      "source": [
        "# numpy.ndarray --> torch.Tensor:\n",
        "arr = np.array([[1, 0, 5]])\n",
        "data = torch.tensor(arr)\n",
        "print(\"This is a torch.tensor:\")\n",
        "pp((data, type(data)))\n",
        "\n",
        "# torch.Tensor --> numpy.ndarray:\n",
        "new_arr = data.numpy()\n",
        "print(\"This is a np.ndarray:\")\n",
        "pp((new_arr, type(new_arr)))"
      ]
    },
    {
      "cell_type": "markdown",
      "id": "03f023e4-df4e-41f7-aed6-59633adaed18",
      "metadata": {
        "id": "03f023e4-df4e-41f7-aed6-59633adaed18"
      },
      "source": [
        "One of the reasons why we use **tensors** is *vectorized operations*:\n",
        "operations that be conducted in parallel over a particular dimension of a tensor."
      ]
    },
    {
      "cell_type": "code",
      "execution_count": 29,
      "id": "dee61e43-3d26-443b-aea1-ce89d83f5509",
      "metadata": {
        "tags": [],
        "colab": {
          "base_uri": "https://localhost:8080/"
        },
        "id": "dee61e43-3d26-443b-aea1-ce89d83f5509",
        "outputId": "3ebba54f-72c5-4f51-f6c4-dc9dea5f3642"
      },
      "outputs": [
        {
          "output_type": "stream",
          "name": "stdout",
          "text": [
            "Data is:\n",
            "tensor([[ 1.,  2.,  3.,  4.,  5.,  6.,  7.],\n",
            "        [ 8.,  9., 10., 11., 12., 13., 14.],\n",
            "        [15., 16., 17., 18., 19., 20., 21.],\n",
            "        [22., 23., 24., 25., 26., 27., 28.],\n",
            "        [29., 30., 31., 32., 33., 34., 35.]])\n"
          ]
        }
      ],
      "source": [
        "data = torch.arange(1, 36, dtype=torch.float32).reshape(5, 7)\n",
        "\n",
        "print(\"Data is:\")\n",
        "pp(data)"
      ]
    },
    {
      "cell_type": "code",
      "execution_count": 30,
      "id": "58ae0f77-6491-44dc-bf43-9b3fcc03c303",
      "metadata": {
        "tags": [],
        "colab": {
          "base_uri": "https://localhost:8080/"
        },
        "id": "58ae0f77-6491-44dc-bf43-9b3fcc03c303",
        "outputId": "bc624ebb-941a-49a4-c194-2e4fcdf844f9"
      },
      "outputs": [
        {
          "output_type": "stream",
          "name": "stdout",
          "text": [
            "Taking the sum over columns:\n",
            "tensor([ 75.,  80.,  85.,  90.,  95., 100., 105.])\n"
          ]
        }
      ],
      "source": [
        "# We can perform operations like *sum* over each row...\n",
        "print(\"Taking the sum over columns:\")\n",
        "pp(data.sum(dim=0))"
      ]
    },
    {
      "cell_type": "code",
      "execution_count": 31,
      "id": "3dcddb50-31bd-4e35-843a-e94b5c2cf599",
      "metadata": {
        "tags": [],
        "colab": {
          "base_uri": "https://localhost:8080/"
        },
        "id": "3dcddb50-31bd-4e35-843a-e94b5c2cf599",
        "outputId": "76ca5194-4fa5-4874-b3c0-c73b7546581d"
      },
      "outputs": [
        {
          "output_type": "stream",
          "name": "stdout",
          "text": [
            "Taking thep sum over rows:\n",
            "tensor([ 28.,  77., 126., 175., 224.])\n"
          ]
        }
      ],
      "source": [
        "# or over each column.\n",
        "print(\"Taking thep sum over rows:\")\n",
        "pp(data.sum(dim=1))"
      ]
    },
    {
      "cell_type": "code",
      "execution_count": 32,
      "id": "02221ee9-513e-40f1-8aa0-03a773be85b2",
      "metadata": {
        "tags": [],
        "colab": {
          "base_uri": "https://localhost:8080/"
        },
        "id": "02221ee9-513e-40f1-8aa0-03a773be85b2",
        "outputId": "ad1d692e-fb2f-41b1-dbb3-6fbd99f23b9e"
      },
      "outputs": [
        {
          "output_type": "stream",
          "name": "stdout",
          "text": [
            "Taking the stdev over rows:\n",
            "tensor([2.1602, 2.1602, 2.1602, 2.1602, 2.1602])\n"
          ]
        }
      ],
      "source": [
        "# Other operations are available:\n",
        "print(\"Taking the stdev over rows:\")\n",
        "pp(data.std(dim=1))"
      ]
    },
    {
      "cell_type": "code",
      "execution_count": 33,
      "id": "1c2cfa06-2476-4e9a-9e3b-15b6b122b763",
      "metadata": {
        "tags": [],
        "colab": {
          "base_uri": "https://localhost:8080/"
        },
        "id": "1c2cfa06-2476-4e9a-9e3b-15b6b122b763",
        "outputId": "acc0166b-5040-4d23-bfcc-92feafc58e99"
      },
      "outputs": [
        {
          "output_type": "stream",
          "name": "stdout",
          "text": [
            "tensor(630.)\n"
          ]
        }
      ],
      "source": [
        "# No dimension: Sum everything\n",
        "pp(data.sum())"
      ]
    },
    {
      "cell_type": "markdown",
      "id": "82514202-8e0a-44f3-95ef-00ab5a97cecf",
      "metadata": {
        "id": "82514202-8e0a-44f3-95ef-00ab5a97cecf"
      },
      "source": [
        "#### TASK 4.1\n",
        "\n",
        "Write code that creates a `torch.tensor` with the following contents:\n",
        "$\\begin{bmatrix} 2 & 2.3 & -9.6 \\\\ -1 & -7.2 & 6.3 \\end{bmatrix}$\n",
        "\n",
        "Now compute the average of each row (`.mean()`) and each column.\n",
        "\n",
        "What's the shape of the results?\n",
        "\n"
      ]
    },
    {
      "cell_type": "code",
      "execution_count": 41,
      "id": "526d8dbb",
      "metadata": {
        "colab": {
          "base_uri": "https://localhost:8080/"
        },
        "id": "526d8dbb",
        "outputId": "31587001-c7af-40ac-d7a6-d7ba562a0a70"
      },
      "outputs": [
        {
          "output_type": "stream",
          "name": "stdout",
          "text": [
            "Row: torch.Size([2]), Column: torch.Size([3])\n"
          ]
        }
      ],
      "source": [
        "### IMPLEMENT YOUR SOLUTION HERE ###\n",
        "\n",
        "task4_1 = torch.tensor([[2, 2.3, -9.6], [-1, -7.2, 6.3]])\n",
        "\n",
        "row_mean = task4_1.mean(dim=1)\n",
        "col_mean = task4_1.mean(dim=0)\n",
        "\n",
        "print(f\"Row: {row_mean.shape}, Column: {col_mean.shape}\")"
      ]
    },
    {
      "cell_type": "markdown",
      "id": "c2f3f501-191a-4858-9cec-f56db2686ca4",
      "metadata": {
        "id": "c2f3f501-191a-4858-9cec-f56db2686ca4"
      },
      "source": [
        "**Indexing**\n",
        "\n",
        "You can access arbitrary elements of a tensor using the `[]` operator. (Like with ordinary lists, np.arrays, etc.)"
      ]
    },
    {
      "cell_type": "code",
      "execution_count": 39,
      "id": "003688f9-8a8e-4a9a-9bc8-f2397a5bb7c7",
      "metadata": {
        "tags": [],
        "colab": {
          "base_uri": "https://localhost:8080/"
        },
        "id": "003688f9-8a8e-4a9a-9bc8-f2397a5bb7c7",
        "outputId": "c750e4a1-2398-4fbd-d04d-d3a743358f62"
      },
      "outputs": [
        {
          "output_type": "stream",
          "name": "stdout",
          "text": [
            "tensor([[[ 1.,  2.],\n",
            "         [ 3.,  4.]],\n",
            "\n",
            "        [[ 5.,  6.],\n",
            "         [ 7.,  8.]],\n",
            "\n",
            "        [[ 9., 10.],\n",
            "         [11., 12.]]])\n"
          ]
        }
      ],
      "source": [
        "# Initialize an example tensor\n",
        "x = torch.Tensor([[[1, 2], [3, 4]], [[5, 6], [7, 8]], [[9, 10], [11, 12]]])\n",
        "pp(x)"
      ]
    },
    {
      "cell_type": "code",
      "execution_count": 40,
      "id": "d6bd52fd-ca78-4823-85c5-84256e2bb23b",
      "metadata": {
        "tags": [],
        "colab": {
          "base_uri": "https://localhost:8080/"
        },
        "id": "d6bd52fd-ca78-4823-85c5-84256e2bb23b",
        "outputId": "35fcb820-c89b-494b-ced0-f70bc71862d7"
      },
      "outputs": [
        {
          "output_type": "execute_result",
          "data": {
            "text/plain": [
              "torch.Size([3, 2, 2])"
            ]
          },
          "metadata": {},
          "execution_count": 40
        }
      ],
      "source": [
        "x.shape"
      ]
    },
    {
      "cell_type": "code",
      "execution_count": 42,
      "id": "1d776b0b-29a5-4587-9af4-b86096bd2c3a",
      "metadata": {
        "tags": [],
        "colab": {
          "base_uri": "https://localhost:8080/"
        },
        "id": "1d776b0b-29a5-4587-9af4-b86096bd2c3a",
        "outputId": "05e5c91b-43fd-405e-c877-ad2d552d4f86"
      },
      "outputs": [
        {
          "output_type": "execute_result",
          "data": {
            "text/plain": [
              "tensor([[1., 2.],\n",
              "        [3., 4.]])"
            ]
          },
          "metadata": {},
          "execution_count": 42
        }
      ],
      "source": [
        "# Access the 0th element, which is the first row\n",
        "x[0]"
      ]
    },
    {
      "cell_type": "code",
      "execution_count": 43,
      "id": "901c553b-5637-4c66-946b-37f4244a8427",
      "metadata": {
        "tags": [],
        "colab": {
          "base_uri": "https://localhost:8080/"
        },
        "id": "901c553b-5637-4c66-946b-37f4244a8427",
        "outputId": "586cdb1e-1317-415f-ea73-30c0849533d5"
      },
      "outputs": [
        {
          "output_type": "execute_result",
          "data": {
            "text/plain": [
              "tensor([[1., 2.],\n",
              "        [3., 4.]])"
            ]
          },
          "metadata": {},
          "execution_count": 43
        }
      ],
      "source": [
        "# Which is equivalent to\n",
        "x[0, :]  # select the row at position 0 and everything else"
      ]
    },
    {
      "cell_type": "code",
      "execution_count": 44,
      "id": "dd039e0b",
      "metadata": {
        "colab": {
          "base_uri": "https://localhost:8080/"
        },
        "id": "dd039e0b",
        "outputId": "8c159117-cf01-473b-d9af-4944a60b4ce6"
      },
      "outputs": [
        {
          "output_type": "execute_result",
          "data": {
            "text/plain": [
              "tensor([[5., 6.],\n",
              "        [7., 8.]])"
            ]
          },
          "metadata": {},
          "execution_count": 44
        }
      ],
      "source": [
        "x[1,:]"
      ]
    },
    {
      "cell_type": "code",
      "execution_count": 45,
      "id": "3de42c9b",
      "metadata": {
        "colab": {
          "base_uri": "https://localhost:8080/"
        },
        "id": "3de42c9b",
        "outputId": "ff57ed43-4158-4a1d-f8d2-ce3d0be0157a"
      },
      "outputs": [
        {
          "output_type": "execute_result",
          "data": {
            "text/plain": [
              "tensor([ 4.,  8., 12.])"
            ]
          },
          "metadata": {},
          "execution_count": 45
        }
      ],
      "source": [
        "x[:,1,1]"
      ]
    },
    {
      "cell_type": "code",
      "execution_count": 46,
      "id": "6c49b3e8-0e19-43d8-834d-2eaf65d73b94",
      "metadata": {
        "tags": [],
        "colab": {
          "base_uri": "https://localhost:8080/"
        },
        "id": "6c49b3e8-0e19-43d8-834d-2eaf65d73b94",
        "outputId": "31126c32-ba47-4a69-c24b-5eb0a2945c07"
      },
      "outputs": [
        {
          "output_type": "execute_result",
          "data": {
            "text/plain": [
              "tensor([[ 1.,  2.],\n",
              "        [ 5.,  6.],\n",
              "        [ 9., 10.]])"
            ]
          },
          "metadata": {},
          "execution_count": 46
        }
      ],
      "source": [
        "x[:, 0]"
      ]
    },
    {
      "cell_type": "code",
      "execution_count": 47,
      "id": "75a10ebf-2bb5-4312-89c6-f34a88f57ec9",
      "metadata": {
        "tags": [],
        "colab": {
          "base_uri": "https://localhost:8080/"
        },
        "id": "75a10ebf-2bb5-4312-89c6-f34a88f57ec9",
        "outputId": "dce9e9b2-5502-49ba-9693-9a931ecddcf1"
      },
      "outputs": [
        {
          "output_type": "execute_result",
          "data": {
            "text/plain": [
              "tensor([[ 3.,  4.],\n",
              "        [ 7.,  8.],\n",
              "        [11., 12.]])"
            ]
          },
          "metadata": {},
          "execution_count": 47
        }
      ],
      "source": [
        "x[:, 1]"
      ]
    },
    {
      "cell_type": "code",
      "execution_count": 48,
      "id": "daa51b30-6b26-4022-b322-6906a07cca62",
      "metadata": {
        "tags": [],
        "colab": {
          "base_uri": "https://localhost:8080/"
        },
        "id": "daa51b30-6b26-4022-b322-6906a07cca62",
        "outputId": "634b3426-0815-4048-b23e-ebbdb7327a3d"
      },
      "outputs": [
        {
          "output_type": "stream",
          "name": "stdout",
          "text": [
            "tensor([[ 1,  2,  3],\n",
            "        [ 4,  5,  6],\n",
            "        [ 7,  8,  9],\n",
            "        [10, 11, 12],\n",
            "        [13, 14, 15]])\n"
          ]
        }
      ],
      "source": [
        "matr = torch.arange(1, 16).view(5, 3)\n",
        "pp(matr)"
      ]
    },
    {
      "cell_type": "code",
      "execution_count": 49,
      "id": "f1cd6daf-42a2-4a6a-814a-cb62460f93dc",
      "metadata": {
        "tags": [],
        "colab": {
          "base_uri": "https://localhost:8080/"
        },
        "id": "f1cd6daf-42a2-4a6a-814a-cb62460f93dc",
        "outputId": "61096a09-111b-4ca9-b1a5-cb93fae36edd"
      },
      "outputs": [
        {
          "output_type": "execute_result",
          "data": {
            "text/plain": [
              "tensor([1, 2, 3])"
            ]
          },
          "metadata": {},
          "execution_count": 49
        }
      ],
      "source": [
        "matr[0]"
      ]
    },
    {
      "cell_type": "code",
      "execution_count": 50,
      "id": "0e493f81-1290-4712-a31d-ca700bcb3a5e",
      "metadata": {
        "tags": [],
        "colab": {
          "base_uri": "https://localhost:8080/"
        },
        "id": "0e493f81-1290-4712-a31d-ca700bcb3a5e",
        "outputId": "25d1f3f9-0558-416c-835c-8a7a52f094c1"
      },
      "outputs": [
        {
          "output_type": "execute_result",
          "data": {
            "text/plain": [
              "tensor([1, 2, 3])"
            ]
          },
          "metadata": {},
          "execution_count": 50
        }
      ],
      "source": [
        "matr[0, :]"
      ]
    },
    {
      "cell_type": "code",
      "execution_count": 51,
      "id": "dee4bb8e-3c97-480b-abb3-50c3fa172966",
      "metadata": {
        "tags": [],
        "colab": {
          "base_uri": "https://localhost:8080/"
        },
        "id": "dee4bb8e-3c97-480b-abb3-50c3fa172966",
        "outputId": "3d2cc3d8-c2d5-4e9f-dd6c-3538485e7af8"
      },
      "outputs": [
        {
          "output_type": "execute_result",
          "data": {
            "text/plain": [
              "tensor([ 1,  4,  7, 10, 13])"
            ]
          },
          "metadata": {},
          "execution_count": 51
        }
      ],
      "source": [
        "matr[:, 0]"
      ]
    },
    {
      "cell_type": "code",
      "execution_count": 52,
      "id": "06c84650-5d35-4020-8dd9-0bc7a5fb2f96",
      "metadata": {
        "tags": [],
        "colab": {
          "base_uri": "https://localhost:8080/"
        },
        "id": "06c84650-5d35-4020-8dd9-0bc7a5fb2f96",
        "outputId": "e5568ffa-37f4-441b-a5a9-6e5009d870ef"
      },
      "outputs": [
        {
          "output_type": "execute_result",
          "data": {
            "text/plain": [
              "tensor([[1, 2, 3],\n",
              "        [4, 5, 6],\n",
              "        [7, 8, 9]])"
            ]
          },
          "metadata": {},
          "execution_count": 52
        }
      ],
      "source": [
        "matr[0:3]"
      ]
    },
    {
      "cell_type": "code",
      "execution_count": 53,
      "id": "e219d849-7014-4b7e-97f4-5fc477aee239",
      "metadata": {
        "tags": [],
        "colab": {
          "base_uri": "https://localhost:8080/"
        },
        "id": "e219d849-7014-4b7e-97f4-5fc477aee239",
        "outputId": "2c3acb1e-0b26-433d-8190-5c657a23b713"
      },
      "outputs": [
        {
          "output_type": "execute_result",
          "data": {
            "text/plain": [
              "tensor([[ 1,  2],\n",
              "        [ 4,  5],\n",
              "        [ 7,  8],\n",
              "        [10, 11],\n",
              "        [13, 14]])"
            ]
          },
          "metadata": {},
          "execution_count": 53
        }
      ],
      "source": [
        "matr[:, 0:2]"
      ]
    },
    {
      "cell_type": "code",
      "execution_count": 54,
      "id": "c564246e-1e4d-4ae8-bcc3-2ef21e4ebda9",
      "metadata": {
        "tags": [],
        "colab": {
          "base_uri": "https://localhost:8080/"
        },
        "id": "c564246e-1e4d-4ae8-bcc3-2ef21e4ebda9",
        "outputId": "a63dce0e-35c0-47c2-ea69-5b1b35d29fde"
      },
      "outputs": [
        {
          "output_type": "execute_result",
          "data": {
            "text/plain": [
              "tensor([[1, 2],\n",
              "        [4, 5],\n",
              "        [7, 8]])"
            ]
          },
          "metadata": {},
          "execution_count": 54
        }
      ],
      "source": [
        "matr[0:3, 0:2]"
      ]
    },
    {
      "cell_type": "code",
      "execution_count": 56,
      "id": "640f7a31-b9d2-4c21-879c-79a22270858d",
      "metadata": {
        "tags": [],
        "colab": {
          "base_uri": "https://localhost:8080/"
        },
        "id": "640f7a31-b9d2-4c21-879c-79a22270858d",
        "outputId": "e9e0bee8-ff4e-419b-aa59-93b4097ced5d"
      },
      "outputs": [
        {
          "output_type": "execute_result",
          "data": {
            "text/plain": [
              "tensor(3)"
            ]
          },
          "metadata": {},
          "execution_count": 56
        }
      ],
      "source": [
        "matr[0][2]"
      ]
    },
    {
      "cell_type": "code",
      "execution_count": 55,
      "id": "decef503-029a-4cc2-a3e5-f30bca9d50ea",
      "metadata": {
        "tags": [],
        "colab": {
          "base_uri": "https://localhost:8080/"
        },
        "id": "decef503-029a-4cc2-a3e5-f30bca9d50ea",
        "outputId": "59862394-165e-45d8-ba62-ba48ffb2cbb0"
      },
      "outputs": [
        {
          "output_type": "stream",
          "name": "stdout",
          "text": [
            "tensor([3, 6, 9])\n",
            "tensor([7, 8, 9])\n"
          ]
        }
      ],
      "source": [
        "pp(matr[0:3, 2])\n",
        "# this is not equal to:\n",
        "pp(matr[0:3][2])"
      ]
    },
    {
      "cell_type": "code",
      "execution_count": 57,
      "id": "668376ca-2db5-405e-8bb6-898ce2c81eeb",
      "metadata": {
        "tags": [],
        "colab": {
          "base_uri": "https://localhost:8080/"
        },
        "id": "668376ca-2db5-405e-8bb6-898ce2c81eeb",
        "outputId": "c2478652-2f68-4843-f6a5-60db05722140"
      },
      "outputs": [
        {
          "output_type": "execute_result",
          "data": {
            "text/plain": [
              "tensor([[1, 2, 3],\n",
              "        [4, 5, 6],\n",
              "        [7, 8, 9]])"
            ]
          },
          "metadata": {},
          "execution_count": 57
        }
      ],
      "source": [
        "matr[0:3]"
      ]
    },
    {
      "cell_type": "code",
      "execution_count": 58,
      "id": "a6702b8e-8005-4f30-9476-9e96d36526f2",
      "metadata": {
        "tags": [],
        "colab": {
          "base_uri": "https://localhost:8080/"
        },
        "id": "a6702b8e-8005-4f30-9476-9e96d36526f2",
        "outputId": "d1e8779c-187f-43fb-d3d5-ae6bfb72715a"
      },
      "outputs": [
        {
          "output_type": "execute_result",
          "data": {
            "text/plain": [
              "tensor([[ 1,  2,  3],\n",
              "        [ 7,  8,  9],\n",
              "        [13, 14, 15]])"
            ]
          },
          "metadata": {},
          "execution_count": 58
        }
      ],
      "source": [
        "matr[[0, 2, 4]]"
      ]
    },
    {
      "cell_type": "markdown",
      "id": "912ad0c4-fdac-4625-a2d2-198fd53acc22",
      "metadata": {
        "id": "912ad0c4-fdac-4625-a2d2-198fd53acc22"
      },
      "source": [
        "We can also index into multiple dimensions with `:`."
      ]
    },
    {
      "cell_type": "code",
      "execution_count": 59,
      "id": "a49c048a-a4af-40c7-a121-e4f258de22e3",
      "metadata": {
        "tags": [],
        "colab": {
          "base_uri": "https://localhost:8080/"
        },
        "id": "a49c048a-a4af-40c7-a121-e4f258de22e3",
        "outputId": "e4db3c84-1a91-4b12-ba73-310bff25a9b0"
      },
      "outputs": [
        {
          "output_type": "execute_result",
          "data": {
            "text/plain": [
              "tensor([1., 5., 9.])"
            ]
          },
          "metadata": {},
          "execution_count": 59
        }
      ],
      "source": [
        "# Get the top left element of each element in our tensor\n",
        "x[:, 0, 0]"
      ]
    },
    {
      "cell_type": "code",
      "execution_count": 60,
      "id": "c3ec8a52-e5ff-4bb8-afbf-d1552e11f06b",
      "metadata": {
        "tags": [],
        "colab": {
          "base_uri": "https://localhost:8080/"
        },
        "id": "c3ec8a52-e5ff-4bb8-afbf-d1552e11f06b",
        "outputId": "d2e3e545-4c3e-4936-9c52-a70d3d7b46b7"
      },
      "outputs": [
        {
          "output_type": "execute_result",
          "data": {
            "text/plain": [
              "tensor([[[ 1.,  2.],\n",
              "         [ 3.,  4.]],\n",
              "\n",
              "        [[ 5.,  6.],\n",
              "         [ 7.,  8.]],\n",
              "\n",
              "        [[ 9., 10.],\n",
              "         [11., 12.]]])"
            ]
          },
          "metadata": {},
          "execution_count": 60
        }
      ],
      "source": [
        "x[:, :, :]"
      ]
    },
    {
      "cell_type": "code",
      "execution_count": 61,
      "id": "83245639-da80-4a48-8046-c7452b93135f",
      "metadata": {
        "tags": [],
        "colab": {
          "base_uri": "https://localhost:8080/"
        },
        "id": "83245639-da80-4a48-8046-c7452b93135f",
        "outputId": "d70dc8bc-c1f0-476a-f4fb-2ad6f45586f0"
      },
      "outputs": [
        {
          "output_type": "execute_result",
          "data": {
            "text/plain": [
              "tensor([[[ 1.,  2.],\n",
              "         [ 3.,  4.]],\n",
              "\n",
              "        [[ 5.,  6.],\n",
              "         [ 7.,  8.]],\n",
              "\n",
              "        [[ 9., 10.],\n",
              "         [11., 12.]]])"
            ]
          },
          "metadata": {},
          "execution_count": 61
        }
      ],
      "source": [
        "# Print x again to see our tensor\n",
        "x"
      ]
    },
    {
      "cell_type": "code",
      "execution_count": 62,
      "id": "dda07de0-7866-454a-a698-bb84b6a7aae2",
      "metadata": {
        "tags": [],
        "colab": {
          "base_uri": "https://localhost:8080/"
        },
        "id": "dda07de0-7866-454a-a698-bb84b6a7aae2",
        "outputId": "c773280e-be0f-494f-ed94-22cf5adad196"
      },
      "outputs": [
        {
          "output_type": "execute_result",
          "data": {
            "text/plain": [
              "tensor([[[1., 2.],\n",
              "         [3., 4.]],\n",
              "\n",
              "        [[1., 2.],\n",
              "         [3., 4.]],\n",
              "\n",
              "        [[5., 6.],\n",
              "         [7., 8.]],\n",
              "\n",
              "        [[5., 6.],\n",
              "         [7., 8.]]])"
            ]
          },
          "metadata": {},
          "execution_count": 62
        }
      ],
      "source": [
        "# Let's access the 0th and 1st elements, each twice\n",
        "i = torch.tensor([0, 0, 1, 1])\n",
        "x[i]\n",
        "\n",
        "# this can be seen as: [x[0], x[0], x[1], x[1]]"
      ]
    },
    {
      "cell_type": "code",
      "execution_count": 63,
      "id": "5529dd56-772e-4790-9d3f-e11260fcc5e4",
      "metadata": {
        "tags": [],
        "colab": {
          "base_uri": "https://localhost:8080/"
        },
        "id": "5529dd56-772e-4790-9d3f-e11260fcc5e4",
        "outputId": "37b8d5ba-ca80-4964-9747-12424fe2a5da"
      },
      "outputs": [
        {
          "output_type": "execute_result",
          "data": {
            "text/plain": [
              "tensor([[ 5.,  6.],\n",
              "        [ 9., 10.]])"
            ]
          },
          "metadata": {},
          "execution_count": 63
        }
      ],
      "source": [
        "# Let's access the 0th elements of the 1st and 2nd elements\n",
        "i = torch.tensor([1, 2])\n",
        "j = torch.tensor([0])\n",
        "\n",
        "x[i, j]"
      ]
    },
    {
      "cell_type": "markdown",
      "id": "e37b90fd-85fa-426c-8f98-2152728e69c1",
      "metadata": {
        "id": "e37b90fd-85fa-426c-8f98-2152728e69c1"
      },
      "source": [
        "We can get a `Python` scalar value from a tensor with `item()`.\n",
        "\n"
      ]
    },
    {
      "cell_type": "code",
      "execution_count": 64,
      "id": "435dc2af-64fa-4342-a48e-81600b50adc8",
      "metadata": {
        "tags": [],
        "colab": {
          "base_uri": "https://localhost:8080/"
        },
        "id": "435dc2af-64fa-4342-a48e-81600b50adc8",
        "outputId": "9c9f8388-b0fa-4ec3-820b-29e8a86ceb9e"
      },
      "outputs": [
        {
          "output_type": "stream",
          "name": "stdout",
          "text": [
            "tensor(1.)\n",
            "1.0\n"
          ]
        }
      ],
      "source": [
        "# tensor:\n",
        "pp(x[0, 0, 0])\n",
        "# scalar:\n",
        "pp(x[0, 0, 0].item())"
      ]
    },
    {
      "cell_type": "markdown",
      "id": "fd5d4224",
      "metadata": {
        "id": "fd5d4224"
      },
      "source": [
        "#### TASK 4.2\n",
        "\n",
        "Write a function that returns the 2 diagonals of the matrix `x`.\n",
        "\n",
        "$$ x = \\left( \\begin{matrix} [[1 & 2] [3 & 4]] \\\\ [[5 & 6] [7 & 8]] \\\\ [[9 & 10] [11 & 12]] \\end{matrix} \\right) $$\n",
        "\n",
        "We define the diagonals as follows:\n",
        "\n",
        "diagonal 1 = [1.0, 6.0, 11.0]\n",
        "$$ x = \\left( \\begin{matrix} [[\\boxed{\\textcolor{red}{1}} & 2] [3 & 4]] \\\\ [[5 & \\boxed{\\textcolor{red}{6}}] [7 & 8]] \\\\ [[9 & 10] [\\boxed{\\textcolor{red}{11}} & 12]] \\end{matrix} \\right) $$\n",
        "\n",
        "diagonal 2 = [2.0, 7.0, 12.0]\n",
        "$$ x = \\left( \\begin{matrix} [[1 & \\boxed{\\textcolor{red}{2}}] [3 & 4]] \\\\ [[5 & 6] [\\boxed{\\textcolor{red}{7}} & 8]] \\\\ [[9 & 10] [11 & \\boxed{\\textcolor{red}{12}}]] \\end{matrix} \\right) $$\n",
        "\n",
        "The function should work with every matrix with the dimensions 3 x 2 x 2.  "
      ]
    },
    {
      "cell_type": "code",
      "execution_count": 95,
      "id": "a77fc16a",
      "metadata": {
        "id": "a77fc16a"
      },
      "outputs": [],
      "source": [
        "def get_diagonal(number, matr):\n",
        "    \"\"\"calculate the diagonal of a matrix.\n",
        "\n",
        "    number -> int: the number of the digaonal to be calculated. example: 0 -> first diagonal\n",
        "\n",
        "    matr -> torch.Tensor: the matrix to calculate the diagonal of.\n",
        "\n",
        "    example:\n",
        "    matr = torch.Tensor([[[1, 2], [3, 4]], [[5, 6], [7, 8]], [[9, 10], [11, 12]]])\n",
        "\n",
        "    get_diagonal(number=0, matr) -> [1, 6, 11]\n",
        "    get_diagonal(number=1, matr) -> [2, 7, 12]\n",
        "    \"\"\"\n",
        "    result = []\n",
        "    ### IMPLEMENT YOUR SOLUTION HERE ###\n",
        "    shape = matr.shape\n",
        "    row_numbers = shape[0]\n",
        "    column_numbers = shape[1]*shape[2]\n",
        "    for i in range(min (row_numbers, column_numbers)):\n",
        "      result.append(matr[i].flatten()[number].item())\n",
        "      number += 1\n",
        "    return result"
      ]
    },
    {
      "cell_type": "code",
      "execution_count": 96,
      "id": "6edc872a",
      "metadata": {
        "colab": {
          "base_uri": "https://localhost:8080/"
        },
        "id": "6edc872a",
        "outputId": "617899b4-ca2a-4bd5-a37d-95b399b8e779"
      },
      "outputs": [
        {
          "output_type": "stream",
          "name": "stdout",
          "text": [
            "[1.0, 6.0, 11.0]\n",
            "[2.0, 7.0, 12.0]\n"
          ]
        }
      ],
      "source": [
        "test_x = torch.Tensor([[[1, 2], [3, 4]], [[5, 6], [7, 8]], [[9, 10], [11, 12]]])\n",
        "# first diagonal\n",
        "pp(get_diagonal(0, test_x))\n",
        "# expected output: [1.0, 6.0, 11.0]\n",
        "\n",
        "# second diagonal\n",
        "pp(get_diagonal(1, test_x))\n",
        "# expected output: [2.0, 7.0, 12.0]"
      ]
    },
    {
      "cell_type": "code",
      "execution_count": 97,
      "id": "a73d2671",
      "metadata": {
        "colab": {
          "base_uri": "https://localhost:8080/"
        },
        "id": "a73d2671",
        "outputId": "191d5210-376b-4661-ee7e-1b53d2f97267"
      },
      "outputs": [
        {
          "output_type": "stream",
          "name": "stdout",
          "text": [
            "tensor([[[1, 4],\n",
            "         [3, 4]],\n",
            "\n",
            "        [[3, 2],\n",
            "         [7, 6]],\n",
            "\n",
            "        [[7, 9],\n",
            "         [4, 2]]])\n",
            "[1, 2, 4]\n",
            "[4, 7, 2]\n"
          ]
        }
      ],
      "source": [
        "# generate a random 3x2x2 matrix with integers between 0 and 10\n",
        "rand_x = torch.randint(0, 10, (3, 2, 2))\n",
        "\n",
        "pp(rand_x)\n",
        "\n",
        "# first diagonal\n",
        "pp(get_diagonal(0, rand_x))\n",
        "\n",
        "# second diagonal\n",
        "pp(get_diagonal(1, rand_x))\n"
      ]
    },
    {
      "cell_type": "markdown",
      "id": "81fe2a4f-d630-4cc3-9191-f4162ba39362",
      "metadata": {
        "id": "81fe2a4f-d630-4cc3-9191-f4162ba39362"
      },
      "source": [
        "## Autograd\n",
        "Pytorch is well-known for its automatic differentiation feature.\n",
        "\n",
        "We can call the `backward()` method to ask `PyTorch` to calculate the gradients, which are then stored in the `grad` attribute."
      ]
    },
    {
      "cell_type": "code",
      "execution_count": 98,
      "id": "14713c3f-21bf-4aa9-bf90-836775346c42",
      "metadata": {
        "tags": [],
        "colab": {
          "base_uri": "https://localhost:8080/"
        },
        "id": "14713c3f-21bf-4aa9-bf90-836775346c42",
        "outputId": "d599be88-ddf7-4880-eee0-dc9dcd7a469f"
      },
      "outputs": [
        {
          "output_type": "stream",
          "name": "stdout",
          "text": [
            "None\n"
          ]
        }
      ],
      "source": [
        "# Create an example tensor\n",
        "x = torch.tensor(\n",
        "    [2.0], requires_grad=True\n",
        ")  # requires_grad parameter tells PyTorch to store gradients\n",
        "\n",
        "# Print the gradient if it is calculated\n",
        "# Currently None since x is a scalar\n",
        "pp(x.grad)"
      ]
    },
    {
      "cell_type": "code",
      "execution_count": 99,
      "id": "d100a27e-4526-44ec-b399-30c99cf3845c",
      "metadata": {
        "tags": [],
        "colab": {
          "base_uri": "https://localhost:8080/"
        },
        "id": "d100a27e-4526-44ec-b399-30c99cf3845c",
        "outputId": "f16a92ff-8fe8-44f5-9208-e7eb8d583b2b"
      },
      "outputs": [
        {
          "output_type": "stream",
          "name": "stdout",
          "text": [
            "tensor([12.])\n"
          ]
        }
      ],
      "source": [
        "# Calculating the gradient of y with respect to x\n",
        "y = 3 * x**2\n",
        "\n",
        "y.backward()\n",
        "\n",
        "pp(x.grad)  # d(y)/d(x) = d(3x^2)/d(x) = 6x = 12"
      ]
    },
    {
      "cell_type": "markdown",
      "id": "8b1933c9-7a96-4a43-aecc-467e7098fb36",
      "metadata": {
        "id": "8b1933c9-7a96-4a43-aecc-467e7098fb36"
      },
      "source": [
        "Let's run backprop from a different tensor again to see what happens."
      ]
    },
    {
      "cell_type": "code",
      "execution_count": 101,
      "id": "3eae15e3-62a7-45dd-91d9-4e13e456b672",
      "metadata": {
        "tags": [],
        "colab": {
          "base_uri": "https://localhost:8080/"
        },
        "id": "3eae15e3-62a7-45dd-91d9-4e13e456b672",
        "outputId": "86755536-d423-4d61-dddc-27440043e3a1"
      },
      "outputs": [
        {
          "output_type": "stream",
          "name": "stdout",
          "text": [
            "tensor([36.])\n"
          ]
        }
      ],
      "source": [
        "z = 3 * x**2\n",
        "\n",
        "z.backward()\n",
        "\n",
        "pp(x.grad)"
      ]
    },
    {
      "cell_type": "markdown",
      "id": "84088aed-96d9-4360-bb91-0d02a420732a",
      "metadata": {
        "id": "84088aed-96d9-4360-bb91-0d02a420732a"
      },
      "source": [
        "We can see that the `x.grad` is updated to be the sum of the gradients calculated so far.\n",
        "When we run backprop in a neural network, we sum up all the gradients for a particular neuron before making an update.\n",
        "\n",
        "This is exactly what is happening here!\n",
        "This is also the reason why we need to run `zero_grad()` in every training iteration (more on this later).\n",
        "\n",
        "Otherwise our gradients would keep building up from one training iteration to the other, which would cause our updates to be wrong."
      ]
    },
    {
      "cell_type": "markdown",
      "id": "e0da5078-0f4c-445f-a5a9-980e927f3a31",
      "metadata": {
        "id": "e0da5078-0f4c-445f-a5a9-980e927f3a31"
      },
      "source": [
        "## Neural Network Module\n",
        "\n",
        "So far we have looked into the tensors, their properties and basic operations on tensors.\n",
        "\n",
        "These are especially useful to get familiar with if we are building the layers of our network from scratch.\n",
        "We will use predefined blocks in the `torch.nn` module of `PyTorch`.\n",
        "We will then put together these blocks to create complex networks."
      ]
    },
    {
      "cell_type": "markdown",
      "id": "48776e54-59a6-4e47-afcc-320c8f95bbd9",
      "metadata": {
        "id": "48776e54-59a6-4e47-afcc-320c8f95bbd9"
      },
      "source": [
        "### **Linear Layer**\n",
        "\n",
        "We can use `nn.Linear(H_in, H_out)` to create a a linear layer.\n",
        "\n",
        "This will take a matrix of `(N, *, H_in)` dimensions and output a matrix of `(N, *, H_out)`.\n",
        "The `*` denotes that there could be arbitrary number of dimensions in between.\n",
        "The linear layer performs the operation `Ax+b`, where `A` and `b` are initialized randomly.\n",
        "\n",
        "If we don't want the linear layer to learn the bias parameters, we could initialize our layer with `bias=False`."
      ]
    },
    {
      "cell_type": "code",
      "execution_count": 107,
      "id": "6e0f9bd3-d2ff-4e1a-8463-a4d2a3a40c75",
      "metadata": {
        "tags": [],
        "colab": {
          "base_uri": "https://localhost:8080/"
        },
        "id": "6e0f9bd3-d2ff-4e1a-8463-a4d2a3a40c75",
        "outputId": "e32992d6-31ec-4ae9-a6c4-7f6de327de62"
      },
      "outputs": [
        {
          "output_type": "execute_result",
          "data": {
            "text/plain": [
              "tensor([[[0.8901, 1.0328],\n",
              "         [0.8901, 1.0328],\n",
              "         [0.8901, 1.0328]],\n",
              "\n",
              "        [[0.8901, 1.0328],\n",
              "         [0.8901, 1.0328],\n",
              "         [0.8901, 1.0328]]], grad_fn=<ViewBackward0>)"
            ]
          },
          "metadata": {},
          "execution_count": 107
        }
      ],
      "source": [
        "# Create the inputs\n",
        "x = torch.ones(2, 3, 4)\n",
        "# N * H_in -> N * H_out\n",
        "\n",
        "\n",
        "# Make a linear layers transforming N,*,H_in dimensinal inputs to N,*,H_out\n",
        "# dimensional outputs\n",
        "linear = nn.Linear(4, 2)\n",
        "linear_output = linear(x)\n",
        "linear_output"
      ]
    },
    {
      "cell_type": "code",
      "execution_count": 108,
      "id": "bbe59038-1a55-41a1-b010-afb90767bbd7",
      "metadata": {
        "tags": [],
        "colab": {
          "base_uri": "https://localhost:8080/"
        },
        "id": "bbe59038-1a55-41a1-b010-afb90767bbd7",
        "outputId": "87022ad6-0577-46ff-9ca3-94222919d8f4"
      },
      "outputs": [
        {
          "output_type": "stream",
          "name": "stdout",
          "text": [
            "[Parameter containing:\n",
            "tensor([[ 0.2090,  0.3403,  0.3721, -0.1887],\n",
            "        [ 0.4327,  0.3635,  0.0590,  0.1296]], requires_grad=True),\n",
            " Parameter containing:\n",
            "tensor([0.1574, 0.0480], requires_grad=True)]\n"
          ]
        }
      ],
      "source": [
        "pp(list(linear.parameters()))  # Ax + b"
      ]
    },
    {
      "cell_type": "markdown",
      "id": "4d5ce252-d876-4ebe-8fa7-63f94798c5fa",
      "metadata": {
        "id": "4d5ce252-d876-4ebe-8fa7-63f94798c5fa"
      },
      "source": [
        "### **Other Module Layers**\n",
        "\n",
        "There are several other preconfigured layers in the `nn` module.\n",
        "Some commonly used examples are `nn.Conv2d`, `nn.ConvTranspose2d`, `nn.BatchNorm1d`, `nn.BatchNorm2d`, `nn.Upsample` and `nn.MaxPool2d` among many others.\n",
        "\n",
        "We will learn more about these as we progress in the course.\n",
        "\n",
        "For now, the only important thing to remember is that we can treat each of these layers as plug and play components:\n",
        "we will be providing the required dimensions and `PyTorch` will take care of setting them up."
      ]
    },
    {
      "cell_type": "markdown",
      "id": "46d29586-cebf-4420-98c5-cb7e97628f20",
      "metadata": {
        "id": "46d29586-cebf-4420-98c5-cb7e97628f20"
      },
      "source": [
        "### **Activation Function Layer**\n",
        "\n",
        "We can also use the `nn` module to apply activations functions to our tensors.\n",
        "\n",
        "Activation functions are used to add non-linearity to our network.\n",
        "Some examples of activations functions are `nn.ReLU()`, `nn.Sigmoid()` and `nn.LeakyReLU()`.\n",
        "\n",
        "Activation functions operate on each element seperately, so the shape of the tensors we get as an output are the same as the ones we pass in."
      ]
    },
    {
      "cell_type": "code",
      "execution_count": 109,
      "id": "edbafd12-058e-4896-a557-22f74d47f349",
      "metadata": {
        "tags": [],
        "colab": {
          "base_uri": "https://localhost:8080/"
        },
        "id": "edbafd12-058e-4896-a557-22f74d47f349",
        "outputId": "11a059ab-4672-4912-f203-d5fcd5c27b0f"
      },
      "outputs": [
        {
          "output_type": "stream",
          "name": "stdout",
          "text": [
            "tensor([[[0.8901, 1.0328],\n",
            "         [0.8901, 1.0328],\n",
            "         [0.8901, 1.0328]],\n",
            "\n",
            "        [[0.8901, 1.0328],\n",
            "         [0.8901, 1.0328],\n",
            "         [0.8901, 1.0328]]], grad_fn=<ViewBackward0>)\n"
          ]
        }
      ],
      "source": [
        "pp(linear_output)"
      ]
    },
    {
      "cell_type": "code",
      "execution_count": 110,
      "id": "369ac5f0-8c68-42f9-8817-19849ce2e02c",
      "metadata": {
        "tags": [],
        "colab": {
          "base_uri": "https://localhost:8080/"
        },
        "id": "369ac5f0-8c68-42f9-8817-19849ce2e02c",
        "outputId": "32d65c28-4b2f-4eff-ccc1-0b2acda87b38"
      },
      "outputs": [
        {
          "output_type": "execute_result",
          "data": {
            "text/plain": [
              "tensor([[[0.7089, 0.7375],\n",
              "         [0.7089, 0.7375],\n",
              "         [0.7089, 0.7375]],\n",
              "\n",
              "        [[0.7089, 0.7375],\n",
              "         [0.7089, 0.7375],\n",
              "         [0.7089, 0.7375]]], grad_fn=<SigmoidBackward0>)"
            ]
          },
          "metadata": {},
          "execution_count": 110
        }
      ],
      "source": [
        "sigmoid = nn.Sigmoid()\n",
        "output = sigmoid(linear_output)\n",
        "output"
      ]
    },
    {
      "cell_type": "markdown",
      "id": "aa8b3635-b111-4fe5-9f98-51fdc935f0b3",
      "metadata": {
        "id": "aa8b3635-b111-4fe5-9f98-51fdc935f0b3"
      },
      "source": [
        "### **Putting the Layers Together**\n",
        "So far we have seen that we can create layers and pass the output of one as the input of the next.\n",
        "\n",
        "Instead of creating intermediate tensors and passing them around, we can use `nn.Sequentual`, which does exactly that."
      ]
    },
    {
      "cell_type": "code",
      "execution_count": 111,
      "id": "37e9005e-7711-488c-9e4d-7cc4d39faffe",
      "metadata": {
        "tags": [],
        "colab": {
          "base_uri": "https://localhost:8080/"
        },
        "id": "37e9005e-7711-488c-9e4d-7cc4d39faffe",
        "outputId": "6fa24536-5cd5-4077-fd1e-de85da7ff733"
      },
      "outputs": [
        {
          "output_type": "stream",
          "name": "stdout",
          "text": [
            "tensor([[[0.5966, 0.4689],\n",
            "         [0.5966, 0.4689],\n",
            "         [0.5966, 0.4689]],\n",
            "\n",
            "        [[0.5966, 0.4689],\n",
            "         [0.5966, 0.4689],\n",
            "         [0.5966, 0.4689]]], grad_fn=<SigmoidBackward0>)\n"
          ]
        }
      ],
      "source": [
        "block = nn.Sequential(nn.Linear(4, 2), nn.Sigmoid())\n",
        "\n",
        "x = torch.ones(2, 3, 4)\n",
        "output = block(x)\n",
        "pp(output)"
      ]
    },
    {
      "cell_type": "markdown",
      "id": "f087de0d-d8c8-49da-b6e3-b957ace3f6db",
      "metadata": {
        "id": "f087de0d-d8c8-49da-b6e3-b957ace3f6db"
      },
      "source": [
        "### Custom Modules\n",
        "\n",
        "Instead of using the predefined modules, we can also build our own by extending the `nn.Module` class. For example, we can build a the `nn.Linear` (which also extends `nn.Module`) on our own using the tensor introduced earlier! We can also build new, more complex modules, such as a custom neural network. You will be practicing these in the later assignment.\n",
        "\n",
        "To create a custom module, the first thing we have to do is to extend the `nn.Module`. We can then initialize our parameters in the `__init__` function, starting with a call to the `__init__` function of the super class. All the class attributes we define which are `nn` module objects are treated as parameters, which can be learned during the training. Tensors are not parameters, but they can be turned into parameters if they are wrapped in `nn.Parameter` class.\n",
        "\n",
        "All classes extending `nn.Module` are also expected to implement a `forward(x)` function, where `x` is a tensor. This is the function that is called when a parameter is passed to our module, such as in `model(x)`."
      ]
    },
    {
      "cell_type": "code",
      "execution_count": 112,
      "id": "2e30b74c-f95e-41bb-8c93-288ecf4a084a",
      "metadata": {
        "tags": [],
        "id": "2e30b74c-f95e-41bb-8c93-288ecf4a084a"
      },
      "outputs": [],
      "source": [
        "class MultilayerPerceptron(nn.Module):\n",
        "    def __init__(self, input_size, hidden_size):\n",
        "        # Call to the __init__ function of the super class\n",
        "        super().__init__()\n",
        "\n",
        "        # Bookkeeping: Saving the initialization parameters\n",
        "        self.input_size = input_size\n",
        "        self.hidden_size = hidden_size\n",
        "\n",
        "        # Defining of our model\n",
        "        # There isn't anything specific about the naming of `self.model`.\n",
        "        # It could be something arbitrary.\n",
        "        self.model = nn.Sequential(\n",
        "            nn.Linear(self.input_size, self.hidden_size),\n",
        "            nn.ReLU(),\n",
        "            nn.Linear(self.hidden_size, self.input_size),\n",
        "            nn.Sigmoid(),\n",
        "        )\n",
        "\n",
        "    def forward(self, x):\n",
        "        output = self.model(x)\n",
        "        return output"
      ]
    },
    {
      "cell_type": "markdown",
      "id": "da397de2-5493-44a2-bf2d-494a3da2a6d0",
      "metadata": {
        "id": "da397de2-5493-44a2-bf2d-494a3da2a6d0"
      },
      "source": [
        "Here is an alternative way to define the same class.\n",
        "You can see that we can replace `nn.Sequential` by defining the individual layers in the `__init__` method and connecting the in the `forward` method."
      ]
    },
    {
      "cell_type": "code",
      "execution_count": 113,
      "id": "fe6c9a45-3ba9-41c4-b54d-e406eb81f4e1",
      "metadata": {
        "tags": [],
        "id": "fe6c9a45-3ba9-41c4-b54d-e406eb81f4e1"
      },
      "outputs": [],
      "source": [
        "class MultilayerPerceptron(nn.Module):\n",
        "    def __init__(self, input_size, hidden_size):\n",
        "        # Call to the __init__ function of the super class\n",
        "        super().__init__()\n",
        "\n",
        "        # Bookkeeping: Saving the initialization parameters\n",
        "        self.input_size = input_size\n",
        "        self.hidden_size = hidden_size\n",
        "\n",
        "        # Defining of our layers\n",
        "        self.linear = nn.Linear(self.input_size, self.hidden_size)\n",
        "        self.relu = nn.ReLU()\n",
        "        self.linear2 = nn.Linear(self.hidden_size, self.input_size)\n",
        "        self.sigmoid = nn.Sigmoid()\n",
        "\n",
        "    def forward(self, x):\n",
        "        linear = self.linear(x)\n",
        "        relu = self.relu(linear)\n",
        "        linear2 = self.linear2(relu)\n",
        "        output = self.sigmoid(linear2)\n",
        "        # compact:\n",
        "        # output = self.sigmoid(self.linear2(self.relu(self.linear(x))))\n",
        "        return output"
      ]
    },
    {
      "cell_type": "code",
      "execution_count": 114,
      "id": "287e60e3-f2a6-42ea-890b-a452e84b8836",
      "metadata": {
        "tags": [],
        "colab": {
          "base_uri": "https://localhost:8080/"
        },
        "id": "287e60e3-f2a6-42ea-890b-a452e84b8836",
        "outputId": "06c87a97-08af-419b-a3a8-dc8b17be72de"
      },
      "outputs": [
        {
          "output_type": "stream",
          "name": "stdout",
          "text": [
            "tensor([[0.4335, 0.5025, 0.4582, 0.5664, 0.4227],\n",
            "        [0.4446, 0.4433, 0.5242, 0.6306, 0.3950]], grad_fn=<SigmoidBackward0>)\n"
          ]
        }
      ],
      "source": [
        "# Make a sample input\n",
        "x = torch.randn(2, 5)\n",
        "\n",
        "# Create our model\n",
        "model = MultilayerPerceptron(5, 3)\n",
        "\n",
        "# Pass our input through our model\n",
        "output = model(x)\n",
        "\n",
        "pp(output)"
      ]
    },
    {
      "cell_type": "markdown",
      "id": "460b395d-627d-4b5b-8168-cc4acdc58a6f",
      "metadata": {
        "id": "460b395d-627d-4b5b-8168-cc4acdc58a6f"
      },
      "source": [
        "We can inspect the parameters of our model with `named_parameters()` and `parameters()` methods."
      ]
    },
    {
      "cell_type": "code",
      "execution_count": 115,
      "id": "5b729a1a-45ef-4fbe-bd23-96f9b3fc59c1",
      "metadata": {
        "tags": [],
        "colab": {
          "base_uri": "https://localhost:8080/"
        },
        "id": "5b729a1a-45ef-4fbe-bd23-96f9b3fc59c1",
        "outputId": "d6e478de-3dcc-427e-8bed-ab2d62c80164"
      },
      "outputs": [
        {
          "output_type": "stream",
          "name": "stdout",
          "text": [
            "[('linear.weight',\n",
            "  Parameter containing:\n",
            "tensor([[ 0.4291, -0.4050,  0.1155, -0.1925,  0.4078],\n",
            "        [ 0.1819,  0.1949, -0.3128, -0.3123,  0.3003],\n",
            "        [-0.1907, -0.2448, -0.2171,  0.0162, -0.4089]], requires_grad=True)),\n",
            " ('linear.bias',\n",
            "  Parameter containing:\n",
            "tensor([-0.0553, -0.3988,  0.0129], requires_grad=True)),\n",
            " ('linear2.weight',\n",
            "  Parameter containing:\n",
            "tensor([[-0.2886, -0.5697,  0.4033],\n",
            "        [-0.2338,  0.4246, -0.5181],\n",
            "        [ 0.4509, -0.1917, -0.3275],\n",
            "        [ 0.5270, -0.0896, -0.5480],\n",
            "        [ 0.0054,  0.3788,  0.0511]], requires_grad=True)),\n",
            " ('linear2.bias',\n",
            "  Parameter containing:\n",
            "tensor([ 0.0120, -0.0375, -0.2698,  0.1062, -0.4308], requires_grad=True))]\n"
          ]
        }
      ],
      "source": [
        "pp(list(model.named_parameters()))"
      ]
    },
    {
      "cell_type": "markdown",
      "id": "d2bd9656-d3e5-483e-a422-09cb3bc68f5b",
      "metadata": {
        "id": "d2bd9656-d3e5-483e-a422-09cb3bc68f5b"
      },
      "source": [
        "## Optimization\n",
        "We have showed how gradients are calculated with the `backward()` function.\n",
        "Having the gradients isn't enought for our models to learn. We also need to know how to update the parameters of our models.\n",
        "\n",
        "This is where the optomizers comes in.\n",
        "\n",
        "The `torch.optim` module contains several optimizers that we can use.\n",
        "Some popular examples are `optim.SGD` and `optim.Adam`.\n",
        "When initializing optimizers, we pass our model parameters, which can be accessed with `model.parameters()`, telling the optimizers which values it will be optimizing.\n",
        "Optimizers also has a learning rate (`lr`) parameter, which determines how big of an update will be made in every step.\n",
        "Different optimizers have different hyperparameters as well."
      ]
    },
    {
      "cell_type": "code",
      "execution_count": 116,
      "id": "f6b78790-88e5-45b2-a810-5a2105cb1511",
      "metadata": {
        "tags": [],
        "id": "f6b78790-88e5-45b2-a810-5a2105cb1511"
      },
      "outputs": [],
      "source": [
        "import torch.optim as optim"
      ]
    },
    {
      "cell_type": "code",
      "execution_count": 117,
      "id": "c52bf179-f2c7-4204-baa5-bced1cc4b1ac",
      "metadata": {
        "tags": [],
        "colab": {
          "base_uri": "https://localhost:8080/"
        },
        "id": "c52bf179-f2c7-4204-baa5-bced1cc4b1ac",
        "outputId": "fdb091f8-7191-4f2c-cbd0-ec8f8f91a1bd"
      },
      "outputs": [
        {
          "output_type": "stream",
          "name": "stdout",
          "text": [
            "tensor([[ 1.0745, -1.6218,  0.9532,  1.2623,  1.0751],\n",
            "        [ 1.4113,  2.8010, -0.1784,  2.2154,  3.1205],\n",
            "        [-0.7991,  2.0065,  0.6225,  0.4695,  1.4564],\n",
            "        [ 2.1085,  0.6262,  1.4878, -0.1812,  2.0440],\n",
            "        [ 2.2360,  2.2237,  1.6013,  2.7480,  0.9801],\n",
            "        [ 1.5268,  1.7110,  0.5855, -0.1945,  0.1813],\n",
            "        [ 1.5312,  1.1611,  0.5125,  1.3977,  0.7255],\n",
            "        [-0.7598, -1.1114,  1.6302,  0.5251, -0.0785],\n",
            "        [ 0.4672,  1.5111,  1.5424,  0.8597, -0.0880],\n",
            "        [ 0.0367, -0.0032,  1.6927,  1.1273,  1.2063]])\n"
          ]
        }
      ],
      "source": [
        "# Create the y data\n",
        "y = torch.ones(10, 5)\n",
        "\n",
        "# Add some noise to our goal y to generate our x\n",
        "# We want out model to predict our original data, albeit the noise\n",
        "x = y + torch.randn_like(y)\n",
        "\n",
        "pp(x)"
      ]
    },
    {
      "cell_type": "markdown",
      "id": "ad238586-f3f7-4b03-a8b4-33018590e7ca",
      "metadata": {
        "id": "ad238586-f3f7-4b03-a8b4-33018590e7ca"
      },
      "source": [
        "Now, we can define our model, optimizer and the loss function."
      ]
    },
    {
      "cell_type": "code",
      "execution_count": 118,
      "id": "8d0c6089-ec03-46ca-a6c5-79e73968fbe0",
      "metadata": {
        "tags": [],
        "colab": {
          "base_uri": "https://localhost:8080/"
        },
        "id": "8d0c6089-ec03-46ca-a6c5-79e73968fbe0",
        "outputId": "412bb360-a0dd-45ad-8775-1833cb892062"
      },
      "outputs": [
        {
          "output_type": "execute_result",
          "data": {
            "text/plain": [
              "0.5326056480407715"
            ]
          },
          "metadata": {},
          "execution_count": 118
        }
      ],
      "source": [
        "# Instantiate the model\n",
        "model = MultilayerPerceptron(5, 3)\n",
        "\n",
        "# Define the optimizer\n",
        "adam = optim.Adam(model.parameters(), lr=1e-1)\n",
        "\n",
        "# Define loss using a predefined loss function\n",
        "loss_function = nn.BCELoss()\n",
        "\n",
        "# Calculate how our model is doing now\n",
        "y_pred = model(x)\n",
        "\n",
        "loss_function(y_pred, y).item()"
      ]
    },
    {
      "cell_type": "code",
      "execution_count": 119,
      "id": "e9806ddc-84ee-49b0-bcab-c6ccd7444b92",
      "metadata": {
        "tags": [],
        "colab": {
          "base_uri": "https://localhost:8080/"
        },
        "id": "e9806ddc-84ee-49b0-bcab-c6ccd7444b92",
        "outputId": "24f5ce2a-a7e3-4e94-9c70-a2c025cf8a99"
      },
      "outputs": [
        {
          "output_type": "stream",
          "name": "stdout",
          "text": [
            "Epoch 0: traing loss: 0.5326056480407715\n",
            "Epoch 1: traing loss: 0.3485972583293915\n",
            "Epoch 2: traing loss: 0.18927600979804993\n",
            "Epoch 3: traing loss: 0.09003650397062302\n",
            "Epoch 4: traing loss: 0.04288630932569504\n",
            "Epoch 5: traing loss: 0.022251568734645844\n",
            "Epoch 6: traing loss: 0.01242056954652071\n",
            "Epoch 7: traing loss: 0.0067739482037723064\n",
            "Epoch 8: traing loss: 0.0036558627616614103\n",
            "Epoch 9: traing loss: 0.0019736397080123425\n",
            "Epoch 10: traing loss: 0.0010761512676253915\n",
            "Epoch 11: traing loss: 0.0005975395324639976\n"
          ]
        }
      ],
      "source": [
        "# Set the number of epoch, which determines the number of training iterations\n",
        "n_epoch = 12\n",
        "\n",
        "for epoch in range(n_epoch):\n",
        "    # Set the gradients to 0\n",
        "    adam.zero_grad()\n",
        "\n",
        "    # Get the model predictions\n",
        "    y_pred = model(x)\n",
        "\n",
        "    # Get the loss\n",
        "    loss = loss_function(y_pred, y)\n",
        "\n",
        "    # Print stats\n",
        "    print(f\"Epoch {epoch}: traing loss: {loss}\")\n",
        "\n",
        "    # Compute the gradients\n",
        "    loss.backward()\n",
        "\n",
        "    # Take a step to optimize the weights\n",
        "    adam.step()"
      ]
    },
    {
      "cell_type": "code",
      "execution_count": 120,
      "id": "f647e6a2-7209-4505-96d8-8640d534cec3",
      "metadata": {
        "tags": [],
        "colab": {
          "base_uri": "https://localhost:8080/"
        },
        "id": "f647e6a2-7209-4505-96d8-8640d534cec3",
        "outputId": "6c1ca20f-d325-4907-b771-c89f68842aff"
      },
      "outputs": [
        {
          "output_type": "execute_result",
          "data": {
            "text/plain": [
              "[Parameter containing:\n",
              " tensor([[0.5926, 0.7351, 1.1083, 1.2720, 0.5540],\n",
              "         [1.0356, 0.6725, 0.5352, 1.1505, 1.2361],\n",
              "         [0.9537, 0.2923, 1.2073, 0.6560, 0.7849]], requires_grad=True),\n",
              " Parameter containing:\n",
              " tensor([1.0161, 0.5904, 1.1398], requires_grad=True),\n",
              " Parameter containing:\n",
              " tensor([[0.7327, 0.8069, 0.9246],\n",
              "         [1.2721, 1.2374, 0.4825],\n",
              "         [0.9356, 1.3403, 1.0756],\n",
              "         [0.7621, 1.0769, 1.2029],\n",
              "         [1.2267, 1.2137, 1.4025]], requires_grad=True),\n",
              " Parameter containing:\n",
              " tensor([0.9173, 1.0857, 0.5796, 1.0926, 0.7618], requires_grad=True)]"
            ]
          },
          "metadata": {},
          "execution_count": 120
        }
      ],
      "source": [
        "list(model.parameters())"
      ]
    },
    {
      "cell_type": "markdown",
      "id": "cb9ae1e9-efb3-4bea-9020-2365641193fb",
      "metadata": {
        "id": "cb9ae1e9-efb3-4bea-9020-2365641193fb"
      },
      "source": [
        "You can see that our loss is decreasing. Let's check the predictions of our model now and see if they are close to our original `y`, which was all `1s`."
      ]
    },
    {
      "cell_type": "code",
      "execution_count": 121,
      "id": "9ff6faf6-4351-426d-9256-614f3329bb90",
      "metadata": {
        "tags": [],
        "colab": {
          "base_uri": "https://localhost:8080/"
        },
        "id": "9ff6faf6-4351-426d-9256-614f3329bb90",
        "outputId": "98e85924-d049-418c-9841-9cc25e65ee80"
      },
      "outputs": [
        {
          "output_type": "execute_result",
          "data": {
            "text/plain": [
              "tensor([[1.0000, 1.0000, 1.0000, 1.0000, 1.0000],\n",
              "        [1.0000, 1.0000, 1.0000, 1.0000, 1.0000],\n",
              "        [1.0000, 1.0000, 1.0000, 1.0000, 1.0000],\n",
              "        [1.0000, 1.0000, 1.0000, 1.0000, 1.0000],\n",
              "        [1.0000, 1.0000, 1.0000, 1.0000, 1.0000],\n",
              "        [1.0000, 1.0000, 1.0000, 1.0000, 1.0000],\n",
              "        [1.0000, 1.0000, 1.0000, 1.0000, 1.0000],\n",
              "        [0.9935, 0.9960, 0.9967, 0.9976, 0.9993],\n",
              "        [1.0000, 1.0000, 1.0000, 1.0000, 1.0000],\n",
              "        [1.0000, 1.0000, 1.0000, 1.0000, 1.0000]], grad_fn=<SigmoidBackward0>)"
            ]
          },
          "metadata": {},
          "execution_count": 121
        }
      ],
      "source": [
        "# See how our model performs on the training data\n",
        "y_pred = model(x)\n",
        "y_pred"
      ]
    },
    {
      "cell_type": "code",
      "execution_count": 122,
      "id": "8490cf7f-92fc-47c9-a143-181466acaa12",
      "metadata": {
        "tags": [],
        "colab": {
          "base_uri": "https://localhost:8080/"
        },
        "id": "8490cf7f-92fc-47c9-a143-181466acaa12",
        "outputId": "f745534b-a0ca-4bcc-b8c8-fcc2da8afe8a"
      },
      "outputs": [
        {
          "output_type": "execute_result",
          "data": {
            "text/plain": [
              "tensor([[1.0000, 1.0000, 1.0000, 1.0000, 1.0000],\n",
              "        [1.0000, 1.0000, 1.0000, 1.0000, 1.0000],\n",
              "        [1.0000, 1.0000, 1.0000, 1.0000, 1.0000],\n",
              "        [1.0000, 1.0000, 1.0000, 1.0000, 1.0000],\n",
              "        [1.0000, 1.0000, 1.0000, 1.0000, 1.0000],\n",
              "        [1.0000, 1.0000, 1.0000, 1.0000, 1.0000],\n",
              "        [1.0000, 1.0000, 1.0000, 1.0000, 1.0000],\n",
              "        [1.0000, 1.0000, 1.0000, 1.0000, 1.0000],\n",
              "        [0.9998, 1.0000, 1.0000, 1.0000, 1.0000],\n",
              "        [1.0000, 1.0000, 1.0000, 1.0000, 1.0000]], grad_fn=<SigmoidBackward0>)"
            ]
          },
          "metadata": {},
          "execution_count": 122
        }
      ],
      "source": [
        "# Create test data and check how our model performs on it\n",
        "x2 = y + torch.randn_like(y)\n",
        "y_pred = model(x2)\n",
        "y_pred"
      ]
    },
    {
      "cell_type": "markdown",
      "id": "540f1252-850e-452f-96ef-005ef304fca1",
      "metadata": {
        "id": "540f1252-850e-452f-96ef-005ef304fca1"
      },
      "source": [
        "## Demo: Word Window Classification\n",
        "\n",
        "Until this part of the notebook, we have learned the fundamentals of PyTorch and built a basic network solving a toy task. Now we will attempt to solve an example NLP task. Here are the things we will learn:\n",
        "\n",
        "1. Data: Creating a Dataset of Batched Tensors\n",
        "2. Modeling\n",
        "3. Training\n",
        "4. Prediction\n",
        "\n",
        "In this section, our goal will be to train a model that will find the words in a sentence corresponding to a `LOCATION`, which will be always of span `1` (meaning that `San Fransisco` won't be recognized as a `LOCATION`). Our task is called `Word Window Classification` for a reason. Instead of letting our model to only take a look at one word in each forward pass, we would like it to be able to consider the context of the word in question. That is, for each word, we want our model to be aware of the surrounding words. Let's dive in!"
      ]
    },
    {
      "cell_type": "markdown",
      "id": "03c2646c-023e-4a1d-bed3-36ed1731289d",
      "metadata": {
        "id": "03c2646c-023e-4a1d-bed3-36ed1731289d"
      },
      "source": [
        "### Data\n",
        "\n",
        "The very first task of any machine learning project is to set up our training set. Usually, there will be a training corpus we will be utilizing. In NLP tasks, the corpus would generally be a `.txt` or `.csv` file where each row corresponds to a sentence or a tabular datapoint. In our toy task, we will assume that we have already read our data and the corresponding labels into a `Python` list."
      ]
    },
    {
      "cell_type": "code",
      "execution_count": 123,
      "id": "fde34a64-30fa-492f-80e1-9e3ccb94e640",
      "metadata": {
        "tags": [],
        "id": "fde34a64-30fa-492f-80e1-9e3ccb94e640"
      },
      "outputs": [],
      "source": [
        "# Our raw data, which consists of sentences\n",
        "corpus = [\n",
        "    \"We always come to Paris\",\n",
        "    \"The professor is from Australia\",\n",
        "    \"I live in Stanford\",\n",
        "    \"He comes from Taiwan\",\n",
        "    \"The capital of Turkey is Ankara\",\n",
        "]"
      ]
    },
    {
      "cell_type": "markdown",
      "id": "e658ccf8-070e-4b6b-94c4-3bc3f3c0e051",
      "metadata": {
        "id": "e658ccf8-070e-4b6b-94c4-3bc3f3c0e051"
      },
      "source": [
        "#### Preprocessing\n",
        "\n",
        "To make it easier for our models to learn, we usually apply a few preprocessing steps to our data. This is especially important when dealing with text data. Here are some examples of text preprocessing:\n",
        "* **Tokenization**: Tokenizing the sentences into words.\n",
        "* **Lowercasing**: Changing all the letters to be lowercase.\n",
        "* **Noise removal:** Removing special characters (such as punctuations).\n",
        "* **Stop words removal**: Removing commonly used words.\n",
        "\n",
        "Which preprocessing steps are necessary is determined by the task at hand. For example, although it is useful to remove special characters in some tasks, for others they may be important (for example, if we are dealing with multiple languages). For our task, we will lowercase our words and tokenize.\n"
      ]
    },
    {
      "cell_type": "code",
      "execution_count": 124,
      "id": "ae198018-3e1d-4a63-a636-e83cf5552a3b",
      "metadata": {
        "tags": [],
        "colab": {
          "base_uri": "https://localhost:8080/"
        },
        "id": "ae198018-3e1d-4a63-a636-e83cf5552a3b",
        "outputId": "5d078ce3-5545-412f-9985-10f9499a1db7"
      },
      "outputs": [
        {
          "output_type": "execute_result",
          "data": {
            "text/plain": [
              "[['we', 'always', 'come', 'to', 'paris'],\n",
              " ['the', 'professor', 'is', 'from', 'australia'],\n",
              " ['i', 'live', 'in', 'stanford'],\n",
              " ['he', 'comes', 'from', 'taiwan'],\n",
              " ['the', 'capital', 'of', 'turkey', 'is', 'ankara']]"
            ]
          },
          "metadata": {},
          "execution_count": 124
        }
      ],
      "source": [
        "# The preprocessing function we will use to generate our training examples\n",
        "# Our function is a simple one, we lowercase the letters\n",
        "# and then tokenize the words.\n",
        "def preprocess_sentence(sentence):\n",
        "    return sentence.lower().split()\n",
        "\n",
        "\n",
        "# Create our training set\n",
        "train_sentences = [preprocess_sentence(sent) for sent in corpus]\n",
        "train_sentences"
      ]
    },
    {
      "cell_type": "markdown",
      "id": "1368fc84-f7df-42bb-8728-84912be9509e",
      "metadata": {
        "id": "1368fc84-f7df-42bb-8728-84912be9509e"
      },
      "source": [
        "For each training example we have, we should also have a corresponding label. Recall that the goal of our model was to determine which words correspond to a `LOCATION`. That is, we want our model to output `0` for all the words that are not `LOCATION`s and `1` for the ones that are `LOCATION`s."
      ]
    },
    {
      "cell_type": "code",
      "execution_count": 125,
      "id": "e9b15536-0e2d-441d-8c85-7ba57104ff30",
      "metadata": {
        "tags": [],
        "colab": {
          "base_uri": "https://localhost:8080/"
        },
        "id": "e9b15536-0e2d-441d-8c85-7ba57104ff30",
        "outputId": "0d22e349-35c9-44da-96d7-ed4a49d955e3"
      },
      "outputs": [
        {
          "output_type": "execute_result",
          "data": {
            "text/plain": [
              "[[0, 0, 0, 0, 1],\n",
              " [0, 0, 0, 0, 1],\n",
              " [0, 0, 0, 1],\n",
              " [0, 0, 0, 1],\n",
              " [0, 0, 0, 1, 0, 1]]"
            ]
          },
          "metadata": {},
          "execution_count": 125
        }
      ],
      "source": [
        "# Set of locations that appear in our corpus\n",
        "locations = set([\"australia\", \"ankara\", \"paris\", \"stanford\", \"taiwan\", \"turkey\"])\n",
        "\n",
        "# Our train labels\n",
        "train_labels = [\n",
        "    [1 if word in locations else 0 for word in sent] for sent in train_sentences\n",
        "]\n",
        "train_labels"
      ]
    },
    {
      "cell_type": "markdown",
      "id": "232b778f-4452-416a-a402-91bb51ebbd4a",
      "metadata": {
        "id": "232b778f-4452-416a-a402-91bb51ebbd4a"
      },
      "source": [
        "#### Converting Words to Embeddings\n",
        "\n",
        "Let's look at our training data a little more closely. Each datapoint we have is a sequence of words. On the other hand, we know that machine learning models work with numbers in vectors. How are we going to turn words into numbers? You may be thinking embeddings and you are right!\n",
        "\n",
        "Imagine that we have an embedding lookup table `E`, where each row corresponds to an embedding. That is, each word in our vocabulary would have a corresponding embedding row `i` in this table. Whenever we want to find an embedding for a word, we will follow these steps:\n",
        "1. Find the corresponding index `i` of the word in the embedding table: `word → index`.\n",
        "2. Index into the embedding table and get the embedding: `index → embedding`.\n",
        "\n",
        "Let's look at the first step. We should assign all the words in our vocabulary to a corresponding index. We can do it as follows:\n",
        "1. Find all the unique words in our corpus.\n",
        "2. Assign an index to each."
      ]
    },
    {
      "cell_type": "code",
      "execution_count": 126,
      "id": "5d65bc96-ae3c-4d0f-b33d-74b8633b51f0",
      "metadata": {
        "tags": [],
        "colab": {
          "base_uri": "https://localhost:8080/"
        },
        "id": "5d65bc96-ae3c-4d0f-b33d-74b8633b51f0",
        "outputId": "5f10fb39-8733-4518-bc79-2e22786af28e"
      },
      "outputs": [
        {
          "output_type": "stream",
          "name": "stdout",
          "text": [
            "{'always',\n",
            " 'ankara',\n",
            " 'australia',\n",
            " 'capital',\n",
            " 'come',\n",
            " 'comes',\n",
            " 'from',\n",
            " 'he',\n",
            " 'i',\n",
            " 'in',\n",
            " 'is',\n",
            " 'live',\n",
            " 'of',\n",
            " 'paris',\n",
            " 'professor',\n",
            " 'stanford',\n",
            " 'taiwan',\n",
            " 'the',\n",
            " 'to',\n",
            " 'turkey',\n",
            " 'we'}\n"
          ]
        }
      ],
      "source": [
        "# Find all the unique words in our corpus\n",
        "vocabulary = set(w for s in train_sentences for w in s)\n",
        "pp(vocabulary)"
      ]
    },
    {
      "cell_type": "markdown",
      "id": "092ac57b-fcc0-42d6-a486-509e530af008",
      "metadata": {
        "id": "092ac57b-fcc0-42d6-a486-509e530af008"
      },
      "source": [
        "`vocabulary` now contains all the words in our corpus. On the other hand, during the test time, we can see words that are not contained in our vocabulary. If we can figure out a way to represent the unknown words, our model can still reason about whether they are a `LOCATION` or not, since we are also looking at the neighboring words for each prediction.\n",
        "\n",
        "We introduce a special token, `<unk>`, to tackle the words that are out of vocabulary. We could pick another string for our unknown token if we wanted. The only requirement here is that our token should be unique: we should only be using this token for unknown words. We will also add this special token to our vocabulary."
      ]
    },
    {
      "cell_type": "code",
      "execution_count": 127,
      "id": "6d1bfae1-8cff-4f24-9faa-2b6ed798a364",
      "metadata": {
        "tags": [],
        "id": "6d1bfae1-8cff-4f24-9faa-2b6ed798a364"
      },
      "outputs": [],
      "source": [
        "# Add the unknown token to our vocabulary\n",
        "vocabulary.add(\"<unk>\")"
      ]
    },
    {
      "cell_type": "markdown",
      "id": "57497d89-6d2a-4f76-beb1-bd8bbeef47b8",
      "metadata": {
        "id": "57497d89-6d2a-4f76-beb1-bd8bbeef47b8"
      },
      "source": [
        "Earlier we mentioned that our task was called `Word Window Classification` because our model is looking at the surroundings words in addition to the given word when it needs to make a prediction.\n",
        "\n",
        "For example, let's take the sentence \"We always come to Paris\". The corresponding training label for this sentence is `0, 0, 0, 0, 1` since only Paris, the last word, is a `LOCATION`. In one pass (meaning a call to `forward()`), our model will try to generate the correct label for one word. Let's say our model is trying to generate the correct label `1` for `Paris`. If we only allow our model to see `Paris`, but nothing else, we will miss out on the important information that the word `to` often times appears with `LOCATION`s.\n",
        "\n",
        "Word windows allow our model to consider the surrounding `+N` or `-N` words of each word when making a prediction. In our earlier example for `Paris`, if we have a window size of 1, that means our model will look at the words that come immediately before and after `Paris`, which are `to`, and, well, nothing. Now, this raises another issue. `Paris` is at the end of our sentence, so there isn't another word following it. Remember that we define the input dimensions of our `PyTorch` models when we are initializing them. If we set the window size to be `1`, it means that our model will be accepting `3` words in every pass. We cannot have our model expect `2` words from time to time.\n",
        "\n",
        "The solution is to introduce a special token, such as `<pad>`, that will be added to our sentences to make sure that every word has a valid window around them. Similar to `<unk>` token, we could pick another string for our pad token if we wanted, as long as we make sure it is used for a unique purpose."
      ]
    },
    {
      "cell_type": "code",
      "execution_count": 128,
      "id": "683162ca-7901-4372-a77f-a476addc5dab",
      "metadata": {
        "tags": [],
        "colab": {
          "base_uri": "https://localhost:8080/"
        },
        "id": "683162ca-7901-4372-a77f-a476addc5dab",
        "outputId": "e61e007c-a1aa-44ee-d6da-dff388891ed0"
      },
      "outputs": [
        {
          "output_type": "execute_result",
          "data": {
            "text/plain": [
              "['<pad>', '<pad>', 'we', 'always', 'come', 'to', 'paris', '<pad>', '<pad>']"
            ]
          },
          "metadata": {},
          "execution_count": 128
        }
      ],
      "source": [
        "# Add the <pad> token to our vocabulary\n",
        "vocabulary.add(\"<pad>\")\n",
        "\n",
        "\n",
        "# Function that pads the given sentence\n",
        "# We are introducing this function here as an example\n",
        "# We will be utilizing it later in the tutorial\n",
        "def pad_window(sentence, window_size, pad_token=\"<pad>\"):\n",
        "    window = [pad_token] * window_size\n",
        "    return window + sentence + window\n",
        "\n",
        "\n",
        "# Show padding example\n",
        "window_size = 2\n",
        "pad_window(train_sentences[0], window_size=window_size)"
      ]
    },
    {
      "cell_type": "markdown",
      "id": "41e96788",
      "metadata": {
        "id": "41e96788"
      },
      "source": [
        "We are just converting our vocabularly to a list to be able to index into it. Sorting is not necessary, we sort to show an ordered `word_to_ind` dictionary. That being said, we will see that having the index for the padding token be `0` is convenient as some PyTorch functions use it as a default value such as `nn.utils.rnn.pad_sequence`, which we will cover in a bit."
      ]
    },
    {
      "cell_type": "code",
      "execution_count": 129,
      "id": "56de18c4-08da-4d25-a843-4cef8afcce57",
      "metadata": {
        "tags": [],
        "colab": {
          "base_uri": "https://localhost:8080/"
        },
        "id": "56de18c4-08da-4d25-a843-4cef8afcce57",
        "outputId": "3edd616c-a276-4703-cd89-d03dcc1f2901"
      },
      "outputs": [
        {
          "output_type": "execute_result",
          "data": {
            "text/plain": [
              "{'<pad>': 0,\n",
              " '<unk>': 1,\n",
              " 'always': 2,\n",
              " 'ankara': 3,\n",
              " 'australia': 4,\n",
              " 'capital': 5,\n",
              " 'come': 6,\n",
              " 'comes': 7,\n",
              " 'from': 8,\n",
              " 'he': 9,\n",
              " 'i': 10,\n",
              " 'in': 11,\n",
              " 'is': 12,\n",
              " 'live': 13,\n",
              " 'of': 14,\n",
              " 'paris': 15,\n",
              " 'professor': 16,\n",
              " 'stanford': 17,\n",
              " 'taiwan': 18,\n",
              " 'the': 19,\n",
              " 'to': 20,\n",
              " 'turkey': 21,\n",
              " 'we': 22}"
            ]
          },
          "metadata": {},
          "execution_count": 129
        }
      ],
      "source": [
        "\n",
        "ix_to_word = sorted(list(vocabulary))\n",
        "\n",
        "# Creating a dictionary to find the index of a given word\n",
        "word_to_ix = {word: ind for ind, word in enumerate(ix_to_word)}\n",
        "word_to_ix"
      ]
    },
    {
      "cell_type": "code",
      "execution_count": null,
      "id": "ed9781b1-a05e-41f2-b433-764b57eee108",
      "metadata": {
        "tags": [],
        "id": "ed9781b1-a05e-41f2-b433-764b57eee108"
      },
      "outputs": [],
      "source": [
        "ix_to_word[1]"
      ]
    },
    {
      "cell_type": "code",
      "execution_count": 130,
      "id": "ed6f25d4-90e9-4c19-8c09-df670ec9472f",
      "metadata": {
        "tags": [],
        "colab": {
          "base_uri": "https://localhost:8080/"
        },
        "id": "ed6f25d4-90e9-4c19-8c09-df670ec9472f",
        "outputId": "aadaf16f-d343-4123-96da-b71791217e8b"
      },
      "outputs": [
        {
          "output_type": "stream",
          "name": "stdout",
          "text": [
            "Original sentence is: ['we', 'always', 'come', 'to', 'kuwait']\n",
            "Going from words to indices: [22, 2, 6, 20, 1]\n",
            "Going from indices to words: ['we', 'always', 'come', 'to', '<unk>']\n"
          ]
        }
      ],
      "source": [
        "# Given a sentence of tokens, return the corresponding indices\n",
        "def convert_token_to_indices(sentence, word_to_ix):\n",
        "    indices = []\n",
        "    for token in sentence:\n",
        "        # Check if the token is in our vocabularly. If it is, get it's index.\n",
        "        # If not, get the index for the unknown token.\n",
        "        if token in word_to_ix:\n",
        "            index = word_to_ix[token]\n",
        "        else:\n",
        "            index = word_to_ix[\"<unk>\"]\n",
        "        indices.append(index)\n",
        "    return indices\n",
        "\n",
        "\n",
        "# More compact version of the same function\n",
        "def _convert_token_to_indices(sentence, word_to_ix):\n",
        "    return [word_to_ix.get(token, word_to_ix[\"<unk>\"]) for token in sentence]\n",
        "\n",
        "\n",
        "# Show an example\n",
        "example_sentence = [\"we\", \"always\", \"come\", \"to\", \"kuwait\"]\n",
        "example_indices = convert_token_to_indices(example_sentence, word_to_ix)\n",
        "\n",
        "restored_example = [ix_to_word[ind] for ind in example_indices]\n",
        "\n",
        "print(f\"Original sentence is: {example_sentence}\")\n",
        "print(f\"Going from words to indices: {example_indices}\")\n",
        "print(f\"Going from indices to words: {restored_example}\")"
      ]
    },
    {
      "cell_type": "markdown",
      "id": "41e5ae61-46ba-4e94-9d80-70d2e1b6befd",
      "metadata": {
        "id": "41e5ae61-46ba-4e94-9d80-70d2e1b6befd"
      },
      "source": [
        "In the example above, `kuwait` shows up as `<unk>`, because it is not included in our vocabulary. Let's convert our `train_sentences` to `example_padded_indices`."
      ]
    },
    {
      "cell_type": "code",
      "execution_count": 131,
      "id": "01918b1e-e9af-4b62-be28-0b48298c9244",
      "metadata": {
        "tags": [],
        "colab": {
          "base_uri": "https://localhost:8080/"
        },
        "id": "01918b1e-e9af-4b62-be28-0b48298c9244",
        "outputId": "d91c91e5-c6ea-4fcb-968b-d93eb0ec8fe5"
      },
      "outputs": [
        {
          "output_type": "execute_result",
          "data": {
            "text/plain": [
              "[[22, 2, 6, 20, 15],\n",
              " [19, 16, 12, 8, 4],\n",
              " [10, 13, 11, 17],\n",
              " [9, 7, 8, 18],\n",
              " [19, 5, 14, 21, 12, 3]]"
            ]
          },
          "metadata": {},
          "execution_count": 131
        }
      ],
      "source": [
        "# Converting our sentences to indices\n",
        "example_padded_indices = [\n",
        "    convert_token_to_indices(s, word_to_ix) for s in train_sentences\n",
        "]\n",
        "example_padded_indices"
      ]
    },
    {
      "cell_type": "markdown",
      "id": "d4df8aec-d784-4728-9313-c577a86509ad",
      "metadata": {
        "id": "d4df8aec-d784-4728-9313-c577a86509ad"
      },
      "source": [
        "Now that we have an index for each word in our vocabularly, we can create an embedding table with `nn.Embedding` class in `PyTorch`. It is called as follows `nn.Embedding(num_words, embedding_dimension)` where `num_words` is the number of words in our vocabulary and the `embedding_dimension` is the dimension of the embeddings we want to have. There is nothing fancy about `nn.Embedding`: it is just a wrapper class around a trainabe `NxE` dimensional tensor, where `N` is the number of words in our vocabulary and `E` is the number of embedding dimensions. This table is initially random, but it will change over time. As we train our network, the gradients will be backpropagated all the way to the embedding layer, and hence our word embeddings would be updated. We will initiliaze the embedding layer we will use for our model in our model, but we are showing an example here."
      ]
    },
    {
      "cell_type": "code",
      "execution_count": 132,
      "id": "ea9fb9e8-627a-4de3-a4fb-50fa9e49f5d3",
      "metadata": {
        "tags": [],
        "colab": {
          "base_uri": "https://localhost:8080/"
        },
        "id": "ea9fb9e8-627a-4de3-a4fb-50fa9e49f5d3",
        "outputId": "c26b6c24-3297-4b78-fe3f-08423a214d95"
      },
      "outputs": [
        {
          "output_type": "stream",
          "name": "stdout",
          "text": [
            "[Parameter containing:\n",
            "tensor([[ 4.7058e-01,  1.0110e+00,  1.0123e+00, -1.3245e+00, -1.2623e-01],\n",
            "        [ 1.1413e+00, -1.6853e-01,  3.1323e-01, -8.9012e-01,  1.7276e+00],\n",
            "        [-7.9824e-02, -5.9204e-01,  6.3775e-02, -1.3548e+00,  1.7316e+00],\n",
            "        [ 2.3735e-01, -3.7877e-01, -3.2348e-01,  7.1900e-01,  8.1425e-01],\n",
            "        [ 2.1194e+00, -8.6269e-01,  1.4807e-01, -1.4128e+00, -3.7843e-01],\n",
            "        [ 1.0090e+00, -2.1101e+00, -8.2557e-01, -1.0755e+00,  2.6048e-01],\n",
            "        [-3.8112e-01,  5.5327e-01, -1.7146e-01,  1.2679e+00, -5.2315e-01],\n",
            "        [ 1.0597e+00, -4.9105e-01,  3.5022e-01,  1.3663e+00, -1.5006e-01],\n",
            "        [ 8.9391e-01,  9.0524e-01, -4.2841e-01, -3.2387e-01,  8.8614e-01],\n",
            "        [ 1.3510e+00,  4.1876e-01, -2.3811e+00,  1.5343e+00,  2.3480e+00],\n",
            "        [-1.3536e+00, -2.2042e+00,  3.5625e-02, -1.3859e+00, -1.0228e+00],\n",
            "        [ 7.7261e-01, -1.9342e-01,  7.6653e-01, -1.6245e-01,  2.6987e-01],\n",
            "        [ 5.3413e-01, -1.6935e+00,  1.6594e+00,  2.2373e+00, -7.2908e-02],\n",
            "        [ 5.1255e-01, -1.8830e-01,  1.8846e+00, -1.3763e-01, -2.1850e-01],\n",
            "        [-6.2999e-01, -3.3357e-01, -8.6602e-01, -1.3458e+00,  1.5060e+00],\n",
            "        [-3.4341e-01, -2.3801e-01,  7.9548e-01,  1.2212e-02,  2.3309e-01],\n",
            "        [-7.4099e-01, -2.6431e-01, -1.0347e-01,  5.2122e-01, -1.5081e-01],\n",
            "        [ 8.2779e-01, -1.7934e+00, -6.2095e-01,  5.8546e-01, -1.1964e+00],\n",
            "        [ 1.9612e-02,  2.6597e+00,  1.5798e-01,  1.2163e-01,  9.3514e-01],\n",
            "        [-1.5049e+00,  7.3058e-01, -1.6769e-01, -6.0848e-01, -3.3391e-01],\n",
            "        [-1.6077e+00,  8.8766e-01, -3.3449e-01, -2.3498e-03, -8.9634e-01],\n",
            "        [-2.4264e+00,  1.8360e-01, -3.0593e-02,  1.3850e+00, -2.9833e-01],\n",
            "        [-3.0774e-01,  5.5717e-01,  2.1304e+00, -1.4570e+00,  1.1735e-01]],\n",
            "       requires_grad=True)]\n"
          ]
        }
      ],
      "source": [
        "# Creating an embedding table for our words\n",
        "embedding_dim = 5\n",
        "embeds = nn.Embedding(len(vocabulary), embedding_dim)\n",
        "\n",
        "# Printing the parameters in our embedding table\n",
        "pp(list(embeds.parameters()))"
      ]
    },
    {
      "cell_type": "markdown",
      "id": "fff2c103-9753-4e01-86d6-632f909ece58",
      "metadata": {
        "id": "fff2c103-9753-4e01-86d6-632f909ece58"
      },
      "source": [
        "To get the word embedding for a word in our vocabulary, all we need to do is to create a lookup tensor. The lookup tensor is just a tensor containing the index we want to look up `nn.Embedding` class expects an index tensor that is of type Long Tensor, so we should create our tensor accordingly."
      ]
    },
    {
      "cell_type": "code",
      "execution_count": 133,
      "id": "35c050dd-6bf5-49c2-b49e-8beb41f43c21",
      "metadata": {
        "tags": [],
        "colab": {
          "base_uri": "https://localhost:8080/"
        },
        "id": "35c050dd-6bf5-49c2-b49e-8beb41f43c21",
        "outputId": "5b1c3cc0-7ff3-4159-9f25-38585c9ba208"
      },
      "outputs": [
        {
          "output_type": "execute_result",
          "data": {
            "text/plain": [
              "tensor([-0.3434, -0.2380,  0.7955,  0.0122,  0.2331],\n",
              "       grad_fn=<EmbeddingBackward0>)"
            ]
          },
          "metadata": {},
          "execution_count": 133
        }
      ],
      "source": [
        "# Get the embedding for the word Paris\n",
        "index = word_to_ix[\"paris\"]\n",
        "index_tensor = torch.tensor(index, dtype=torch.long)\n",
        "paris_embed = embeds(index_tensor)\n",
        "paris_embed"
      ]
    },
    {
      "cell_type": "code",
      "execution_count": 134,
      "id": "ec9bfcda-0be9-4aa9-8f1f-dc4295c6d150",
      "metadata": {
        "tags": [],
        "colab": {
          "base_uri": "https://localhost:8080/"
        },
        "id": "ec9bfcda-0be9-4aa9-8f1f-dc4295c6d150",
        "outputId": "cb8b211e-977e-4c71-9499-93c215245c66"
      },
      "outputs": [
        {
          "output_type": "execute_result",
          "data": {
            "text/plain": [
              "tensor([[-0.3434, -0.2380,  0.7955,  0.0122,  0.2331],\n",
              "        [ 0.2374, -0.3788, -0.3235,  0.7190,  0.8142]],\n",
              "       grad_fn=<EmbeddingBackward0>)"
            ]
          },
          "metadata": {},
          "execution_count": 134
        }
      ],
      "source": [
        "# We can also get multiple embeddings at once\n",
        "index_paris = word_to_ix[\"paris\"]\n",
        "index_ankara = word_to_ix[\"ankara\"]\n",
        "indices = [index_paris, index_ankara]\n",
        "indices_tensor = torch.tensor(indices, dtype=torch.long)\n",
        "embeddings = embeds(indices_tensor)\n",
        "embeddings"
      ]
    },
    {
      "cell_type": "markdown",
      "id": "4a52c646-f2b8-43f5-91e7-c330026d087b",
      "metadata": {
        "id": "4a52c646-f2b8-43f5-91e7-c330026d087b"
      },
      "source": [
        "Usually, we define the embedding layer as part of our model, which you will see in the later sections of our notebook."
      ]
    },
    {
      "cell_type": "markdown",
      "id": "47346166-2386-40aa-896b-a22c65e0f7c7",
      "metadata": {
        "id": "47346166-2386-40aa-896b-a22c65e0f7c7"
      },
      "source": [
        "#### Batching Sentences\n",
        "\n",
        "We have learned about batches in class.\n",
        "Waiting our whole training corpus to be processed before making an update is costly.\n",
        "On the other hand, updating the parameters after every training example causes the loss to be less stable between updates.\n",
        "To combat these issues, we instead update our parameters after training on a batch of data.\n",
        "This allows us to get a better estimate of the gradient of the global loss.\n",
        "In this section, we will learn how to structure our data into batches using the `torch.util.data.DataLoader` class.\n",
        "\n",
        "We will be calling the `DataLoader` class as follows:\n",
        "\n",
        "`DataLoader(data, batch_size=batch_size, shuffle=True, collate_fn=collate_fn)`.\n",
        "\n",
        "The `batch_size` parameter determines the number of examples per batch.\n",
        "In every epoch, we will be iterating over all the batches using the `DataLoader`.\n",
        "The order of batches is deterministic by default, but we can ask `DataLoader` to shuffle the batches by setting the `shuffle` parameter to `True`.\n",
        "This way we ensure that we don't encounter a bad batch multiple times.\n",
        "\n",
        "If provided, `DataLoader` passes the batches it prepares to the `collate_fn`.\n",
        "We can write a custom function to pass to the `collate_fn` parameter in order to print stats about our batch or perform extra processing.\n",
        "In our case, we will use the `collate_fn` to:\n",
        "\n",
        "1. Window pad our train sentences.\n",
        "2. Convert the words in the training examples to indices.\n",
        "3. Pad the training examples so that all the sentences and labels have the same length.\n",
        "   Similarly, we also need to pad the labels. This creates an issue because when calculating the loss, we need to know the actual number of words in a given example.\n",
        "   We will also keep track of this number in the function we pass to the `collate_fn` parameter.\n",
        "\n",
        "\n",
        "Because our version of the `collate_fn` function will need to access to our `word_to_ix` dictionary (so that it can turn words into indices), we will make use of the `partial` function in `Python`, which passes the parameters we give to the function we pass it."
      ]
    },
    {
      "cell_type": "code",
      "execution_count": 135,
      "id": "b8a532c5-82b9-4512-b1fe-4270568f2d2d",
      "metadata": {
        "tags": [],
        "id": "b8a532c5-82b9-4512-b1fe-4270568f2d2d"
      },
      "outputs": [],
      "source": [
        "from torch.utils.data import DataLoader\n",
        "from functools import partial\n",
        "\n",
        "\n",
        "def custom_collate_fn(batch, window_size, word_to_ix):\n",
        "    # Break our batch into the training examples (x) and labels (y)\n",
        "    # We are turning our x and y into tensors because nn.utils.rnn.pad_sequence\n",
        "    # method expects tensors. This is also useful since our model will be\n",
        "    # expecting tensor inputs.\n",
        "    x, y = zip(*batch)\n",
        "\n",
        "    # Now we need to window pad our training examples. We have already defined a\n",
        "    # function to handle window padding. We are including it here again so that\n",
        "    # everything is in one place.\n",
        "    def pad_window(sentence, window_size, pad_token=\"<pad>\"):\n",
        "        window = [pad_token] * window_size\n",
        "        return window + sentence + window\n",
        "\n",
        "    # Pad the train examples.\n",
        "    x = [pad_window(s, window_size=window_size) for s in x]\n",
        "\n",
        "    # Now we need to turn words in our training examples to indices. We are\n",
        "    # copying the function defined earlier for the same reason as above.\n",
        "    def convert_tokens_to_indices(sentence, word_to_ix):\n",
        "        return [word_to_ix.get(token, word_to_ix[\"<unk>\"]) for token in sentence]\n",
        "\n",
        "    # Convert the train examples into indices.\n",
        "    x = [convert_tokens_to_indices(s, word_to_ix) for s in x]\n",
        "\n",
        "    # We will now pad the examples so that the lengths of all the example in\n",
        "    # one batch are the same, making it possible to do matrix operations.\n",
        "    # We set the batch_first parameter to True so that the returned matrix has\n",
        "    # the batch as the first dimension.\n",
        "    pad_token_ix = word_to_ix[\"<pad>\"]\n",
        "\n",
        "    # pad_sequence function expects the input to be a tensor, so we turn x into one\n",
        "    x = [torch.LongTensor(x_i) for x_i in x]\n",
        "    x_padded = nn.utils.rnn.pad_sequence(\n",
        "        x, batch_first=True, padding_value=pad_token_ix\n",
        "    )\n",
        "\n",
        "    # We will also pad the labels. Before doing so, we will record the number\n",
        "    # of labels so that we know how many words existed in each example.\n",
        "    lengths = [len(label) for label in y]\n",
        "    lenghts = torch.LongTensor(lengths)\n",
        "\n",
        "    y = [torch.LongTensor(y_i) for y_i in y]\n",
        "    y_padded = nn.utils.rnn.pad_sequence(y, batch_first=True, padding_value=0)\n",
        "\n",
        "    # We are now ready to return our variables. The order we return our variables\n",
        "    # here will match the order we read them in our training loop.\n",
        "    return x_padded, y_padded, lenghts"
      ]
    },
    {
      "cell_type": "markdown",
      "id": "99312309-25b0-4f4a-9c4d-0b72ce04ca2d",
      "metadata": {
        "id": "99312309-25b0-4f4a-9c4d-0b72ce04ca2d"
      },
      "source": [
        "This function seems long, but it really doesn't have to be. Check out the alternative version below where we remove the extra function declarations and comments."
      ]
    },
    {
      "cell_type": "code",
      "execution_count": 136,
      "id": "47ed99da-cdfa-499a-8a65-5a1c0ceb274a",
      "metadata": {
        "tags": [],
        "id": "47ed99da-cdfa-499a-8a65-5a1c0ceb274a"
      },
      "outputs": [],
      "source": [
        "def _custom_collate_fn(batch, window_size, word_to_ix):\n",
        "    # Prepare the datapoints\n",
        "    x, y = zip(*batch)\n",
        "    x = [pad_window(s, window_size=window_size) for s in x]\n",
        "    x = [convert_tokens_to_indices(s, word_to_ix) for s in x]\n",
        "\n",
        "    # Pad x so that all the examples in the batch have the same size\n",
        "    pad_token_ix = word_to_ix[\"<pad>\"]\n",
        "    x = [torch.LongTensor(x_i) for x_i in x]\n",
        "    x_padded = nn.utils.rnn.pad_sequence(\n",
        "        x, batch_first=True, padding_value=pad_token_ix\n",
        "    )\n",
        "\n",
        "    # Pad y and record the length\n",
        "    lengths = [len(label) for label in y]\n",
        "    lenghts = torch.LongTensor(lengths)\n",
        "    y = [torch.LongTensor(y_i) for y_i in y]\n",
        "    y_padded = nn.utils.rnn.pad_sequence(y, batch_first=True, padding_value=0)\n",
        "\n",
        "    return x_padded, y_padded, lenghts"
      ]
    },
    {
      "cell_type": "markdown",
      "id": "2f2219a6-a413-48ad-9278-d3b5451c4850",
      "metadata": {
        "id": "2f2219a6-a413-48ad-9278-d3b5451c4850"
      },
      "source": [
        "Now, we can see the `DataLoader` in action."
      ]
    },
    {
      "cell_type": "code",
      "execution_count": 137,
      "id": "2c568c73-a0f8-4a0c-9940-8b8c1f3b971f",
      "metadata": {
        "tags": [],
        "colab": {
          "base_uri": "https://localhost:8080/"
        },
        "id": "2c568c73-a0f8-4a0c-9940-8b8c1f3b971f",
        "outputId": "8b351d37-3283-4d98-8754-e3281ad1f8fc"
      },
      "outputs": [
        {
          "output_type": "stream",
          "name": "stdout",
          "text": [
            "Iteration 0\n",
            "Batched Input:\n",
            "tensor([[ 0,  0, 22,  2,  6, 20, 15,  0,  0],\n",
            "        [ 0,  0, 19, 16, 12,  8,  4,  0,  0]])\n",
            "Batched Labels:\n",
            "tensor([[0, 0, 0, 0, 1],\n",
            "        [0, 0, 0, 0, 1]])\n",
            "Batched Lengths:\n",
            "tensor([5, 5])\n",
            "\n",
            "Iteration 1\n",
            "Batched Input:\n",
            "tensor([[ 0,  0,  9,  7,  8, 18,  0,  0,  0,  0],\n",
            "        [ 0,  0, 19,  5, 14, 21, 12,  3,  0,  0]])\n",
            "Batched Labels:\n",
            "tensor([[0, 0, 0, 1, 0, 0],\n",
            "        [0, 0, 0, 1, 0, 1]])\n",
            "Batched Lengths:\n",
            "tensor([4, 6])\n",
            "\n",
            "Iteration 2\n",
            "Batched Input:\n",
            "tensor([[ 0,  0, 10, 13, 11, 17,  0,  0]])\n",
            "Batched Labels:\n",
            "tensor([[0, 0, 0, 1]])\n",
            "Batched Lengths:\n",
            "tensor([4])\n",
            "\n"
          ]
        }
      ],
      "source": [
        "# Parameters to be passed to the DataLoader\n",
        "data = list(zip(train_sentences, train_labels))\n",
        "batch_size = 2\n",
        "shuffle = True\n",
        "window_size = 2\n",
        "collate_fn = partial(custom_collate_fn, window_size=window_size, word_to_ix=word_to_ix)\n",
        "\n",
        "# Instantiate the DataLoader\n",
        "loader = DataLoader(data, batch_size=batch_size, shuffle=shuffle, collate_fn=collate_fn)\n",
        "\n",
        "# Go through one loop\n",
        "counter = 0\n",
        "for batched_x, batched_y, batched_lengths in loader:\n",
        "    print(f\"Iteration {counter}\")\n",
        "    print(\"Batched Input:\")\n",
        "    print(batched_x)\n",
        "    print(\"Batched Labels:\")\n",
        "    print(batched_y)\n",
        "    print(\"Batched Lengths:\")\n",
        "    print(batched_lengths)\n",
        "    print(\"\")\n",
        "    counter += 1"
      ]
    },
    {
      "cell_type": "markdown",
      "id": "aaf6fd97-6394-4824-b307-79f75229cb97",
      "metadata": {
        "id": "aaf6fd97-6394-4824-b307-79f75229cb97"
      },
      "source": [
        "The batched input tensors you see above will be passed into our model. On the other hand, we started off saying that our model will be a window classifier. The way our input tensors are currently formatted, we have all the words in a sentence in one datapoint. When we pass this input to our model, it needs to create the windows for each word, make a prediction as to whether the center word is a `LOCATION` or not for each window, put the predictions together and return.\n",
        "\n",
        "We could avoid this problem if we formatted our data by breaking it into windows beforehand. In this example, we will instead how our model take care of the formatting.\n",
        "\n",
        "Given that our `window_size` is `N` we want our model to make a prediction on every `2N+1` tokens. That is, if we have an input with `9` tokens, and a `window_size` of `2`, we want our model to return `5` predictions. This makes sense because before we padded it with `2` tokens on each side, our input also had `5` tokens in it!\n",
        "\n",
        "We can create these windows by using for loops, but there is a faster `PyTorch` alternative, which is the `unfold(dimension, size, step)` method. We can create the windows we need using this method as follows:"
      ]
    },
    {
      "cell_type": "code",
      "execution_count": 138,
      "id": "7634a6f0-357f-43d5-9d2f-e635e51c5d0b",
      "metadata": {
        "tags": [],
        "colab": {
          "base_uri": "https://localhost:8080/"
        },
        "id": "7634a6f0-357f-43d5-9d2f-e635e51c5d0b",
        "outputId": "b84565e0-fd18-427e-d1fa-f68741c2c0a2"
      },
      "outputs": [
        {
          "output_type": "stream",
          "name": "stdout",
          "text": [
            "Original Tensor: \n",
            "tensor([[ 0,  0, 10, 13, 11, 17,  0,  0]])\n",
            "\n",
            "Windows: \n",
            "tensor([[[ 0,  0, 10, 13, 11],\n",
            "         [ 0, 10, 13, 11, 17],\n",
            "         [10, 13, 11, 17,  0],\n",
            "         [13, 11, 17,  0,  0]]])\n"
          ]
        }
      ],
      "source": [
        "# Print the original tensor\n",
        "print(f\"Original Tensor: \")\n",
        "print(batched_x)\n",
        "print(\"\")\n",
        "\n",
        "# Create the 2 * 2 + 1 chunks\n",
        "chunk = batched_x.unfold(1, window_size * 2 + 1, 1)\n",
        "# unfold(1, 5, 1) -> dimension 1, window size 5, step 1\n",
        "print(f\"Windows: \")\n",
        "print(chunk)"
      ]
    },
    {
      "cell_type": "markdown",
      "id": "b2eab850-ad2a-4bf0-b99a-fe7ccaa3cd07",
      "metadata": {
        "id": "b2eab850-ad2a-4bf0-b99a-fe7ccaa3cd07"
      },
      "source": [
        "### Model\n",
        "\n",
        "Now that we have prepared our data, we are ready to build our model. We have learned how to write custom `nn.Module` classes. We will do the same here and put everything we have learned so far together."
      ]
    },
    {
      "cell_type": "code",
      "execution_count": 139,
      "id": "9be55eeb-f53b-4d74-9036-b8df27398fc4",
      "metadata": {
        "tags": [],
        "id": "9be55eeb-f53b-4d74-9036-b8df27398fc4"
      },
      "outputs": [],
      "source": [
        "class WordWindowClassifier(nn.Module):\n",
        "    def __init__(self, hyperparameters, vocab_size, pad_ix=0):\n",
        "        super(WordWindowClassifier, self).__init__()\n",
        "\n",
        "        \"\"\" Instance variables \"\"\"\n",
        "        self.window_size = hyperparameters[\"window_size\"]\n",
        "        self.embed_dim = hyperparameters[\"embed_dim\"]\n",
        "        self.hidden_dim = hyperparameters[\"hidden_dim\"]\n",
        "        self.freeze_embeddings = hyperparameters[\"freeze_embeddings\"]\n",
        "\n",
        "        \"\"\" Embedding Layer\n",
        "        Takes in a tensor containing embedding indices, and returns the\n",
        "        corresponding embeddings. The output is of dim\n",
        "        (number_of_indices * embedding_dim).\n",
        "\n",
        "        If freeze_embeddings is True, set the embedding layer parameters to be\n",
        "        non-trainable. This is useful if we only want the parameters other than the\n",
        "        embeddings parameters to change.\n",
        "\n",
        "        \"\"\"\n",
        "        self.embeds = nn.Embedding(vocab_size, self.embed_dim, padding_idx=pad_ix)\n",
        "        if self.freeze_embeddings:\n",
        "            self.embed_layer.weight.requires_grad = False\n",
        "\n",
        "        \"\"\" Hidden Layer with Tanh Activation\n",
        "        \"\"\"\n",
        "        full_window_size = 2 * window_size + 1\n",
        "        self.hidden_layer = nn.Sequential(\n",
        "            nn.Linear(full_window_size * self.embed_dim, self.hidden_dim), nn.Tanh()\n",
        "        )\n",
        "\n",
        "        \"\"\" Output Layer\n",
        "        \"\"\"\n",
        "        self.output_layer = nn.Linear(self.hidden_dim, 1)\n",
        "\n",
        "        \"\"\" Probabilities\n",
        "        \"\"\"\n",
        "        self.probabilities = nn.Sigmoid()\n",
        "\n",
        "    def forward(self, inputs):\n",
        "        \"\"\"\n",
        "        Let B:= batch_size\n",
        "            L:= window-padded sentence length\n",
        "            D:= self.embed_dim\n",
        "            S:= self.window_size\n",
        "            H:= self.hidden_dim\n",
        "\n",
        "        inputs: a (B, L) tensor of token indices\n",
        "        \"\"\"\n",
        "        B, L = inputs.size()\n",
        "\n",
        "        \"\"\"\n",
        "        Reshaping.\n",
        "        Takes in a (B, L) LongTensor\n",
        "        Outputs a (B, L~, S) LongTensor\n",
        "        \"\"\"\n",
        "        # Fist, get our word windows for each word in our input.\n",
        "        token_windows = inputs.unfold(1, 2 * self.window_size + 1, 1)\n",
        "        _, adjusted_length, _ = token_windows.size()\n",
        "\n",
        "        # Good idea to do internal tensor-size sanity checks, at the least in comments!\n",
        "        assert token_windows.size() == (B, adjusted_length, 2 * self.window_size + 1)\n",
        "\n",
        "        \"\"\"\n",
        "        Embedding.\n",
        "        Takes in a torch.LongTensor of size (B, L~, S)\n",
        "        Outputs a (B, L~, S, D) FloatTensor.\n",
        "        \"\"\"\n",
        "        embedded_windows = self.embeds(token_windows)\n",
        "\n",
        "        \"\"\"\n",
        "        Reshaping.\n",
        "        Takes in a (B, L~, S, D) FloatTensor.\n",
        "        Resizes it into a (B, L~, S*D) FloatTensor.\n",
        "        -1 argument \"infers\" what the last dimension should be based on leftover axes.\n",
        "        \"\"\"\n",
        "        embedded_windows = embedded_windows.view(B, adjusted_length, -1)\n",
        "\n",
        "        \"\"\"\n",
        "        Layer 1.\n",
        "        Takes in a (B, L~, S*D) FloatTensor.\n",
        "        Resizes it into a (B, L~, H) FloatTensor\n",
        "        \"\"\"\n",
        "        layer_1 = self.hidden_layer(embedded_windows)\n",
        "\n",
        "        \"\"\"\n",
        "        Layer 2\n",
        "        Takes in a (B, L~, H) FloatTensor.\n",
        "        Resizes it into a (B, L~, 1) FloatTensor.\n",
        "        \"\"\"\n",
        "        output = self.output_layer(layer_1)\n",
        "\n",
        "        \"\"\"\n",
        "        Softmax.\n",
        "        Takes in a (B, L~, 1) FloatTensor of unnormalized class scores.\n",
        "        Outputs a (B, L~, 1) FloatTensor of (log-)normalized class scores.\n",
        "        \"\"\"\n",
        "        output = self.probabilities(output)\n",
        "        output = output.view(B, -1)\n",
        "\n",
        "        return output"
      ]
    },
    {
      "cell_type": "markdown",
      "id": "2d478570-3ff9-4213-a951-ea8ae9829f91",
      "metadata": {
        "id": "2d478570-3ff9-4213-a951-ea8ae9829f91"
      },
      "source": [
        "### Training\n",
        "\n",
        "We are now ready to put everything together. Let's start with preparing our data and intializing our model. We can then intialize our optimizer and define our loss function. This time, instead of using one of the predefined loss function as we did before, we will define our own loss function."
      ]
    },
    {
      "cell_type": "code",
      "execution_count": 140,
      "id": "2261fbe0-95fc-436f-998f-9b06ea8b80ba",
      "metadata": {
        "tags": [],
        "id": "2261fbe0-95fc-436f-998f-9b06ea8b80ba"
      },
      "outputs": [],
      "source": [
        "from tqdm.auto import trange"
      ]
    },
    {
      "cell_type": "code",
      "execution_count": 141,
      "id": "3a4834ca-1c8f-434d-9877-9a01c795a54f",
      "metadata": {
        "tags": [],
        "id": "3a4834ca-1c8f-434d-9877-9a01c795a54f"
      },
      "outputs": [],
      "source": [
        "# Prepare the data\n",
        "data = list(zip(train_sentences, train_labels))\n",
        "batch_size = 2\n",
        "shuffle = True\n",
        "window_size = 2\n",
        "collate_fn = partial(custom_collate_fn, window_size=window_size, word_to_ix=word_to_ix)\n",
        "\n",
        "# Instantiate a DataLoader\n",
        "loader = DataLoader(data, batch_size=batch_size, shuffle=shuffle, collate_fn=collate_fn)\n",
        "\n",
        "# Initialize a model\n",
        "# It is useful to put all the model hyperparameters in a dictionary\n",
        "model_hyperparameters = {\n",
        "    \"batch_size\": 4,\n",
        "    \"window_size\": 2,\n",
        "    \"embed_dim\": 25,\n",
        "    \"hidden_dim\": 25,\n",
        "    \"freeze_embeddings\": False,\n",
        "}\n",
        "\n",
        "vocab_size = len(word_to_ix)\n",
        "model = WordWindowClassifier(model_hyperparameters, vocab_size)\n",
        "\n",
        "# Define an optimizer\n",
        "learning_rate = 0.01\n",
        "optimizer = torch.optim.SGD(model.parameters(), lr=learning_rate)\n",
        "\n",
        "\n",
        "# Define a loss function, which computes to binary cross entropy loss\n",
        "def loss_function(batch_outputs, batch_labels, batch_lengths):\n",
        "    # Calculate the loss for the whole batch\n",
        "    bceloss = nn.BCELoss()\n",
        "    loss = bceloss(batch_outputs, batch_labels.float())\n",
        "\n",
        "    # Rescale the loss. Remember that we have used lengths to store the\n",
        "    # number of words in each training example\n",
        "    loss = loss / batch_lengths.sum().float()\n",
        "\n",
        "    return loss"
      ]
    },
    {
      "cell_type": "markdown",
      "id": "8444e7e1-0acf-43e2-8531-e1d5770b9a85",
      "metadata": {
        "id": "8444e7e1-0acf-43e2-8531-e1d5770b9a85"
      },
      "source": [
        "Unlike our earlier example, this time instead of passing all of our training data to the model at once in each epoch, we will be utilizing batches. Hence, in each training epoch iteration, we also iterate over the batches."
      ]
    },
    {
      "cell_type": "code",
      "execution_count": 142,
      "id": "63110f68-aac7-471a-b257-02e0edbdc6ab",
      "metadata": {
        "tags": [],
        "id": "63110f68-aac7-471a-b257-02e0edbdc6ab"
      },
      "outputs": [],
      "source": [
        "# Function that will be called in every epoch\n",
        "def train_epoch(loss_function, optimizer, model, loader):\n",
        "    # Keep track of the total loss for the batch\n",
        "    total_loss = 0\n",
        "    for batch_inputs, batch_labels, batch_lengths in loader:\n",
        "        # Clear the gradients\n",
        "        optimizer.zero_grad()\n",
        "        # Run a forward pass\n",
        "        outputs = model.forward(batch_inputs)\n",
        "        # Compute the batch loss\n",
        "        loss = loss_function(outputs, batch_labels, batch_lengths)\n",
        "        # Calculate the gradients\n",
        "        loss.backward()\n",
        "        # Update the parameteres\n",
        "        optimizer.step()\n",
        "        total_loss += loss.item()\n",
        "\n",
        "    return total_loss\n",
        "\n",
        "\n",
        "# Function containing our main training loop\n",
        "def train(loss_function, optimizer, model, loader, num_epochs=10000):\n",
        "    # Iterate through each epoch and call our train_epoch function\n",
        "    for epoch in trange(num_epochs):\n",
        "        epoch_loss = train_epoch(loss_function, optimizer, model, loader)\n",
        "        if epoch % 100 == 0:\n",
        "            print(f\"Epoch {epoch:>3}: {epoch_loss:.4f}\")"
      ]
    },
    {
      "cell_type": "markdown",
      "id": "6bc8f58f-678d-41f8-b23c-0aa624b06959",
      "metadata": {
        "id": "6bc8f58f-678d-41f8-b23c-0aa624b06959"
      },
      "source": [
        "Let's start training!"
      ]
    },
    {
      "cell_type": "code",
      "execution_count": 143,
      "id": "89e9dedd-72cc-418a-bc35-52df808666e5",
      "metadata": {
        "tags": [],
        "colab": {
          "base_uri": "https://localhost:8080/",
          "height": 240,
          "referenced_widgets": [
            "cba3b17bd08f438b9a1ba343f373a8a7",
            "c043cea77b4c48df94eff431a58a0e0e",
            "77836b3dca5347a5b486a801ce9df57a",
            "59eb841d09354f779b901feba2560fba",
            "3a0803d9dde94261ab0fdcd742c8c312",
            "4079af6e045c41dd9433a013a5a73f39",
            "56bc4cb362c64dfb9ebc4e948f60d238",
            "b0dd97eacbdd41bfb40bb2b1c676e580",
            "d9ddc502a8a9491084ba4acb00b8bb02",
            "d780b439750d4329811e4d3ccf014452",
            "d327eed6fac2458b8a77b00cffda395f"
          ]
        },
        "id": "89e9dedd-72cc-418a-bc35-52df808666e5",
        "outputId": "14af70b1-3129-4042-d121-55dbaa2a68e4"
      },
      "outputs": [
        {
          "output_type": "display_data",
          "data": {
            "text/plain": [
              "  0%|          | 0/1005 [00:00<?, ?it/s]"
            ],
            "application/vnd.jupyter.widget-view+json": {
              "version_major": 2,
              "version_minor": 0,
              "model_id": "cba3b17bd08f438b9a1ba343f373a8a7"
            }
          },
          "metadata": {}
        },
        {
          "output_type": "stream",
          "name": "stdout",
          "text": [
            "Epoch   0: 0.3314\n",
            "Epoch 100: 0.2162\n",
            "Epoch 200: 0.1713\n",
            "Epoch 300: 0.1308\n",
            "Epoch 400: 0.0960\n",
            "Epoch 500: 0.0706\n",
            "Epoch 600: 0.0535\n",
            "Epoch 700: 0.0425\n",
            "Epoch 800: 0.0344\n",
            "Epoch 900: 0.0314\n",
            "Epoch 1000: 0.0263\n"
          ]
        }
      ],
      "source": [
        "num_epochs = 1005\n",
        "\n",
        "train(loss_function, optimizer, model, loader, num_epochs=num_epochs)"
      ]
    },
    {
      "cell_type": "markdown",
      "id": "4b5ad994-5db5-424f-a227-0b78890bca66",
      "metadata": {
        "id": "4b5ad994-5db5-424f-a227-0b78890bca66"
      },
      "source": [
        "### Prediction\n",
        "\n",
        "#### TASK 4.3\n",
        "\n",
        "Write code to prepare the prediction with the example sentence `test_corpus = [\"She comes from Paris\"]`.\n",
        "\n",
        "1. **Create the test sentence with preprocessing and labels**:\n",
        "    - First, preprocess the example sentence by converting it to lowercase and splitting it into words (tokens).\n",
        "    - Create labels for the sentence. For this example, assume a simple binary label indicating some property of the words in the sentence.\n",
        "  \n",
        "2. **Create a test loader**:\n",
        "    - Create a `DataLoader` to load the test sentence and its corresponding labels.\n",
        "    - Set the `batch_size` to 1 (as you are testing a single sentence).\n",
        "    - Set `shuffle` to `False` to preserve the order of the sentence.\n",
        "    - Use a custom collate function (e.g., `custom_collate_fn`) to process the data during batching. You may also need to define `window_size` and a dictionary `word_to_ix` to map words to indices, depending on your implementation.\n",
        "\n",
        "\n",
        "We want to run the prediciton using the following code:\n",
        "```Python\n",
        "for test_instance, labels, _ in test_loader:\n",
        "    rew_prediction = model.forward(test_instance)\n",
        "```"
      ]
    },
    {
      "cell_type": "code",
      "execution_count": 160,
      "id": "b164d81b",
      "metadata": {
        "id": "b164d81b"
      },
      "outputs": [],
      "source": [
        "### IMPLEMENT YOUR SOLUTION HERE ###\n",
        "def preprocess(sentence, word_to_ix):\n",
        "    unk_index = word_to_ix.get(\"<UNK>\", 0)\n",
        "    return [word_to_ix.get(word.lower(), unk_index) for word in sentence.split()]\n",
        "\n",
        "\n",
        "test_corpus = [\"She comes from Paris\"]\n",
        "test_labels = [[0, 0, 0, 1]]\n",
        "\n",
        "test_sentence = [preprocess(test_corpus[0], word_to_ix)]\n",
        "test_data = list(zip(test_sentence, test_labels))\n",
        "\n",
        "test_loader = DataLoader(test_data, batch_size=1, shuffle=False, collate_fn=partial(custom_collate_fn, window_size=window_size, word_to_ix=word_to_ix))\n",
        "\n",
        "for test_instance, labels, _ in test_loader:\n",
        "    rew_prediction = model.forward(test_instance)\n"
      ]
    },
    {
      "cell_type": "markdown",
      "id": "6f763b18",
      "metadata": {
        "id": "6f763b18"
      },
      "source": [
        "Next we can create our predictions for the test sentence and print the raw predictions from the model."
      ]
    },
    {
      "cell_type": "code",
      "execution_count": 161,
      "id": "7c96e469",
      "metadata": {
        "colab": {
          "base_uri": "https://localhost:8080/"
        },
        "id": "7c96e469",
        "outputId": "288c5b52-4dee-4f58-9817-959a8e3f630d"
      },
      "outputs": [
        {
          "output_type": "stream",
          "name": "stdout",
          "text": [
            "tensor([[0.3326, 0.4016, 0.2985, 0.2021]])\n"
          ]
        }
      ],
      "source": [
        "# show raw predictions for the test data\n",
        "with torch.no_grad():\n",
        "    for test_instance, labels, _ in test_loader:\n",
        "        raw_prediction = model.forward(test_instance)\n",
        "print(raw_prediction)\n",
        "\n",
        "# raw_prediction shoul be a tensor of shape (1, 4): for example tensor([[0.0580, 0.0262, 0.2414, 0.9018]])"
      ]
    },
    {
      "cell_type": "markdown",
      "id": "cbb938c9",
      "metadata": {
        "id": "cbb938c9"
      },
      "source": [
        "In jupyter notebooks we can test the inference time of our model using the %%timeit magic command. With this command we run the cell multiple times and calculate the average time it takes to run the cell."
      ]
    },
    {
      "cell_type": "code",
      "execution_count": 162,
      "id": "054f3614-b016-437f-a66d-d12009556ea2",
      "metadata": {
        "tags": [],
        "colab": {
          "base_uri": "https://localhost:8080/"
        },
        "id": "054f3614-b016-437f-a66d-d12009556ea2",
        "outputId": "030d4298-e577-453c-c21a-39aede47b483"
      },
      "outputs": [
        {
          "output_type": "stream",
          "name": "stdout",
          "text": [
            "570 µs ± 68.8 µs per loop (mean ± std. dev. of 7 runs, 1000 loops each)\n"
          ]
        }
      ],
      "source": [
        "%%timeit\n",
        "for test_instance, labels, _ in test_loader:\n",
        "    raw_prediction = model.forward(test_instance)\n"
      ]
    },
    {
      "cell_type": "markdown",
      "id": "44a2e4f2",
      "metadata": {
        "id": "44a2e4f2"
      },
      "source": [
        "Now we compare the time with the no_grad context manager. This context manager allows us to disable gradient computation, which provides a speedup and is useful when we are only interested in inference."
      ]
    },
    {
      "cell_type": "code",
      "execution_count": 163,
      "id": "94dd821c-55af-42e6-8107-a0db9385b013",
      "metadata": {
        "tags": [],
        "colab": {
          "base_uri": "https://localhost:8080/"
        },
        "id": "94dd821c-55af-42e6-8107-a0db9385b013",
        "outputId": "a05487be-5f09-4467-a598-ed661ee0a4e8"
      },
      "outputs": [
        {
          "output_type": "stream",
          "name": "stdout",
          "text": [
            "426 µs ± 17.1 µs per loop (mean ± std. dev. of 7 runs, 1000 loops each)\n"
          ]
        }
      ],
      "source": [
        "%%timeit\n",
        "with torch.no_grad():\n",
        "    for test_instance, labels, _ in test_loader:\n",
        "        raw_prediction = model.forward(test_instance)\n"
      ]
    },
    {
      "cell_type": "markdown",
      "id": "00491db6",
      "metadata": {
        "id": "00491db6"
      },
      "source": [
        "With this, we have build a simple word window classifier using PyTorch. You should now have a basic understanding of how to build a simple neural network using PyTorch."
      ]
    }
  ],
  "metadata": {
    "kernelspec": {
      "display_name": "Python 3",
      "name": "python3"
    },
    "language_info": {
      "codemirror_mode": {
        "name": "ipython",
        "version": 3
      },
      "file_extension": ".py",
      "mimetype": "text/x-python",
      "name": "python",
      "nbconvert_exporter": "python",
      "pygments_lexer": "ipython3",
      "version": "3.10.16"
    },
    "colab": {
      "provenance": [],
      "gpuType": "T4",
      "include_colab_link": true
    },
    "accelerator": "GPU",
    "widgets": {
      "application/vnd.jupyter.widget-state+json": {
        "cba3b17bd08f438b9a1ba343f373a8a7": {
          "model_module": "@jupyter-widgets/controls",
          "model_name": "HBoxModel",
          "model_module_version": "1.5.0",
          "state": {
            "_dom_classes": [],
            "_model_module": "@jupyter-widgets/controls",
            "_model_module_version": "1.5.0",
            "_model_name": "HBoxModel",
            "_view_count": null,
            "_view_module": "@jupyter-widgets/controls",
            "_view_module_version": "1.5.0",
            "_view_name": "HBoxView",
            "box_style": "",
            "children": [
              "IPY_MODEL_c043cea77b4c48df94eff431a58a0e0e",
              "IPY_MODEL_77836b3dca5347a5b486a801ce9df57a",
              "IPY_MODEL_59eb841d09354f779b901feba2560fba"
            ],
            "layout": "IPY_MODEL_3a0803d9dde94261ab0fdcd742c8c312"
          }
        },
        "c043cea77b4c48df94eff431a58a0e0e": {
          "model_module": "@jupyter-widgets/controls",
          "model_name": "HTMLModel",
          "model_module_version": "1.5.0",
          "state": {
            "_dom_classes": [],
            "_model_module": "@jupyter-widgets/controls",
            "_model_module_version": "1.5.0",
            "_model_name": "HTMLModel",
            "_view_count": null,
            "_view_module": "@jupyter-widgets/controls",
            "_view_module_version": "1.5.0",
            "_view_name": "HTMLView",
            "description": "",
            "description_tooltip": null,
            "layout": "IPY_MODEL_4079af6e045c41dd9433a013a5a73f39",
            "placeholder": "​",
            "style": "IPY_MODEL_56bc4cb362c64dfb9ebc4e948f60d238",
            "value": "100%"
          }
        },
        "77836b3dca5347a5b486a801ce9df57a": {
          "model_module": "@jupyter-widgets/controls",
          "model_name": "FloatProgressModel",
          "model_module_version": "1.5.0",
          "state": {
            "_dom_classes": [],
            "_model_module": "@jupyter-widgets/controls",
            "_model_module_version": "1.5.0",
            "_model_name": "FloatProgressModel",
            "_view_count": null,
            "_view_module": "@jupyter-widgets/controls",
            "_view_module_version": "1.5.0",
            "_view_name": "ProgressView",
            "bar_style": "success",
            "description": "",
            "description_tooltip": null,
            "layout": "IPY_MODEL_b0dd97eacbdd41bfb40bb2b1c676e580",
            "max": 1005,
            "min": 0,
            "orientation": "horizontal",
            "style": "IPY_MODEL_d9ddc502a8a9491084ba4acb00b8bb02",
            "value": 1005
          }
        },
        "59eb841d09354f779b901feba2560fba": {
          "model_module": "@jupyter-widgets/controls",
          "model_name": "HTMLModel",
          "model_module_version": "1.5.0",
          "state": {
            "_dom_classes": [],
            "_model_module": "@jupyter-widgets/controls",
            "_model_module_version": "1.5.0",
            "_model_name": "HTMLModel",
            "_view_count": null,
            "_view_module": "@jupyter-widgets/controls",
            "_view_module_version": "1.5.0",
            "_view_name": "HTMLView",
            "description": "",
            "description_tooltip": null,
            "layout": "IPY_MODEL_d780b439750d4329811e4d3ccf014452",
            "placeholder": "​",
            "style": "IPY_MODEL_d327eed6fac2458b8a77b00cffda395f",
            "value": " 1005/1005 [00:03&lt;00:00, 261.27it/s]"
          }
        },
        "3a0803d9dde94261ab0fdcd742c8c312": {
          "model_module": "@jupyter-widgets/base",
          "model_name": "LayoutModel",
          "model_module_version": "1.2.0",
          "state": {
            "_model_module": "@jupyter-widgets/base",
            "_model_module_version": "1.2.0",
            "_model_name": "LayoutModel",
            "_view_count": null,
            "_view_module": "@jupyter-widgets/base",
            "_view_module_version": "1.2.0",
            "_view_name": "LayoutView",
            "align_content": null,
            "align_items": null,
            "align_self": null,
            "border": null,
            "bottom": null,
            "display": null,
            "flex": null,
            "flex_flow": null,
            "grid_area": null,
            "grid_auto_columns": null,
            "grid_auto_flow": null,
            "grid_auto_rows": null,
            "grid_column": null,
            "grid_gap": null,
            "grid_row": null,
            "grid_template_areas": null,
            "grid_template_columns": null,
            "grid_template_rows": null,
            "height": null,
            "justify_content": null,
            "justify_items": null,
            "left": null,
            "margin": null,
            "max_height": null,
            "max_width": null,
            "min_height": null,
            "min_width": null,
            "object_fit": null,
            "object_position": null,
            "order": null,
            "overflow": null,
            "overflow_x": null,
            "overflow_y": null,
            "padding": null,
            "right": null,
            "top": null,
            "visibility": null,
            "width": null
          }
        },
        "4079af6e045c41dd9433a013a5a73f39": {
          "model_module": "@jupyter-widgets/base",
          "model_name": "LayoutModel",
          "model_module_version": "1.2.0",
          "state": {
            "_model_module": "@jupyter-widgets/base",
            "_model_module_version": "1.2.0",
            "_model_name": "LayoutModel",
            "_view_count": null,
            "_view_module": "@jupyter-widgets/base",
            "_view_module_version": "1.2.0",
            "_view_name": "LayoutView",
            "align_content": null,
            "align_items": null,
            "align_self": null,
            "border": null,
            "bottom": null,
            "display": null,
            "flex": null,
            "flex_flow": null,
            "grid_area": null,
            "grid_auto_columns": null,
            "grid_auto_flow": null,
            "grid_auto_rows": null,
            "grid_column": null,
            "grid_gap": null,
            "grid_row": null,
            "grid_template_areas": null,
            "grid_template_columns": null,
            "grid_template_rows": null,
            "height": null,
            "justify_content": null,
            "justify_items": null,
            "left": null,
            "margin": null,
            "max_height": null,
            "max_width": null,
            "min_height": null,
            "min_width": null,
            "object_fit": null,
            "object_position": null,
            "order": null,
            "overflow": null,
            "overflow_x": null,
            "overflow_y": null,
            "padding": null,
            "right": null,
            "top": null,
            "visibility": null,
            "width": null
          }
        },
        "56bc4cb362c64dfb9ebc4e948f60d238": {
          "model_module": "@jupyter-widgets/controls",
          "model_name": "DescriptionStyleModel",
          "model_module_version": "1.5.0",
          "state": {
            "_model_module": "@jupyter-widgets/controls",
            "_model_module_version": "1.5.0",
            "_model_name": "DescriptionStyleModel",
            "_view_count": null,
            "_view_module": "@jupyter-widgets/base",
            "_view_module_version": "1.2.0",
            "_view_name": "StyleView",
            "description_width": ""
          }
        },
        "b0dd97eacbdd41bfb40bb2b1c676e580": {
          "model_module": "@jupyter-widgets/base",
          "model_name": "LayoutModel",
          "model_module_version": "1.2.0",
          "state": {
            "_model_module": "@jupyter-widgets/base",
            "_model_module_version": "1.2.0",
            "_model_name": "LayoutModel",
            "_view_count": null,
            "_view_module": "@jupyter-widgets/base",
            "_view_module_version": "1.2.0",
            "_view_name": "LayoutView",
            "align_content": null,
            "align_items": null,
            "align_self": null,
            "border": null,
            "bottom": null,
            "display": null,
            "flex": null,
            "flex_flow": null,
            "grid_area": null,
            "grid_auto_columns": null,
            "grid_auto_flow": null,
            "grid_auto_rows": null,
            "grid_column": null,
            "grid_gap": null,
            "grid_row": null,
            "grid_template_areas": null,
            "grid_template_columns": null,
            "grid_template_rows": null,
            "height": null,
            "justify_content": null,
            "justify_items": null,
            "left": null,
            "margin": null,
            "max_height": null,
            "max_width": null,
            "min_height": null,
            "min_width": null,
            "object_fit": null,
            "object_position": null,
            "order": null,
            "overflow": null,
            "overflow_x": null,
            "overflow_y": null,
            "padding": null,
            "right": null,
            "top": null,
            "visibility": null,
            "width": null
          }
        },
        "d9ddc502a8a9491084ba4acb00b8bb02": {
          "model_module": "@jupyter-widgets/controls",
          "model_name": "ProgressStyleModel",
          "model_module_version": "1.5.0",
          "state": {
            "_model_module": "@jupyter-widgets/controls",
            "_model_module_version": "1.5.0",
            "_model_name": "ProgressStyleModel",
            "_view_count": null,
            "_view_module": "@jupyter-widgets/base",
            "_view_module_version": "1.2.0",
            "_view_name": "StyleView",
            "bar_color": null,
            "description_width": ""
          }
        },
        "d780b439750d4329811e4d3ccf014452": {
          "model_module": "@jupyter-widgets/base",
          "model_name": "LayoutModel",
          "model_module_version": "1.2.0",
          "state": {
            "_model_module": "@jupyter-widgets/base",
            "_model_module_version": "1.2.0",
            "_model_name": "LayoutModel",
            "_view_count": null,
            "_view_module": "@jupyter-widgets/base",
            "_view_module_version": "1.2.0",
            "_view_name": "LayoutView",
            "align_content": null,
            "align_items": null,
            "align_self": null,
            "border": null,
            "bottom": null,
            "display": null,
            "flex": null,
            "flex_flow": null,
            "grid_area": null,
            "grid_auto_columns": null,
            "grid_auto_flow": null,
            "grid_auto_rows": null,
            "grid_column": null,
            "grid_gap": null,
            "grid_row": null,
            "grid_template_areas": null,
            "grid_template_columns": null,
            "grid_template_rows": null,
            "height": null,
            "justify_content": null,
            "justify_items": null,
            "left": null,
            "margin": null,
            "max_height": null,
            "max_width": null,
            "min_height": null,
            "min_width": null,
            "object_fit": null,
            "object_position": null,
            "order": null,
            "overflow": null,
            "overflow_x": null,
            "overflow_y": null,
            "padding": null,
            "right": null,
            "top": null,
            "visibility": null,
            "width": null
          }
        },
        "d327eed6fac2458b8a77b00cffda395f": {
          "model_module": "@jupyter-widgets/controls",
          "model_name": "DescriptionStyleModel",
          "model_module_version": "1.5.0",
          "state": {
            "_model_module": "@jupyter-widgets/controls",
            "_model_module_version": "1.5.0",
            "_model_name": "DescriptionStyleModel",
            "_view_count": null,
            "_view_module": "@jupyter-widgets/base",
            "_view_module_version": "1.2.0",
            "_view_name": "StyleView",
            "description_width": ""
          }
        }
      }
    }
  },
  "nbformat": 4,
  "nbformat_minor": 5
}