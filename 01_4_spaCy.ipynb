{
  "cells": [
    {
      "cell_type": "markdown",
      "metadata": {
        "id": "view-in-github",
        "colab_type": "text"
      },
      "source": [
        "<a href=\"https://colab.research.google.com/github/Showcas/NLP/blob/main/01_4_spaCy.ipynb\" target=\"_parent\"><img src=\"https://colab.research.google.com/assets/colab-badge.svg\" alt=\"Open In Colab\"/></a>"
      ]
    },
    {
      "cell_type": "markdown",
      "metadata": {
        "id": "S5ZxY4xMjmJg"
      },
      "source": [
        "# Natural Language Processing with Deep Learning"
      ]
    },
    {
      "cell_type": "markdown",
      "metadata": {
        "id": "OTvilt-RjmJh"
      },
      "source": [
        "## Import spaCy\n",
        "\n",
        "Read more at [spacy.io](https://spacy.io)"
      ]
    },
    {
      "cell_type": "code",
      "execution_count": null,
      "metadata": {
        "id": "dqbwoLjKjmJh",
        "jupyter": {
          "outputs_hidden": false
        },
        "tags": []
      },
      "outputs": [],
      "source": [
        "import spacy"
      ]
    },
    {
      "cell_type": "code",
      "execution_count": null,
      "metadata": {
        "id": "J3wgj-RFEXed"
      },
      "outputs": [],
      "source": [
        "# download model:\n",
        "# !python -m spacy download en_core_web_sm"
      ]
    },
    {
      "cell_type": "code",
      "execution_count": null,
      "metadata": {
        "id": "LpHNSuvNjmJi",
        "jupyter": {
          "outputs_hidden": false
        },
        "scrolled": true,
        "tags": []
      },
      "outputs": [],
      "source": [
        "# We load a model for english, based on a web crawl, and we choose the small model\n",
        "nlp = spacy.load('en_core_web_sm')"
      ]
    },
    {
      "cell_type": "markdown",
      "metadata": {
        "id": "gXywc2AtjmJi"
      },
      "source": [
        "## Word Tokenize\n",
        "Tokenize sentences to get the tokens of the text i.e breaking the sentences into words."
      ]
    },
    {
      "cell_type": "code",
      "execution_count": null,
      "metadata": {
        "id": "XX8GsXdcjmJi",
        "jupyter": {
          "outputs_hidden": false
        },
        "tags": []
      },
      "outputs": [],
      "source": [
        "text = \"Vienna is the national capital, largest city, and one of nine states of Austria. Vienna is Austria's most populous city, with about 1.9 million inhabitants\"\n",
        "\n",
        "doc = nlp(text)\n",
        "words = [token.text for token in doc]\n",
        "print (words)"
      ]
    },
    {
      "cell_type": "markdown",
      "metadata": {
        "id": "7MlyXk-ujmJi"
      },
      "source": [
        "## Sentence tokenize\n",
        "Tokenize sentences if the there are more than 1 sentence i.e breaking the sentences to list of sentence."
      ]
    },
    {
      "cell_type": "code",
      "execution_count": null,
      "metadata": {
        "id": "8GgsYYiajmJi",
        "jupyter": {
          "outputs_hidden": false
        },
        "tags": []
      },
      "outputs": [],
      "source": [
        "text = \"Vienna is the national capital, largest city, and one of nine states of Austria. Vienna is Austria's most populous city, with about 1.9 million inhabitants\"\n",
        "doc = nlp(text)\n",
        "\n",
        "text = nlp(text)\n",
        "list(text.sents)"
      ]
    },
    {
      "cell_type": "markdown",
      "metadata": {
        "id": "OPMdSbOKjmJi"
      },
      "source": [
        "## Stopword removal\n",
        "Remove irrelevant words using nltk stop words like *is*, *the*, *a*, *etc*, ... from the sentences as they don’t carry any information."
      ]
    },
    {
      "cell_type": "markdown",
      "metadata": {
        "id": "ThqGlNctEXee"
      },
      "source": [
        "TASK 1.6\n",
        "\n",
        "Implement the removal of stopwords and punctuations in the code below."
      ]
    },
    {
      "cell_type": "code",
      "execution_count": null,
      "metadata": {
        "id": "8CdP42MvEXef"
      },
      "outputs": [],
      "source": [
        "text = \"Vienna is the national capital, largest city, and one of nine states of Austria. Vienna is Austria's most populous city, with about 1.9 million inhabitants\"\n",
        "doc = nlp(text)\n",
        "\n",
        "### IMPLEMENT YOUR SOLUTION HERE ###\n",
        "# remove stopwords and punctuations\n",
        "words = [\n",
        "\n",
        "]\n",
        "\n",
        "\n",
        "print(words)"
      ]
    },
    {
      "cell_type": "markdown",
      "metadata": {
        "id": "-AAgjCfvjmJj"
      },
      "source": [
        "## Get word frequency\n",
        "Counting the word occurrence using FreqDist library"
      ]
    },
    {
      "cell_type": "code",
      "execution_count": null,
      "metadata": {
        "id": "XGr2CyYPjmJj",
        "jupyter": {
          "outputs_hidden": false
        },
        "tags": []
      },
      "outputs": [],
      "source": [
        "from collections import Counter\n",
        "\n",
        "text = \"Vienna is the national capital, largest city, and one of nine states of Austria. Vienna is Austria's most populous city, with about 1.9 million inhabitants\"\n",
        "doc = nlp(text)\n",
        "\n",
        "#remove stopwords and punctuations\n",
        "words = [token.text for token in doc if not token.is_stop and not token.is_punct]\n",
        "\n",
        "word_freq = Counter(words)\n",
        "common_words = word_freq.most_common()\n",
        "\n",
        "print (common_words)"
      ]
    },
    {
      "cell_type": "markdown",
      "metadata": {
        "id": "ZrbAfiVQjmJj"
      },
      "source": [
        "## Part of Speech tags\n",
        "POS tag helps us to know the tags of each word like whether a word is noun, adjective etc."
      ]
    },
    {
      "cell_type": "code",
      "execution_count": null,
      "metadata": {
        "id": "zRYwCvZejmJj",
        "jupyter": {
          "outputs_hidden": false
        },
        "tags": []
      },
      "outputs": [],
      "source": [
        "text = \"Vienna is the national capital, largest city, and one of nine states of Austria. Vienna is Austria's most populous city, with about 1.9 million inhabitants.\"\n",
        "\n",
        "doc = nlp(text)\n",
        "\n",
        "for token in doc:\n",
        "    print (token.text, token.pos_)"
      ]
    },
    {
      "cell_type": "markdown",
      "metadata": {
        "id": "Tq9sa4e8u6ZD"
      },
      "source": [
        "# Visualization with spaCy\n"
      ]
    },
    {
      "cell_type": "code",
      "execution_count": null,
      "metadata": {
        "id": "MbC0jxhOu9YY"
      },
      "outputs": [],
      "source": [
        "from spacy import displacy\n",
        "displacy.render(doc, style=\"dep\", jupyter=True)"
      ]
    },
    {
      "cell_type": "markdown",
      "metadata": {
        "id": "TFNR9XDPjmJj"
      },
      "source": [
        "## NER(Named Entity Recognition)"
      ]
    },
    {
      "cell_type": "markdown",
      "metadata": {
        "id": "3fx79Rj1jmJj"
      },
      "source": [
        "| Label    | Description                                          |\n",
        "|----------|------------------------------------------------------|\n",
        "| ORG      | Companies, agencies, institutions.                   |\n",
        "| GPE      | Geopolitical entity, i.e. countries, cities, states. |\n",
        "| CARDINAL | Numerals                                             |"
      ]
    },
    {
      "cell_type": "code",
      "execution_count": null,
      "metadata": {
        "id": "s-7fnGGLjmJj",
        "jupyter": {
          "outputs_hidden": false
        },
        "tags": []
      },
      "outputs": [],
      "source": [
        "text = \"Vienna is the national capital, largest city, and one of nine states of Austria. Vienna is Austria's most populous city, with about 1.9 million inhabitants\"\n",
        "doc = nlp(text)\n",
        "\n",
        "for ent in doc.ents:\n",
        "    print(ent.text, ent.label_)"
      ]
    },
    {
      "cell_type": "code",
      "execution_count": null,
      "metadata": {
        "id": "rcnCZ9yyyXBq"
      },
      "outputs": [],
      "source": [
        "nlp.get_pipe('ner').labels"
      ]
    },
    {
      "cell_type": "markdown",
      "metadata": {
        "id": "efaKYbcC3fCD"
      },
      "source": [
        "The labels and their meaning:\n",
        "* **CARDINAL**: Numerals that do not fall under another type.\n",
        "* **DATE**: Absolute or relative dates or periods.\n",
        "* **EVENT**: Named hurricanes, battles, wars, sports events, etc.\n",
        "* **FAC**: Buildings, airports, highways, bridges, etc.\n",
        "* **GPE**: Countries, cities, states.\n",
        "* **LANGUAGE**: Any named language.\n",
        "* **LAW**: Named documents made into laws.\n",
        "* **LOC**: Non-GPE locations, mountain ranges, bodies of water.\n",
        "* **MONEY**: Monetary values, including unit.\n",
        "* **NORP**: Nationalities or religious or political groups.\n",
        "* **ORDINAL**: \"First\", \"second\", etc.\n",
        "* **ORG**: Companies, agencies, institutions, etc.\n",
        "* **PERCENT**: Percentage, including \"%\".\n",
        "* **PERSON**: People, including fictional.\n",
        "* **PRODUCT**: Objects, vehicles, foods, etc. (Not services.)\n",
        "* **QUANTITY**: Measurements, as of weight or distance.\n",
        "* **TIME**: Times smaller than a day.\n",
        "* **WORK_OF_ART**: Titles of books, songs, etc.\n",
        "\n"
      ]
    },
    {
      "cell_type": "markdown",
      "metadata": {
        "id": "PTq--9KejmJj"
      },
      "source": [
        "## Word Vector Representation"
      ]
    },
    {
      "cell_type": "code",
      "execution_count": null,
      "metadata": {
        "id": "XMIaytKdjmJj",
        "jupyter": {
          "outputs_hidden": false
        },
        "tags": []
      },
      "outputs": [],
      "source": [
        "city = nlp('Vienna')\n",
        "print(city.vector.shape)\n",
        "print(city.vector)"
      ]
    },
    {
      "cell_type": "code",
      "execution_count": null,
      "metadata": {
        "id": "DGp7-iey5yTv"
      },
      "outputs": [],
      "source": []
    }
  ],
  "metadata": {
    "colab": {
      "provenance": [],
      "include_colab_link": true
    },
    "kernelspec": {
      "display_name": "HSG_NLP_EDU",
      "language": "python",
      "name": "python3"
    },
    "language_info": {
      "codemirror_mode": {
        "name": "ipython",
        "version": 3
      },
      "file_extension": ".py",
      "mimetype": "text/x-python",
      "name": "python",
      "nbconvert_exporter": "python",
      "pygments_lexer": "ipython3",
      "version": "3.9.21"
    }
  },
  "nbformat": 4,
  "nbformat_minor": 0
}