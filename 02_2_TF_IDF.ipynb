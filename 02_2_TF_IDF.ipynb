{
  "cells": [
    {
      "cell_type": "markdown",
      "metadata": {
        "id": "view-in-github",
        "colab_type": "text"
      },
      "source": [
        "<a href=\"https://colab.research.google.com/github/Showcas/NLP/blob/main/02_2_TF_IDF.ipynb\" target=\"_parent\"><img src=\"https://colab.research.google.com/assets/colab-badge.svg\" alt=\"Open In Colab\"/></a>"
      ]
    },
    {
      "cell_type": "markdown",
      "metadata": {
        "id": "ENdlC6gc7J8-"
      },
      "source": [
        "# Natural Language Processing with LLMs\n",
        "\n",
        "## tf-idf\n",
        "\n",
        "tf-idf stands for *term frequency — inverse document frequency*\n",
        "\n",
        "---"
      ]
    },
    {
      "cell_type": "code",
      "execution_count": 3,
      "metadata": {
        "colab": {
          "base_uri": "https://localhost:8080/"
        },
        "id": "M7uM91ih0M8H",
        "outputId": "ca5c1527-9fc6-4dc9-85f2-efdad057c6dd"
      },
      "outputs": [
        {
          "output_type": "stream",
          "name": "stdout",
          "text": [
            "Requirement already satisfied: pandas in /usr/local/lib/python3.11/dist-packages (2.2.2)\n",
            "Requirement already satisfied: numpy>=1.23.2 in /usr/local/lib/python3.11/dist-packages (from pandas) (1.26.4)\n",
            "Requirement already satisfied: python-dateutil>=2.8.2 in /usr/local/lib/python3.11/dist-packages (from pandas) (2.8.2)\n",
            "Requirement already satisfied: pytz>=2020.1 in /usr/local/lib/python3.11/dist-packages (from pandas) (2025.1)\n",
            "Requirement already satisfied: tzdata>=2022.7 in /usr/local/lib/python3.11/dist-packages (from pandas) (2025.1)\n",
            "Requirement already satisfied: six>=1.5 in /usr/local/lib/python3.11/dist-packages (from python-dateutil>=2.8.2->pandas) (1.17.0)\n"
          ]
        }
      ],
      "source": [
        "!pip install pandas"
      ]
    },
    {
      "cell_type": "markdown",
      "metadata": {
        "id": "JZPvR87r7J9D"
      },
      "source": [
        "Here, we have 4 documents."
      ]
    },
    {
      "cell_type": "code",
      "execution_count": 42,
      "metadata": {
        "colab": {
          "base_uri": "https://localhost:8080/"
        },
        "id": "uqJUU3kj7J9E",
        "jupyter": {
          "outputs_hidden": false
        },
        "outputId": "f0b1e66a-bd2f-45d1-fcb0-9ed32377eb72",
        "tags": []
      },
      "outputs": [
        {
          "output_type": "execute_result",
          "data": {
            "text/plain": [
              "[('america', 0),\n",
              " ('bali', 1),\n",
              " ('country', 2),\n",
              " ('island', 3),\n",
              " ('japan', 4),\n",
              " ('peru', 5),\n",
              " ('south', 6)]"
            ]
          },
          "metadata": {},
          "execution_count": 42
        }
      ],
      "source": [
        "from sklearn.feature_extraction.text import CountVectorizer\n",
        "\n",
        "data_set = (\n",
        "    \"Bali is an island and not a country\",\n",
        "    \"Peru is a country in south america\",\n",
        "    \"This is a country. That is not a country\",\n",
        "    \"japan is a country made of more than one island\"\n",
        ")\n",
        "\n",
        "vectorizer = CountVectorizer(stop_words='english')\n",
        "\n",
        "# fit the vectorizer to the data set\n",
        "vectorizer.fit(data_set)\n",
        "\n",
        "# print sorted vocabulary dictionary\n",
        "sorted(vectorizer.vocabulary_.items(), key=lambda k: k[1])"
      ]
    },
    {
      "cell_type": "code",
      "execution_count": 44,
      "metadata": {
        "colab": {
          "base_uri": "https://localhost:8080/"
        },
        "id": "02lOzGLa7J9G",
        "jupyter": {
          "outputs_hidden": false
        },
        "outputId": "382147f1-213a-4992-cdee-434e8c8ede0c",
        "tags": []
      },
      "outputs": [
        {
          "output_type": "stream",
          "name": "stdout",
          "text": [
            "  (0, 1)\t1\n",
            "  (0, 2)\t1\n",
            "  (0, 3)\t1\n",
            "  (1, 0)\t1\n",
            "  (1, 2)\t1\n",
            "  (1, 5)\t1\n",
            "  (1, 6)\t1\n",
            "  (2, 2)\t2\n",
            "  (3, 2)\t1\n",
            "  (3, 3)\t1\n",
            "  (3, 4)\t1\n",
            "(4, 7)\n",
            "{'bali': 1, 'island': 3, 'country': 2, 'peru': 5, 'south': 6, 'america': 0, 'japan': 4}\n"
          ]
        }
      ],
      "source": [
        "# Converting dataset into spare matrix\n",
        "smatrix = vectorizer.transform(data_set)\n",
        "\n",
        "print(smatrix)\n",
        "print(smatrix.shape)\n",
        "\n",
        "# Note that the sparse matrix created called smatrix is a scipy sparse matrix with\n",
        "# elements stored in coordinate format. But you can convert it into a dense format.\n",
        "print(vectorizer.vocabulary_)"
      ]
    },
    {
      "cell_type": "code",
      "execution_count": 28,
      "metadata": {
        "colab": {
          "base_uri": "https://localhost:8080/"
        },
        "id": "_UkL1nIOeGz0",
        "outputId": "392d17da-a360-420e-bc57-38c82e1c688f"
      },
      "outputs": [
        {
          "output_type": "execute_result",
          "data": {
            "text/plain": [
              "matrix([[0, 1, 1, 1, 0, 0, 0],\n",
              "        [1, 0, 1, 0, 0, 1, 1],\n",
              "        [0, 0, 2, 0, 0, 0, 0],\n",
              "        [0, 0, 1, 1, 1, 0, 0]])"
            ]
          },
          "metadata": {},
          "execution_count": 28
        }
      ],
      "source": [
        "# here we have a dense representation of the same matrix\n",
        "smatrix.todense()"
      ]
    },
    {
      "cell_type": "markdown",
      "metadata": {
        "id": "tMgfGUp60M8K"
      },
      "source": [
        "Each row in the output matrix corresponds to document in the data_set. Each column corresponds to corresponding words from the vocabulary.\n",
        "\n",
        "So the first row of the matrix represents the encoding of the first sentence in the data set (`\"Bali is an island and not a country\"`)\n",
        "The encoding is as follows:\n",
        "```\n",
        "[0, 1, 1, 1, 0, 0, 0]\n",
        "```\n",
        "\n",
        "This means that the first sentence in the data set has the following words encoded:\n",
        "```\n",
        "[   0,         1,      1,           1,          0,          0,          0       ]\n",
        "                ⬇      ⬇            ⬇                                         \n",
        "[   'america', 'bali', 'country',   'island',   'japan',    'peru',     'south' ]\n",
        "```\n",
        "\n",
        "\"bali\", \"country\", \"island\" are the words in the first sentence in the data set"
      ]
    },
    {
      "cell_type": "markdown",
      "metadata": {
        "id": "Pu-1lAR37J9H"
      },
      "source": [
        "Each element of the matrix is ‘term frequency’, i.e. number of times the word appears in that particular document.\n",
        "For Example: *‘country’* appears 2 times in document 2."
      ]
    },
    {
      "cell_type": "markdown",
      "metadata": {
        "id": "ql0Xh--m7J9H"
      },
      "source": [
        "Finally, idf (inverse document frequency):\n"
      ]
    },
    {
      "cell_type": "markdown",
      "metadata": {
        "id": "fTUKzGHt7J9H"
      },
      "source": [
        "$$ idf_t = \\log \\left(\\frac{N+1}{df_t+1}\\right) + 1$$\n",
        "\n",
        "**Note**: Without smoothing the $+1$ in the numerator and denumerator would not be included."
      ]
    },
    {
      "cell_type": "markdown",
      "metadata": {
        "id": "d7ErNliQ7J9I"
      },
      "source": [
        "$N$: cardinality of our document space. In this example it is `4`."
      ]
    },
    {
      "cell_type": "markdown",
      "metadata": {
        "id": "dx7OvcCA7J9I"
      },
      "source": [
        "$df_t$: the number of documents that term t appears in **(adding 1 into the formula to avoid zero-division)**."
      ]
    },
    {
      "cell_type": "code",
      "execution_count": 45,
      "metadata": {
        "colab": {
          "base_uri": "https://localhost:8080/"
        },
        "id": "R7YEG7ru7J9I",
        "jupyter": {
          "outputs_hidden": false
        },
        "outputId": "8560452f-210e-457b-f851-745b8874d236",
        "tags": []
      },
      "outputs": [
        {
          "output_type": "stream",
          "name": "stdout",
          "text": [
            "IDF: [1.91629073 1.91629073 1.         1.51082562 1.91629073 1.91629073\n",
            " 1.91629073]\n"
          ]
        }
      ],
      "source": [
        "from sklearn.feature_extraction.text import TfidfTransformer\n",
        "\n",
        "tfidf = TfidfTransformer() #by default norm = \"l2\"\n",
        "\n",
        "tfidf.fit(smatrix)\n",
        "\n",
        "print(\"IDF:\", tfidf.idf_)"
      ]
    },
    {
      "cell_type": "markdown",
      "metadata": {
        "id": "pYl_xpwq7J9I"
      },
      "source": [
        "IDF is calculated for each feature (in this case each term t)"
      ]
    },
    {
      "cell_type": "markdown",
      "metadata": {
        "id": "dcJLmJ0c0M8M"
      },
      "source": [
        "The purpose of the IDF is to quantify how unique or important a feature is across a collection of documents (the corpus). It assigns a higher weight to features that are rare in the corpus and a lower weight to features that are common.\n",
        "\n",
        "- High IDF: The feature is rare, making it useful for distinguishing between documents.\n",
        "- Low IDF: The feature is common, and thus less useful for differentiation (e.g., stop words like \"the\" or \"and\")."
      ]
    },
    {
      "cell_type": "markdown",
      "metadata": {
        "id": "q5JRU8lH7J9I"
      },
      "source": [
        "idf for term *'island'*:"
      ]
    },
    {
      "cell_type": "markdown",
      "metadata": {
        "id": "IfmH26w57J9I"
      },
      "source": [
        "\\begin{align}\n",
        "N&=4\\\\\n",
        "df_t  =  df(\\text{island}) & = 2 \\qquad \\text{Island appears in document 0 \\& 3}\\\\\n",
        "idf & =  \\log\\left(\\frac{1+4}{1+2}\\right)+1\\\\\n",
        "& = log\\left(\\frac{5}{3}\\right)+1\\\\\n",
        "& = 0.51 + 1\\\\\n",
        "& = 1.51\n",
        "\\end{align}"
      ]
    },
    {
      "cell_type": "markdown",
      "metadata": {
        "id": "8OIbEE8w7J9I"
      },
      "source": [
        "Using the above IDF, tf-idf is calculated by multiplying it with term frequency matrix."
      ]
    },
    {
      "cell_type": "markdown",
      "metadata": {
        "id": "SEU13jv47J9J"
      },
      "source": [
        "tf-idf calculation of document 0\n",
        "\n",
        "\\begin{align}\n",
        "\\vartheta_{tfidf_{doc0}} & =\n",
        "\\underbrace{\n",
        "\\begin{bmatrix}\n",
        " 0 & 1 & 1 & 1 & 0 & 0 & 0\n",
        "\\end{bmatrix}\n",
        "}_{tf_{doc0}}\n",
        "\\times\n",
        "\\underbrace{\n",
        "\\begin{bmatrix}\n",
        " 1.916 & 1.916 & 1 & 1.51 & 1.916 & 1.916 & 1.916\n",
        "\\end{bmatrix}}_{idf} \\\\\n",
        "\\vartheta_{tfidf_{doc0}} & = \\begin{bmatrix}\n",
        " 0 & 1.916 & 1 & 1.51 & 0 & 0 & 0\n",
        "\\end{bmatrix}\n",
        "\\end{align}"
      ]
    },
    {
      "cell_type": "markdown",
      "metadata": {
        "id": "Q0SHz5nA7J9J"
      },
      "source": [
        "Final step is to normalize each row of this matrix. This is to overcome a bias towards frequently repeated words in long documents which might make them look more important than they are just because of the high frequency of the term in the document."
      ]
    },
    {
      "cell_type": "markdown",
      "metadata": {
        "id": "xgqhbHZG7J9J"
      },
      "source": [
        "Please note: `TfidfTransformer` does the above calculation and L2 normalization (by default) on the `smatrix`."
      ]
    },
    {
      "cell_type": "markdown",
      "metadata": {
        "id": "tlJzWaLI0M8O"
      },
      "source": [
        "#### TASK 2.3\n",
        "Calculate the IDF for the following sentence using the following example sentence:\n",
        "1. Vectorize the sentence\n",
        "2. Create a new instance of `TfidfTransformer()` called `tfidf_task`\n",
        "3. Calculate the tf-idf\n",
        "4. Print the IDF"
      ]
    },
    {
      "cell_type": "code",
      "execution_count": 46,
      "metadata": {
        "colab": {
          "base_uri": "https://localhost:8080/"
        },
        "id": "QXpmhxzi0M8O",
        "outputId": "783aba4e-9bb5-4bce-a3fe-468c28ec4baa"
      },
      "outputs": [
        {
          "output_type": "stream",
          "name": "stdout",
          "text": [
            "IDF: [1. 1. 1.]\n"
          ]
        }
      ],
      "source": [
        "# example sentence\n",
        "example_sentence = [\"Japan is not in south america\"]\n",
        "\n",
        "### IMPLEMENT YOUR SOLUTION HERE ###\n",
        "\n",
        "vectorizer_two = CountVectorizer(stop_words='english')\n",
        "\n",
        "vectorized_sentence = vectorizer_two.fit_transform(example_sentence)\n",
        "\n",
        "tfidf_task = TfidfTransformer()\n",
        "\n",
        "tfidf_task.fit(vectorized_sentence)\n",
        "\n",
        "# 4. Print the IDF\n",
        "print(\"IDF:\", tfidf_task.idf_)\n"
      ]
    },
    {
      "cell_type": "markdown",
      "metadata": {
        "id": "vLjJYdiy7J9J"
      },
      "source": [
        "### L2 Normalization: Enhancing Feature Comparability\n",
        "\n",
        "**Introduction to L2 Normalization**:\n",
        "- L2 normalization, often referred to as Euclidean normalization, is a widely used method in data preprocessing, especially in the context of machine learning and text processing.\n",
        "- The goal of L2 normalization is to adjust the values in a feature vector so that they conform to a Euclidean norm of 1. This process involves dividing each element in the vector by the Euclidean length (or \"L2 norm\") of the entire vector.\n",
        "- This normalization technique is crucial for models that are sensitive to the magnitude of features, as it ensures that each feature vector has the same scale, thereby allowing for fair comparisons and distance calculations between vectors.\n",
        "\n",
        "**L2 Norm Calculation for a Matrix Row**:\n",
        "- To illustrate, consider the L2 norm calculation for row 1 of a given matrix. The L2 norm of a vector `v` (representing a row in the matrix) is computed as the square root of the sum of the squared elements in `v`.\n",
        "\n",
        "    Suppose row 1 of our matrix is represented as:\n",
        "  $v = \\begin{bmatrix} a_1 & a_2 & \\cdots & a_n \\end{bmatrix}$\n",
        "\n",
        "    The L2 norm of this row (`||v||_2`) is calculated as:\n",
        "    $ ||v||_2 = \\sqrt{a_1^2 + a_2^2 + \\cdots + a_n^2}$\n",
        "\n",
        "- After computing the L2 norm, each element in the row is divided by this norm. This process effectively scales the vector so that its Euclidean length is 1, while preserving the direction and relative proportions of the original vector.\n",
        "\n",
        "**Example**: If row 1 of the matrix has values $[3, 4, 0]$, the L2 normalization would involve dividing each element by the Euclidean length of this row, calculated as $\\sqrt{3^2 + 4^2 + 0^2} = 5$. Thus, the normalized row would be $\\frac{3}{5}, \\frac{4}{5}, 0$.\n",
        "\n",
        "You can see this calculation done on our data below:\n"
      ]
    },
    {
      "cell_type": "markdown",
      "metadata": {
        "id": "25n5BD_A7J9J"
      },
      "source": [
        "\\begin{align}\n",
        "\\vec{tfidf_{doc0}} & = \\begin{pmatrix}\n",
        "0 & 1.916 & 1 & 1.51 & 0 & 0 & 0\n",
        "\\end{pmatrix}\n",
        "\\end{align}"
      ]
    },
    {
      "cell_type": "markdown",
      "metadata": {
        "id": "q8F-hsWC7J9J"
      },
      "source": [
        "\\begin{align}\n",
        "\\vartheta_{tfidf}  & = \\begin{bmatrix}\n",
        " 0 & 1.916 & 1 & 1.51 & 0 & 0 & 0\n",
        "\\end{bmatrix} \\quad \\text{without norm} \\\\\n",
        "\\text{Apply L2 norm} \\\\\n",
        "\\vartheta_{norm}  & = \\frac{ \\begin{bmatrix}\n",
        " 0 & 1.916 & 1 & 1.51 & 0 & 0 & 0\n",
        "\\end{bmatrix}}{\\sqrt{1.916^2+1^2+1.52^2}}\n",
        "=\n",
        "\\frac{ \\begin{bmatrix}\n",
        " 0 & 1.916 & 1 & 1.51 & 0 & 0 & 0\n",
        "\\end{bmatrix}}{2.63} \\\\\n",
        "\\vartheta_{norm}  & =\n",
        "\\begin{bmatrix}\n",
        " 0 & 0.726 & 0.379 & 0.572 & 0 & 0 & 0\n",
        "\\end{bmatrix} \\quad \\text{for document 0}\n",
        "\\end{align}"
      ]
    },
    {
      "cell_type": "markdown",
      "metadata": {
        "id": "aB9VhMkv7J9J"
      },
      "source": [
        "After normalization, our final matrix is:"
      ]
    },
    {
      "cell_type": "code",
      "execution_count": 47,
      "metadata": {
        "colab": {
          "base_uri": "https://localhost:8080/"
        },
        "id": "sgHg8q_G7J9J",
        "jupyter": {
          "outputs_hidden": false
        },
        "outputId": "52fd51d2-a867-4f1d-fa5a-4bde3affb582",
        "tags": []
      },
      "outputs": [
        {
          "output_type": "execute_result",
          "data": {
            "text/plain": [
              "matrix([[0.        , 0.72664149, 0.37919167, 0.5728925 , 0.        ,\n",
              "         0.        , 0.        ],\n",
              "        [0.55280532, 0.        , 0.28847675, 0.        , 0.        ,\n",
              "         0.55280532, 0.55280532],\n",
              "        [0.        , 0.        , 1.        , 0.        , 0.        ,\n",
              "         0.        , 0.        ],\n",
              "        [0.        , 0.        , 0.37919167, 0.5728925 , 0.72664149,\n",
              "         0.        , 0.        ]])"
            ]
          },
          "metadata": {},
          "execution_count": 47
        }
      ],
      "source": [
        "tf_idf_matrix = tfidf.transform(smatrix)\n",
        "tf_idf_matrix.todense()"
      ]
    },
    {
      "cell_type": "markdown",
      "metadata": {
        "id": "EZJk__ym0M8P"
      },
      "source": [
        "#### TASK 2.4\n",
        "Utilize Pandas to display the TF-IDF matrix in a more readable format.\n",
        "1. Create a dataframe\n",
        "2. Set the column names to the words in the vocabulary\n",
        "3. Print the dataframe"
      ]
    },
    {
      "cell_type": "code",
      "execution_count": 48,
      "metadata": {
        "colab": {
          "base_uri": "https://localhost:8080/"
        },
        "id": "nhCIKuqf0M8P",
        "outputId": "2662b52e-0fd4-401f-b0b3-01caee4d883d"
      },
      "outputs": [
        {
          "output_type": "stream",
          "name": "stdout",
          "text": [
            "    america      bali   country    island     japan      peru     south\n",
            "0  0.000000  0.726641  0.379192  0.572892  0.000000  0.000000  0.000000\n",
            "1  0.552805  0.000000  0.288477  0.000000  0.000000  0.552805  0.552805\n",
            "2  0.000000  0.000000  1.000000  0.000000  0.000000  0.000000  0.000000\n",
            "3  0.000000  0.000000  0.379192  0.572892  0.726641  0.000000  0.000000\n"
          ]
        }
      ],
      "source": [
        "import pandas as pd\n",
        "### IMPLEMENT YOUR SOLUTION HERE ###\n",
        "\n",
        "tf_idf_df = pd.DataFrame(\n",
        "    tf_idf_matrix.todense(),\n",
        "    columns=vectorizer.get_feature_names_out()\n",
        ")\n",
        "\n",
        "print(tf_idf_df)"
      ]
    },
    {
      "cell_type": "markdown",
      "metadata": {
        "id": "avLrPKlN7J9J"
      },
      "source": [
        "### Understanding the TF-IDF Matrix\n",
        "\n",
        "- **Term Importance**: In the TF-IDF matrix, the larger the value, the more important the term is for that specific document. This measure helps in identifying terms that are more relevant in the context of each document.\n",
        "\n",
        "- **Weight of Common vs Unique Terms**:\n",
        "  - If a term, let's say `t1`, appears in **all** the documents along with some unique terms in a particular document, `t1` is assigned less weight than the unique terms in that document.\n",
        "  - For example, consider the first document with the text: `\"Bali is an island and not a country\"`. In the TF-IDF matrix, we observe the following weights:\n",
        "    - The term `country` has a lower weight (e.g., 0.379) as it might appear more frequently across multiple documents.\n",
        "    - The term `bali`, which exists only in this document, is assigned a higher weight (e.g., 0.726) indicating its unique importance in this context.\n",
        "    - The term `island` has a weight of 0.572, which is between `bali` and `country`, as it also appears in other documents (e.g., document 4).\n",
        "\n",
        "- **Application in Machine Learning**:\n",
        "  - The TF-IDF matrix can be effectively utilized as a feature set for machine learning algorithms based on logistic regression, decision trees, or other similar methods. This matrix provides a quantifiable way to represent text data for predictive modeling.\n"
      ]
    },
    {
      "cell_type": "code",
      "execution_count": 49,
      "metadata": {
        "colab": {
          "base_uri": "https://localhost:8080/"
        },
        "id": "9ZeN-N0R7J9K",
        "jupyter": {
          "outputs_hidden": false
        },
        "outputId": "a061c425-7f10-4128-bca7-8766b717b8f1",
        "tags": []
      },
      "outputs": [
        {
          "output_type": "execute_result",
          "data": {
            "text/plain": [
              "matrix([[0.        , 0.72664149, 0.37919167, 0.5728925 , 0.        ,\n",
              "         0.        , 0.        ],\n",
              "        [0.55280532, 0.        , 0.28847675, 0.        , 0.        ,\n",
              "         0.55280532, 0.55280532],\n",
              "        [0.        , 0.        , 1.        , 0.        , 0.        ,\n",
              "         0.        , 0.        ],\n",
              "        [0.        , 0.        , 0.37919167, 0.5728925 , 0.72664149,\n",
              "         0.        , 0.        ]])"
            ]
          },
          "metadata": {},
          "execution_count": 49
        }
      ],
      "source": [
        "# the entire \"pipeline\" of vectorizing our data\n",
        "from sklearn.feature_extraction.text import TfidfVectorizer\n",
        "\n",
        "tfidf = TfidfVectorizer(stop_words='english')\n",
        "vectorized = tfidf.fit_transform(data_set)\n",
        "vectorized.todense()"
      ]
    },
    {
      "cell_type": "markdown",
      "metadata": {
        "id": "TXKcOnan7J9K"
      },
      "source": [
        "## Put it to test with the same data as in notebook 2-1"
      ]
    },
    {
      "cell_type": "code",
      "execution_count": 50,
      "metadata": {
        "id": "W-DzEDQe7J9K",
        "tags": []
      },
      "outputs": [],
      "source": [
        "from sklearn.datasets import fetch_20newsgroups\n",
        "from sklearn.feature_extraction.text import TfidfVectorizer\n",
        "from sklearn.linear_model import LogisticRegression"
      ]
    },
    {
      "cell_type": "code",
      "execution_count": 51,
      "metadata": {
        "id": "80ihbEtX7J9K",
        "tags": []
      },
      "outputs": [],
      "source": [
        "train_set = fetch_20newsgroups(\n",
        "    categories=('sci.electronics', 'sci.space', 'sci.crypt'),\n",
        "    remove=('headers', 'footers', 'quotes'),\n",
        "    subset='train'  # training set\n",
        ")\n",
        "\n",
        "tfidf = TfidfVectorizer(\n",
        "    max_df=0.95,  # only words that appear in maximum of 95% documents\n",
        "    min_df=3,     # only words that appear in at least 3 documents\n",
        ")\n",
        "\n",
        "# Create tfidf matrix from training data\n",
        "X_train = tfidf.fit_transform(train_set.data)\n",
        "y_train = train_set.target"
      ]
    },
    {
      "cell_type": "code",
      "execution_count": 52,
      "metadata": {
        "id": "_K9iPmdL7J9K",
        "tags": []
      },
      "outputs": [],
      "source": [
        "# Fit the model\n",
        "clf = LogisticRegression()\n",
        "_ = clf.fit(X_train, y_train)"
      ]
    },
    {
      "cell_type": "code",
      "execution_count": 53,
      "metadata": {
        "id": "RE_JhXeL7J9K",
        "tags": []
      },
      "outputs": [],
      "source": [
        "# Load test data\n",
        "test_set = fetch_20newsgroups(\n",
        "    categories=('sci.electronics', 'sci.space', 'sci.crypt'),\n",
        "    remove=('headers', 'footers', 'quotes'),\n",
        "    subset='test'  # test set\n",
        ")\n",
        "\n",
        "# again, .transform, NOT .fit_transform -> See notebook 2-1 for explanation\n",
        "X_test = tfidf.transform(test_set.data)\n",
        "y_test = test_set.target"
      ]
    },
    {
      "cell_type": "code",
      "execution_count": 54,
      "metadata": {
        "colab": {
          "base_uri": "https://localhost:8080/"
        },
        "id": "LAn-hH1VohhX",
        "outputId": "ee10550c-87af-41ed-faa8-9f35c0f0801c"
      },
      "outputs": [
        {
          "output_type": "execute_result",
          "data": {
            "text/plain": [
              "(1779, 8034)"
            ]
          },
          "metadata": {},
          "execution_count": 54
        }
      ],
      "source": [
        "X_train.shape"
      ]
    },
    {
      "cell_type": "code",
      "execution_count": 55,
      "metadata": {
        "colab": {
          "base_uri": "https://localhost:8080/"
        },
        "id": "Vr0bw4IdojQu",
        "outputId": "8b7d778e-f6ad-44dc-b4d1-57a190f076df"
      },
      "outputs": [
        {
          "output_type": "execute_result",
          "data": {
            "text/plain": [
              "(1183, 8034)"
            ]
          },
          "metadata": {},
          "execution_count": 55
        }
      ],
      "source": [
        "X_test.shape"
      ]
    },
    {
      "cell_type": "code",
      "execution_count": 56,
      "metadata": {
        "id": "ssWgbdz27J9K",
        "tags": []
      },
      "outputs": [],
      "source": [
        "# Get predictions\n",
        "y_pred = clf.predict(X_test)"
      ]
    },
    {
      "cell_type": "code",
      "execution_count": 57,
      "metadata": {
        "id": "fYo5NfE47J9L",
        "tags": []
      },
      "outputs": [],
      "source": [
        "# And then do all the metrics:\n",
        "from sklearn import metrics"
      ]
    },
    {
      "cell_type": "code",
      "execution_count": 58,
      "metadata": {
        "colab": {
          "base_uri": "https://localhost:8080/"
        },
        "id": "g_wN_5P07J9L",
        "outputId": "0c9346d1-a8cd-48ed-c61c-9280c8e4fbb9",
        "tags": []
      },
      "outputs": [
        {
          "output_type": "stream",
          "name": "stdout",
          "text": [
            "Accuracy : 0.8183\n",
            "Precision: 0.8246\n",
            "Recall   : 0.8183\n",
            "F-Score  : 0.8190\n"
          ]
        }
      ],
      "source": [
        "accuracy = metrics.accuracy_score(y_true=y_test, y_pred=y_pred)\n",
        "precision, recall, fscore, _ = metrics.precision_recall_fscore_support(y_true=y_test, y_pred=y_pred, average='weighted')\n",
        "\n",
        "print(f\"Accuracy : {accuracy:>.4f}\")\n",
        "print(f\"Precision: {precision:>.4f}\")\n",
        "print(f\"Recall   : {recall:>.4f}\")\n",
        "print(f\"F-Score  : {fscore:>.4f}\")"
      ]
    },
    {
      "cell_type": "code",
      "execution_count": 59,
      "metadata": {
        "colab": {
          "base_uri": "https://localhost:8080/"
        },
        "id": "dygkMFuO7J9L",
        "outputId": "71f39b17-74a5-4158-8add-eab785f2ee42",
        "tags": []
      },
      "outputs": [
        {
          "output_type": "stream",
          "name": "stdout",
          "text": [
            "                 precision    recall  f1-score   support\n",
            "\n",
            "      sci.crypt       0.88      0.77      0.82       396\n",
            "sci.electronics       0.74      0.85      0.79       393\n",
            "      sci.space       0.85      0.84      0.85       394\n",
            "\n",
            "       accuracy                           0.82      1183\n",
            "      macro avg       0.82      0.82      0.82      1183\n",
            "   weighted avg       0.82      0.82      0.82      1183\n",
            "\n"
          ]
        }
      ],
      "source": [
        "print(metrics.classification_report(y_test, y_pred, target_names=test_set.target_names))"
      ]
    },
    {
      "cell_type": "code",
      "execution_count": 60,
      "metadata": {
        "colab": {
          "base_uri": "https://localhost:8080/",
          "height": 466
        },
        "id": "NYH17ba67J9L",
        "outputId": "87b59527-1f6d-4eed-bb34-3e0973af08ca",
        "tags": []
      },
      "outputs": [
        {
          "output_type": "execute_result",
          "data": {
            "text/plain": [
              "<sklearn.metrics._plot.confusion_matrix.ConfusionMatrixDisplay at 0x7fd0abd55e10>"
            ]
          },
          "metadata": {},
          "execution_count": 60
        },
        {
          "output_type": "display_data",
          "data": {
            "text/plain": [
              "<Figure size 640x480 with 2 Axes>"
            ],
            "image/png": "[encoded data removed]"
          },
          "metadata": {}
        }
      ],
      "source": [
        "metrics.ConfusionMatrixDisplay.from_predictions(y_true=y_test, y_pred=y_pred, display_labels=test_set.target_names)"
      ]
    },
    {
      "cell_type": "markdown",
      "metadata": {
        "id": "X7AC7lbZ7J9L"
      },
      "source": [
        "## What happened?"
      ]
    },
    {
      "cell_type": "markdown",
      "metadata": {
        "id": "rSmmXDI-7J9L"
      },
      "source": [
        "$$\n",
        "y = A x + b\n",
        "$$\n",
        "\n",
        "$A$ are the coefficicents, $b$ is the intercept.\n",
        "\n",
        "Normalization will later give probabilities."
      ]
    },
    {
      "cell_type": "code",
      "execution_count": 61,
      "metadata": {
        "colab": {
          "base_uri": "https://localhost:8080/"
        },
        "id": "sZHDc-o57J9L",
        "outputId": "20af3f7d-a71d-4516-8fd6-85a3351ccad2",
        "tags": []
      },
      "outputs": [
        {
          "output_type": "execute_result",
          "data": {
            "text/plain": [
              "array([[-2.23537458e-01, -9.98324602e-02,  5.05356642e-02, ...,\n",
              "        -1.04270833e-01, -1.00084994e-01, -2.34627905e-02],\n",
              "       [ 1.86882312e-01, -2.62279200e-01, -5.07797255e-02, ...,\n",
              "         1.22317614e-01, -1.51455332e-01, -2.38072577e-02],\n",
              "       [ 3.66551456e-02,  3.62111660e-01,  2.44061286e-04, ...,\n",
              "        -1.80467817e-02,  2.51540325e-01,  4.72700482e-02]])"
            ]
          },
          "metadata": {},
          "execution_count": 61
        }
      ],
      "source": [
        "clf.coef_"
      ]
    },
    {
      "cell_type": "code",
      "execution_count": 62,
      "metadata": {
        "colab": {
          "base_uri": "https://localhost:8080/"
        },
        "id": "yWhsFles7J9L",
        "outputId": "66461a76-99de-4631-df39-0a0a09af0f8b",
        "tags": []
      },
      "outputs": [
        {
          "output_type": "execute_result",
          "data": {
            "text/plain": [
              "array([-0.40448571,  0.23838187,  0.16610384])"
            ]
          },
          "metadata": {},
          "execution_count": 62
        }
      ],
      "source": [
        "clf.intercept_"
      ]
    },
    {
      "cell_type": "code",
      "execution_count": 64,
      "metadata": {
        "colab": {
          "base_uri": "https://localhost:8080/"
        },
        "id": "NrcwJgnL7J9V",
        "outputId": "7cf07313-b0c9-4203-d6ca-0260c8e75c2c",
        "tags": []
      },
      "outputs": [
        {
          "output_type": "execute_result",
          "data": {
            "text/plain": [
              "array([1])"
            ]
          },
          "metadata": {},
          "execution_count": 64
        }
      ],
      "source": [
        "clf.predict(X_test[:1])"
      ]
    },
    {
      "cell_type": "code",
      "execution_count": 65,
      "metadata": {
        "colab": {
          "base_uri": "https://localhost:8080/"
        },
        "id": "l3fT0LC_0M8W",
        "outputId": "c3eb0408-112b-4dc4-bba0-b5b0517790d2"
      },
      "outputs": [
        {
          "output_type": "stream",
          "name": "stdout",
          "text": [
            "[[0. 0. 0. ... 0. 0. 0.]]\n"
          ]
        }
      ],
      "source": [
        "print(X_test[:1].todense())"
      ]
    },
    {
      "cell_type": "code",
      "execution_count": 66,
      "metadata": {
        "colab": {
          "base_uri": "https://localhost:8080/"
        },
        "id": "e6vDCfbH7J9V",
        "outputId": "ce393939-fbf6-46ad-9527-6e743563ddb4",
        "tags": []
      },
      "outputs": [
        {
          "output_type": "execute_result",
          "data": {
            "text/plain": [
              "array([[0.21407606, 0.40715705, 0.37876689]])"
            ]
          },
          "metadata": {},
          "execution_count": 66
        }
      ],
      "source": [
        "clf.predict_proba(X_test[:1])"
      ]
    },
    {
      "cell_type": "code",
      "execution_count": 67,
      "metadata": {
        "colab": {
          "base_uri": "https://localhost:8080/"
        },
        "id": "8mgkHTrI7J9W",
        "outputId": "0b8009fe-2be9-4c84-c852-426207255579",
        "tags": []
      },
      "outputs": [
        {
          "output_type": "execute_result",
          "data": {
            "text/plain": [
              "array([[-0.40448571,  0.23838187,  0.16610384]])"
            ]
          },
          "metadata": {},
          "execution_count": 67
        }
      ],
      "source": [
        "clf.decision_function(X_test[:1])"
      ]
    },
    {
      "cell_type": "code",
      "execution_count": 68,
      "metadata": {
        "colab": {
          "base_uri": "https://localhost:8080/"
        },
        "id": "QaQCTBzX7J9W",
        "outputId": "3adf8f29-3e81-4bd4-b858-0709f768aaee",
        "tags": []
      },
      "outputs": [
        {
          "output_type": "stream",
          "name": "stdout",
          "text": [
            "[[-0.40448571  0.23838187  0.16610384]]\n"
          ]
        }
      ],
      "source": [
        "# Multiply input with coefficients and add intercept\n",
        "scores = (\n",
        "    X_test[0].todense()\n",
        "    .dot(\n",
        "        clf.coef_.T\n",
        "    )\n",
        "    + clf.intercept_\n",
        ")\n",
        "\n",
        "print(scores)"
      ]
    }
  ],
  "metadata": {
    "colab": {
      "provenance": [],
      "include_colab_link": true
    },
    "kernelspec": {
      "display_name": "HSG_NLP_EDU",
      "language": "python",
      "name": "python3"
    },
    "language_info": {
      "codemirror_mode": {
        "name": "ipython",
        "version": 3
      },
      "file_extension": ".py",
      "mimetype": "text/x-python",
      "name": "python",
      "nbconvert_exporter": "python",
      "pygments_lexer": "ipython3",
      "version": "3.9.21"
    }
  },
  "nbformat": 4,
  "nbformat_minor": 0
}