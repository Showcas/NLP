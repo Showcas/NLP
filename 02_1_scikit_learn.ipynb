{
  "cells": [
    {
      "cell_type": "markdown",
      "metadata": {
        "id": "view-in-github",
        "colab_type": "text"
      },
      "source": [
        "<a href=\"https://colab.research.google.com/github/Showcas/NLP/blob/main/02_1_scikit_learn.ipynb\" target=\"_parent\"><img src=\"https://colab.research.google.com/assets/colab-badge.svg\" alt=\"Open In Colab\"/></a>"
      ]
    },
    {
      "cell_type": "markdown",
      "metadata": {
        "id": "Cxujsbjq7Ji8"
      },
      "source": [
        "# Natural Language Processing with LLMs\n",
        "\n",
        "## scikit-learn\n",
        "\n",
        "**scikit-learn** is a very good third-party module for Machine Learning.\n",
        "\n",
        "It is called _scikit-learn_, the module is called `sklearn`. The very well written and extensive documentation is at https://scikit-learn.org.\n",
        "\n",
        "---"
      ]
    },
    {
      "cell_type": "code",
      "execution_count": 1,
      "metadata": {
        "colab": {
          "base_uri": "https://localhost:8080/"
        },
        "id": "vgJvY4Ec7jkO",
        "outputId": "0af1131b-095f-4534-8d15-e4c842526fd5"
      },
      "outputs": [
        {
          "output_type": "stream",
          "name": "stderr",
          "text": [
            "[nltk_data] Downloading package stopwords to /root/nltk_data...\n",
            "[nltk_data]   Unzipping corpora/stopwords.zip.\n",
            "[nltk_data] Downloading package punkt to /root/nltk_data...\n",
            "[nltk_data]   Unzipping tokenizers/punkt.zip.\n"
          ]
        },
        {
          "output_type": "execute_result",
          "data": {
            "text/plain": [
              "True"
            ]
          },
          "metadata": {},
          "execution_count": 1
        }
      ],
      "source": [
        "import nltk\n",
        "nltk.download('stopwords')\n",
        "nltk.download('punkt')"
      ]
    },
    {
      "cell_type": "code",
      "execution_count": 2,
      "metadata": {
        "colab": {
          "base_uri": "https://localhost:8080/"
        },
        "id": "d-n1-JGESN7i",
        "outputId": "6708da44-e09f-4051-d20c-0b96229f5eae"
      },
      "outputs": [
        {
          "output_type": "stream",
          "name": "stdout",
          "text": [
            "Requirement already satisfied: scikit-learn in /usr/local/lib/python3.11/dist-packages (1.6.1)\n",
            "Requirement already satisfied: numpy>=1.19.5 in /usr/local/lib/python3.11/dist-packages (from scikit-learn) (1.26.4)\n",
            "Requirement already satisfied: scipy>=1.6.0 in /usr/local/lib/python3.11/dist-packages (from scikit-learn) (1.13.1)\n",
            "Requirement already satisfied: joblib>=1.2.0 in /usr/local/lib/python3.11/dist-packages (from scikit-learn) (1.4.2)\n",
            "Requirement already satisfied: threadpoolctl>=3.1.0 in /usr/local/lib/python3.11/dist-packages (from scikit-learn) (3.5.0)\n",
            "Requirement already satisfied: matplotlib in /usr/local/lib/python3.11/dist-packages (3.10.0)\n",
            "Requirement already satisfied: contourpy>=1.0.1 in /usr/local/lib/python3.11/dist-packages (from matplotlib) (1.3.1)\n",
            "Requirement already satisfied: cycler>=0.10 in /usr/local/lib/python3.11/dist-packages (from matplotlib) (0.12.1)\n",
            "Requirement already satisfied: fonttools>=4.22.0 in /usr/local/lib/python3.11/dist-packages (from matplotlib) (4.56.0)\n",
            "Requirement already satisfied: kiwisolver>=1.3.1 in /usr/local/lib/python3.11/dist-packages (from matplotlib) (1.4.8)\n",
            "Requirement already satisfied: numpy>=1.23 in /usr/local/lib/python3.11/dist-packages (from matplotlib) (1.26.4)\n",
            "Requirement already satisfied: packaging>=20.0 in /usr/local/lib/python3.11/dist-packages (from matplotlib) (24.2)\n",
            "Requirement already satisfied: pillow>=8 in /usr/local/lib/python3.11/dist-packages (from matplotlib) (11.1.0)\n",
            "Requirement already satisfied: pyparsing>=2.3.1 in /usr/local/lib/python3.11/dist-packages (from matplotlib) (3.2.1)\n",
            "Requirement already satisfied: python-dateutil>=2.7 in /usr/local/lib/python3.11/dist-packages (from matplotlib) (2.8.2)\n",
            "Requirement already satisfied: six>=1.5 in /usr/local/lib/python3.11/dist-packages (from python-dateutil>=2.7->matplotlib) (1.17.0)\n"
          ]
        }
      ],
      "source": [
        "!pip install scikit-learn\n",
        "!pip install matplotlib"
      ]
    },
    {
      "cell_type": "code",
      "execution_count": 3,
      "metadata": {
        "colab": {
          "base_uri": "https://localhost:8080/"
        },
        "id": "avte3eKR7Ji-",
        "jupyter": {
          "outputs_hidden": false
        },
        "outputId": "74db1a3a-fce9-481f-e0c2-05e5634f569e",
        "tags": []
      },
      "outputs": [
        {
          "output_type": "stream",
          "name": "stdout",
          "text": [
            "1.6.1\n"
          ]
        }
      ],
      "source": [
        "import sklearn\n",
        "\n",
        "print(sklearn.__version__)\n",
        "\n",
        "\n",
        "# Also, we again use tqdm for progress bars\n",
        "from tqdm.auto import tqdm"
      ]
    },
    {
      "cell_type": "code",
      "execution_count": 4,
      "metadata": {
        "id": "24wqZ8ke7Ji_",
        "jupyter": {
          "outputs_hidden": false
        },
        "tags": []
      },
      "outputs": [],
      "source": [
        "# There are also a few datasets that are already included:\n",
        "\n",
        "from sklearn.datasets import fetch_20newsgroups\n",
        "\n",
        "train_set = fetch_20newsgroups(\n",
        "    # we limit it to three categories for simplicity\n",
        "    categories=('sci.electronics', 'sci.space', 'sci.crypt'),\n",
        "    remove=('headers', 'footers', 'quotes'),\n",
        "    subset='train'\n",
        ")"
      ]
    },
    {
      "cell_type": "code",
      "execution_count": 5,
      "metadata": {
        "colab": {
          "base_uri": "https://localhost:8080/"
        },
        "id": "YbaQb0Md7Ji_",
        "jupyter": {
          "outputs_hidden": false
        },
        "outputId": "6f4d5f4c-d4bc-4a88-d932-f3c8c0c3234c",
        "tags": []
      },
      "outputs": [
        {
          "output_type": "stream",
          "name": "stdout",
          "text": [
            "['sci.crypt', 'sci.electronics', 'sci.space']\n"
          ]
        }
      ],
      "source": [
        "# We can get the list of all labels with the property `target_names`:\n",
        "\n",
        "print(train_set.target_names)"
      ]
    },
    {
      "cell_type": "markdown",
      "metadata": {
        "id": "dwtHWoVN7Ji_"
      },
      "source": [
        "#### In this example, we'll use all the categories/classes/labels/target names.\n",
        "\n",
        "The data is already split into **TEXT** and **LABEL** by the properties: `.data` and `.target`. So, we don't need to take care of the label ourself.\n",
        "\n",
        "The `target` is now not a `str` but `int` which is the **index** where in the `.target_names` property the correct string is."
      ]
    },
    {
      "cell_type": "code",
      "execution_count": 6,
      "metadata": {
        "colab": {
          "base_uri": "https://localhost:8080/"
        },
        "id": "gGqvLR9y7Ji_",
        "jupyter": {
          "outputs_hidden": false
        },
        "outputId": "0e26634b-90c1-49d7-d7de-c06571f2b714",
        "tags": []
      },
      "outputs": [
        {
          "output_type": "stream",
          "name": "stdout",
          "text": [
            "Label as int: '0'\n",
            "Label as str: 'sci.crypt'\n",
            "Text: '\n",
            "David,\n",
            "\n",
            "  As an economist, I'm sure you can see the flaws in this logic. If the (naive)\n",
            "market is flooded with proprietary, but weak, encryption, then truly strong \n",
            "encryption will be unable to compete. Suppose the govt had a secret TV broadcast\n",
            "standard, and then sold TVs below cost. Private industry has a better standard,\n",
            "but it's not as widespread due to the govt early flooding of the market\n",
            "with cheap proprietary sets. Even though the industry's technology is better,\n",
            "the programming is being broadcast to the govt's unduplicatable standard.\n",
            "Who could compete?\n",
            "\n",
            "  The other flaw, of course, is that making something voluntary today ensures\n",
            "that it will be voluntary in the future. I went to renew my CA drivers license\n",
            "last week and was required not only to give my SSN, but to PRODUCE AN SSN\n",
            "CARD to veryify the number!  Note that a federal law once said that no state\n",
            "or local govt could ever require the use of SSNs for drivers license registration\n",
            "(specifically!).\n",
            "\n",
            "   I do not trust the govt that says \"trust me on this even though we could\n",
            "have an arrangement that doesn't require your trust.\"  Something is big\n",
            "time fishy. If you look more carefully, you'll see it.\n",
            "\n",
            "  -mel'\n"
          ]
        }
      ],
      "source": [
        "# Example text:\n",
        "print(f\"Label as int: '{train_set.target[40]}'\")\n",
        "print(f\"Label as str: '{train_set.target_names[train_set.target[40]]}'\")\n",
        "print(f\"Text: '{train_set.data[40]}'\")"
      ]
    },
    {
      "cell_type": "markdown",
      "metadata": {
        "id": "GnJTuMm77JjA"
      },
      "source": [
        "## Preprocessing\n",
        "\n",
        "We need, again, a preprocess function but now, we want something more elegant than the `.split()` function. We could either use `nltk` or use `sklearn`. For the moment, `nltk` might be more straight-forward."
      ]
    },
    {
      "cell_type": "code",
      "execution_count": 7,
      "metadata": {
        "id": "ZeTJm_mI7JjA",
        "jupyter": {
          "outputs_hidden": false
        },
        "tags": []
      },
      "outputs": [],
      "source": [
        "from nltk.corpus import stopwords\n",
        "from string import punctuation\n",
        "\n",
        "STOPWORDS = set(\n",
        "      stopwords.words('english')\n",
        "    ).union(\n",
        "        set(punctuation)\n",
        "    ).union(\n",
        "        set(['``', \"''\"])\n",
        ")\n",
        "STEMMER = nltk.SnowballStemmer('english')"
      ]
    },
    {
      "cell_type": "markdown",
      "metadata": {
        "id": "6a5ZMPq57JjA"
      },
      "source": [
        "This is similar to the last notebook but now, the function takes a list of texts instead of one single text.\n",
        "\n",
        "Also, we do not lemmatize in this example because it takes too long for the full data (20-30 minutes)."
      ]
    },
    {
      "cell_type": "markdown",
      "metadata": {
        "id": "uuGzhbxhSN7k"
      },
      "source": [
        "#### TASK 2.1\n",
        "\n",
        "Write a preprocessing function to preprocess one single text. The function should expect one single string as input. The output should be a list of lowercase tokens that do not appear in the STOPWORDS set.\n",
        "1. Tokenizes the input text into words.\n",
        "2. Converts each word to lowercase.\n",
        "3. Filters out words that are in the STOPWORDS set.\n",
        "4. Applies stemming to the remaining words."
      ]
    },
    {
      "cell_type": "code",
      "execution_count": 16,
      "metadata": {
        "colab": {
          "base_uri": "https://localhost:8080/"
        },
        "id": "PQQuCJX5SN7k",
        "outputId": "cd68049c-e5c2-4525-d99a-6435e352b784"
      },
      "outputs": [
        {
          "output_type": "stream",
          "name": "stderr",
          "text": [
            "[nltk_data] Downloading package punkt_tab to /root/nltk_data...\n",
            "[nltk_data]   Package punkt_tab is already up-to-date!\n"
          ]
        }
      ],
      "source": [
        "import nltk\n",
        "nltk.download('punkt_tab')\n",
        "\n",
        "def preprocess( text: str ) -> list[str]:\n",
        "    \"\"\"\n",
        "    Function to preprocess one single text. It expects one single string as input.\n",
        "    The output is a list of lowercase tokens that do not appear in the STOPWORDS set.\n",
        "    \"\"\"\n",
        "    ### IMPLEMENT YOUR SOLUTION HERE ###\n",
        "\n",
        "    tokens = [\n",
        "        STEMMER.stem(token.lower())\n",
        "        for token in nltk.word_tokenize(text)\n",
        "        if token.lower() not in STOPWORDS\n",
        "    ]\n",
        "\n",
        "\n",
        "    return tokens"
      ]
    },
    {
      "cell_type": "code",
      "execution_count": 17,
      "metadata": {
        "colab": {
          "base_uri": "https://localhost:8080/"
        },
        "id": "C2hF5j1-7JjB",
        "jupyter": {
          "outputs_hidden": false
        },
        "outputId": "3cd72f73-56f5-47a3-edfd-f53642d276d2",
        "tags": []
      },
      "outputs": [
        {
          "output_type": "execute_result",
          "data": {
            "text/plain": [
              "['remark',\n",
              " 'heard',\n",
              " 'day',\n",
              " 'begin',\n",
              " 'take',\n",
              " 'increas',\n",
              " 'frighten',\n",
              " 'signific',\n",
              " 'comment',\n",
              " 'made',\n",
              " 'part',\n",
              " 'world',\n",
              " 'democrat',\n",
              " 'note',\n",
              " 'big',\n",
              " 'would',\n",
              " 'known',\n",
              " 'socialist',\n",
              " 'note',\n",
              " 'small',\n",
              " 'democrat',\n",
              " 'wonder',\n",
              " 'thoma',\n",
              " 'jefferson',\n",
              " '250th',\n",
              " 'anniversari',\n",
              " 'birth',\n",
              " 'would',\n",
              " 'thought',\n",
              " 'state',\n",
              " 'affair',\n",
              " 'govern',\n",
              " 'govern',\n",
              " '--',\n",
              " '--',\n",
              " '--',\n",
              " 'view',\n",
              " 'express',\n",
              " 'employ',\n",
              " '--',\n",
              " '--',\n",
              " '--',\n",
              " '--',\n",
              " 'steven',\n",
              " 'c.',\n",
              " 'johnson',\n",
              " 'wb3iru',\n",
              " 'vk2gds',\n",
              " 'trw',\n",
              " 'johnson',\n",
              " 'trwacs.fp.trw.com',\n",
              " 'fp1',\n",
              " '3133',\n",
              " '129.193.172.90',\n",
              " '1',\n",
              " 'feder',\n",
              " 'system',\n",
              " 'park',\n",
              " 'drive',\n",
              " 'phone',\n",
              " '+1',\n",
              " '703',\n",
              " '968.1000',\n",
              " 'fairfax',\n",
              " 'virginia',\n",
              " '22033-4412',\n",
              " 'u.s.a.',\n",
              " 'fax',\n",
              " '+1',\n",
              " '703',\n",
              " '803.5189']"
            ]
          },
          "metadata": {},
          "execution_count": 17
        }
      ],
      "source": [
        "# Example:\n",
        "preprocess(train_set.data[1])\n",
        "\n",
        "# Output should be:\n",
        "# ['remark',\n",
        "#  'heard',\n",
        "#  'day',\n",
        "#  'begin',\n",
        "#  'take',\n",
        "#  'increas',\n",
        "#  'frighten',\n",
        "#  'signific',\n",
        "#  'comment',\n",
        "# ...]\n"
      ]
    },
    {
      "cell_type": "markdown",
      "metadata": {
        "id": "n6fHFj3E7JjB"
      },
      "source": [
        "## Feature Extraction\n",
        "\n",
        "We could use a simple bag-of-words approach, but we can do it a little bit more efficient with scikit-learn.\n",
        "\n",
        "We have the [`CountVectorizer`](https://scikit-learn.org/stable/modules/generated/sklearn.feature_extraction.text.CountVectorizer.html) class that does the bag-of-words for us: Counting different tokens. It is called a **Vectorizer** because the output is a **vector**.\n",
        "\n",
        "There other vectorizers as well, but we start off with this very simple one. For text specifically, you can find more [here](https://scikit-learn.org/stable/modules/classes.html#module-sklearn.feature_extraction.text)."
      ]
    },
    {
      "cell_type": "code",
      "execution_count": 18,
      "metadata": {
        "id": "fGft3Xdt7JjB",
        "jupyter": {
          "outputs_hidden": false
        },
        "tags": []
      },
      "outputs": [],
      "source": [
        "from sklearn.feature_extraction.text import CountVectorizer"
      ]
    },
    {
      "cell_type": "code",
      "execution_count": 19,
      "metadata": {
        "id": "C4gFnWlK7JjB",
        "jupyter": {
          "outputs_hidden": false
        },
        "tags": []
      },
      "outputs": [],
      "source": [
        "# we set token_pattern=None to get rid of a warning, and use our own tokenizer function\n",
        "# due do using our own tokenizer we don't need to care about token_pattern\n",
        "vectorizer = CountVectorizer(tokenizer=preprocess, token_pattern=None)\n",
        "\n",
        "train_extracted = vectorizer.fit_transform(train_set.data)  # generate BoW and transform data"
      ]
    },
    {
      "cell_type": "markdown",
      "metadata": {
        "id": "3r5RU9RP7JjB"
      },
      "source": [
        "#### How does the data look like now?"
      ]
    },
    {
      "cell_type": "code",
      "execution_count": 20,
      "metadata": {
        "colab": {
          "base_uri": "https://localhost:8080/"
        },
        "id": "6IjEvMR67JjB",
        "jupyter": {
          "outputs_hidden": false
        },
        "outputId": "ecb63b13-deca-465c-8479-a90b058e36ae",
        "tags": []
      },
      "outputs": [
        {
          "output_type": "execute_result",
          "data": {
            "text/plain": [
              "<1779x23181 sparse matrix of type '<class 'numpy.int64'>'\n",
              "\twith 134727 stored elements in Compressed Sparse Row format>"
            ]
          },
          "metadata": {},
          "execution_count": 20
        }
      ],
      "source": [
        "train_extracted"
      ]
    },
    {
      "cell_type": "markdown",
      "metadata": {
        "id": "Ljpt_q4r7JjB"
      },
      "source": [
        "\n",
        "It is a __sparse__ matrix. There are **1'779** rows and **23'199** columns.\n",
        "\n",
        "#### Sparse\n",
        "Most values are 0, so to store it efficiently without requiring much memory, it's stored in sparse format.\n",
        "\n",
        "\n",
        "#### Rows:\n",
        "Each document is represented in a row.\n",
        "\n",
        "#### Columns:\n",
        "Each __token__ (word) is a column. The value in the cell represents the __number of appearances__ of this word in the specific document.\n",
        "\n",
        "(That's why most values are 0, most words out of the vocabulary of ~23k words do not appear in every document.)"
      ]
    },
    {
      "cell_type": "code",
      "execution_count": 21,
      "metadata": {
        "colab": {
          "base_uri": "https://localhost:8080/"
        },
        "id": "Lr5UXGQS7JjB",
        "jupyter": {
          "outputs_hidden": false
        },
        "outputId": "6830bc4a-15a0-4bbe-d6d0-f562c46839ef",
        "tags": []
      },
      "outputs": [
        {
          "output_type": "stream",
          "name": "stdout",
          "text": [
            "Vocabulary size: 23_181\n"
          ]
        }
      ],
      "source": [
        "print(f'Vocabulary size: {len(vectorizer.vocabulary_):_}')"
      ]
    },
    {
      "cell_type": "code",
      "execution_count": 22,
      "metadata": {
        "colab": {
          "base_uri": "https://localhost:8080/"
        },
        "id": "7SPxnNbu7JjB",
        "jupyter": {
          "outputs_hidden": false
        },
        "outputId": "94e397bf-7077-4cc5-9b60-c3ae6ca1292e",
        "tags": []
      },
      "outputs": [
        {
          "output_type": "stream",
          "name": "stdout",
          "text": [
            "Example words: ['higher', 'learn', 'wish', 'make', 'counter', 'challeng', 'anoth', 'school', 'say', 'like']\n"
          ]
        }
      ],
      "source": [
        "print(f'Example words: {list(vectorizer.vocabulary_.keys())[40:50]}')"
      ]
    },
    {
      "cell_type": "markdown",
      "metadata": {
        "id": "mgszdKPB7JjB"
      },
      "source": [
        "The __instance property__ `.vocabulary_` is a Dictionary: token → column"
      ]
    },
    {
      "cell_type": "code",
      "execution_count": 23,
      "metadata": {
        "colab": {
          "base_uri": "https://localhost:8080/"
        },
        "id": "2SumfAll7JjC",
        "jupyter": {
          "outputs_hidden": false
        },
        "outputId": "523970a9-b459-49f2-c788-a791c79b0b8d",
        "tags": []
      },
      "outputs": [
        {
          "output_type": "stream",
          "name": "stdout",
          "text": [
            "14252\n"
          ]
        }
      ],
      "source": [
        "# Example:\n",
        "\n",
        "print(vectorizer.vocabulary_['make'])\n",
        "\n",
        "# The word 'make' is in column 14'262."
      ]
    },
    {
      "cell_type": "code",
      "execution_count": 24,
      "metadata": {
        "colab": {
          "base_uri": "https://localhost:8080/"
        },
        "id": "jgLUJI6c7JjC",
        "jupyter": {
          "outputs_hidden": false
        },
        "outputId": "ad6fca79-4bd7-4b41-91e8-2f53bf34fabd",
        "tags": []
      },
      "outputs": [
        {
          "output_type": "stream",
          "name": "stdout",
          "text": [
            "ORIGINAL\n",
            "--------------------------------\n",
            "A remark I heard the other day is beginning to take on increasingly\n",
            "frightening significance.  The comment was made that \"In other parts\n",
            "of the world the Democrats [note the big \"D\"] would be known as\n",
            "Socialists\" \n",
            "\n",
            "  A [note the small \"d\"] democrat who wonders what Thomas Jefferson, on\n",
            "this the 250th anniversary of his birth, would have thought of the state\n",
            "of affairs between the government and the governed.\n",
            "\n",
            "\n",
            "------- Any views expressed are those of myself and not my employer. --------\n",
            "Steven C. Johnson, WB3IRU / VK2GDS      |\n",
            "TRW                                     | johnson@trwacs.fp.trw.com\n",
            "FP1 / 3133                              |         [129.193.172.90]\n",
            "1 Federal Systems Park Drive            | Phone:        +1 (703) 968.1000\n",
            "Fairfax, Virginia  22033-4412  U.S.A.   | Fax:          +1 (703) 803.5189\n",
            "--------------------------------\n",
            "\n"
          ]
        }
      ],
      "source": [
        "# example document\n",
        "print(\"Original\".upper())\n",
        "print((sep := \"--------------------------------\"))\n",
        "print(train_set.data[1].strip())\n",
        "print(sep)\n",
        "print()"
      ]
    },
    {
      "cell_type": "code",
      "execution_count": 25,
      "metadata": {
        "colab": {
          "base_uri": "https://localhost:8080/"
        },
        "id": "Q2tiZGd2T8U7",
        "outputId": "bc5ac82c-6bcc-4923-d267-c92b0c68648f"
      },
      "outputs": [
        {
          "output_type": "stream",
          "name": "stdout",
          "text": [
            "TOKENIZED:\n",
            "--------------------------------\n",
            "['remark', 'heard', 'day', 'begin', 'take', 'increas', 'frighten', 'signific', 'comment', 'made', 'part', 'world', 'democrat', 'note', 'big', 'would', 'known', 'socialist', 'note', 'small', 'democrat', 'wonder', 'thoma', 'jefferson', '250th', 'anniversari', 'birth', 'would', 'thought', 'state', 'affair', 'govern', 'govern', '--', '--', '--', 'view', 'express', 'employ', '--', '--', '--', '--', 'steven', 'c.', 'johnson', 'wb3iru', 'vk2gds', 'trw', 'johnson', 'trwacs.fp.trw.com', 'fp1', '3133', '129.193.172.90', '1', 'feder', 'system', 'park', 'drive', 'phone', '+1', '703', '968.1000', 'fairfax', 'virginia', '22033-4412', 'u.s.a.', 'fax', '+1', '703', '803.5189']\n",
            "--------------------------------\n"
          ]
        }
      ],
      "source": [
        "# same document, but tokenized\n",
        "print('Tokenized:'.upper())\n",
        "print(sep)\n",
        "print(preprocess(train_set.data[1]))\n",
        "print(sep)"
      ]
    },
    {
      "cell_type": "code",
      "execution_count": 26,
      "metadata": {
        "colab": {
          "base_uri": "https://localhost:8080/"
        },
        "id": "jLjYyZhP7JjC",
        "jupyter": {
          "outputs_hidden": false
        },
        "outputId": "5514428a-f98b-47c0-9e6b-ec5635f01d45",
        "tags": []
      },
      "outputs": [
        {
          "output_type": "stream",
          "name": "stdout",
          "text": [
            "Feature Vector for Document 1\n",
            "--------------------------------\n",
            "  (0, 19490)\t1\n",
            "  (0, 20014)\t1\n",
            "  (0, 18158)\t1\n",
            "  (0, 11700)\t1\n",
            "  (0, 8576)\t1\n",
            "  (0, 6238)\t1\n",
            "  (0, 20575)\t1\n",
            "  (0, 12450)\t1\n",
            "  (0, 10765)\t1\n",
            "  (0, 19332)\t1\n",
            "  (0, 7723)\t1\n",
            "  (0, 14204)\t1\n",
            "  (0, 16563)\t1\n",
            "  (0, 22763)\t1\n",
            "  (0, 8766)\t2\n",
            "  (0, 15837)\t2\n",
            "  (0, 6363)\t1\n",
            "  (0, 22778)\t2\n",
            "  (0, 13373)\t1\n",
            "  (0, 19564)\t1\n",
            "  (0, 22735)\t1\n",
            "  (0, 20888)\t1\n",
            "  (0, 12960)\t1\n",
            "  (0, 2708)\t1\n",
            "  (0, 5488)\t1\n",
            "  :\t:\n",
            "  (0, 20080)\t1\n",
            "  (0, 6906)\t1\n",
            "  (0, 13027)\t2\n",
            "  (0, 22445)\t1\n",
            "  (0, 22198)\t1\n",
            "  (0, 21301)\t1\n",
            "  (0, 21302)\t1\n",
            "  (0, 10691)\t1\n",
            "  (0, 2985)\t1\n",
            "  (0, 1737)\t1\n",
            "  (0, 1086)\t1\n",
            "  (0, 10332)\t1\n",
            "  (0, 20506)\t1\n",
            "  (0, 16553)\t1\n",
            "  (0, 9274)\t1\n",
            "  (0, 16855)\t1\n",
            "  (0, 26)\t2\n",
            "  (0, 3924)\t2\n",
            "  (0, 4424)\t1\n",
            "  (0, 10230)\t1\n",
            "  (0, 22179)\t1\n",
            "  (0, 2584)\t1\n",
            "  (0, 21415)\t1\n",
            "  (0, 10305)\t1\n",
            "  (0, 4132)\t1\n"
          ]
        }
      ],
      "source": [
        "print('Feature Vector for Document 1')\n",
        "print(sep)\n",
        "print(train_extracted[1])"
      ]
    },
    {
      "cell_type": "code",
      "execution_count": 27,
      "metadata": {
        "colab": {
          "base_uri": "https://localhost:8080/"
        },
        "id": "lGtdM1L27JjC",
        "jupyter": {
          "outputs_hidden": false
        },
        "outputId": "b631eacf-a6ad-47a5-f814-91a7eba29410",
        "tags": []
      },
      "outputs": [
        {
          "output_type": "stream",
          "name": "stdout",
          "text": [
            "Number of occurences of \"take\" in document 1: 1\n",
            "Number of occurences of \"comment\" in document 1: 1\n",
            "Number of occurences of \"yes\" in document 1: 0\n"
          ]
        }
      ],
      "source": [
        "# Let's look at a few example values:\n",
        "\n",
        "print('Number of occurences of \"take\" in document 1:', train_extracted[1, vectorizer.vocabulary_['take']])\n",
        "\n",
        "print('Number of occurences of \"comment\" in document 1:', train_extracted[1, vectorizer.vocabulary_['comment']])\n",
        "\n",
        "print('Number of occurences of \"yes\" in document 1:', train_extracted[1, vectorizer.vocabulary_['yes']])"
      ]
    },
    {
      "cell_type": "code",
      "execution_count": 28,
      "metadata": {
        "id": "8-Au0ir57JjC",
        "jupyter": {
          "outputs_hidden": false
        },
        "tags": []
      },
      "outputs": [],
      "source": [
        "# Try with top-500 words\n",
        "vectorizer = CountVectorizer(tokenizer=preprocess, max_features=500, token_pattern=None)\n",
        "\n",
        "vectorizer.fit(train_set.data)\n",
        "\n",
        "train_extracted = vectorizer.transform(train_set.data)"
      ]
    },
    {
      "cell_type": "code",
      "execution_count": 29,
      "metadata": {
        "colab": {
          "base_uri": "https://localhost:8080/"
        },
        "id": "JGoy73867JjC",
        "jupyter": {
          "outputs_hidden": false
        },
        "outputId": "5c4cfc53-577d-4fcc-d0b3-f005636e71da",
        "tags": []
      },
      "outputs": [
        {
          "output_type": "execute_result",
          "data": {
            "text/plain": [
              "(1779, 500)"
            ]
          },
          "metadata": {},
          "execution_count": 29
        }
      ],
      "source": [
        "# Check shape\n",
        "train_extracted.shape"
      ]
    },
    {
      "cell_type": "markdown",
      "metadata": {
        "id": "jiXJ-JKN7JjC"
      },
      "source": [
        "Now, we can use any `sklearn` classifier to train with this information.\n",
        "\n",
        "- Naive Bayes\n",
        "- Logistic Regression\n",
        "- Support Vector Machine\n",
        "- …"
      ]
    },
    {
      "cell_type": "code",
      "execution_count": 30,
      "metadata": {
        "id": "rWAvshwv7JjC",
        "jupyter": {
          "outputs_hidden": false
        },
        "tags": []
      },
      "outputs": [],
      "source": [
        "from sklearn.naive_bayes import MultinomialNB"
      ]
    },
    {
      "cell_type": "markdown",
      "metadata": {
        "id": "voLmY0_A7JjC"
      },
      "source": [
        "[MultinomialNB Documentation](https://scikit-learn.org/stable/modules/generated/sklearn.naive_bayes.MultinomialNB.html)"
      ]
    },
    {
      "cell_type": "code",
      "execution_count": 31,
      "metadata": {
        "id": "c0yCF55i7JjC",
        "jupyter": {
          "outputs_hidden": false
        },
        "tags": []
      },
      "outputs": [],
      "source": [
        "clf = MultinomialNB()  # default parameters"
      ]
    },
    {
      "cell_type": "code",
      "execution_count": 32,
      "metadata": {
        "colab": {
          "base_uri": "https://localhost:8080/"
        },
        "id": "VG1DOI0W7JjC",
        "jupyter": {
          "outputs_hidden": false
        },
        "outputId": "b4f80944-045b-42ff-b614-e8241307f850",
        "tags": []
      },
      "outputs": [
        {
          "output_type": "stream",
          "name": "stdout",
          "text": [
            "  (0, 3)\t7\n",
            "  (0, 7)\t1\n",
            "  (0, 62)\t1\n",
            "  (0, 94)\t1\n",
            "  (0, 120)\t1\n",
            "  (0, 167)\t1\n",
            "  (0, 190)\t2\n",
            "  (0, 209)\t1\n",
            "  (0, 226)\t1\n",
            "  (0, 251)\t1\n",
            "  (0, 290)\t2\n",
            "  (0, 309)\t1\n",
            "  (0, 316)\t1\n",
            "  (0, 408)\t1\n",
            "  (0, 424)\t1\n",
            "  (0, 439)\t1\n",
            "  (0, 440)\t1\n",
            "  (0, 452)\t1\n",
            "  (0, 491)\t1\n",
            "  (0, 494)\t1\n",
            "  (0, 495)\t2\n"
          ]
        }
      ],
      "source": [
        "# Feature Vector of example 1\n",
        "print(train_extracted[1])"
      ]
    },
    {
      "cell_type": "code",
      "execution_count": 33,
      "metadata": {
        "colab": {
          "base_uri": "https://localhost:8080/"
        },
        "id": "J3bgsxON7JjD",
        "outputId": "55be9e5c-dffd-4abb-aa05-87d4b4e94b1e",
        "tags": []
      },
      "outputs": [
        {
          "output_type": "stream",
          "name": "stdout",
          "text": [
            "0\n"
          ]
        }
      ],
      "source": [
        "# Target of example 1\n",
        "print(train_set.target[1])"
      ]
    },
    {
      "cell_type": "code",
      "execution_count": 34,
      "metadata": {
        "colab": {
          "base_uri": "https://localhost:8080/"
        },
        "id": "XB_BI_6T7JjD",
        "outputId": "a328a322-d6c6-4b03-c3ab-58a3b71d7fda",
        "tags": []
      },
      "outputs": [
        {
          "output_type": "stream",
          "name": "stdout",
          "text": [
            "sci.electronics\n"
          ]
        }
      ],
      "source": [
        "# Human-understandable label:\n",
        "print(train_set.target_names[1])"
      ]
    },
    {
      "cell_type": "markdown",
      "metadata": {
        "id": "mt7UwLb87JjD"
      },
      "source": [
        "Any sklearn classifier takes (as least) **two arguments**:\n",
        "\n",
        "1. Feature Vectors\n",
        "2. Target Classes\n",
        "\n",
        "(This is different from `nltk` where we needed a list with tuples. Here, we have **two** \"lists\".)"
      ]
    },
    {
      "cell_type": "code",
      "execution_count": 35,
      "metadata": {
        "id": "pTR9cn-W7JjD",
        "jupyter": {
          "outputs_hidden": false
        },
        "tags": []
      },
      "outputs": [],
      "source": [
        "from sklearn.svm import LinearSVC\n",
        "clf = LinearSVC()"
      ]
    },
    {
      "cell_type": "code",
      "execution_count": 42,
      "metadata": {
        "colab": {
          "base_uri": "https://localhost:8080/"
        },
        "id": "wDBsK0Vi7JjD",
        "jupyter": {
          "outputs_hidden": false
        },
        "outputId": "e8d5e2d0-8023-4a1e-a93b-6acaaa4f6ebc",
        "tags": []
      },
      "outputs": [
        {
          "output_type": "stream",
          "name": "stderr",
          "text": [
            "/usr/local/lib/python3.11/dist-packages/sklearn/svm/_base.py:1249: ConvergenceWarning: Liblinear failed to converge, increase the number of iterations.\n",
            "  warnings.warn(\n"
          ]
        }
      ],
      "source": [
        "# we are assigning the return value to an unused variable to make the notebook not show any output for this cell\n",
        "_ = clf.fit(\n",
        "    train_extracted,\n",
        "    train_set.target\n",
        ")"
      ]
    },
    {
      "cell_type": "markdown",
      "metadata": {
        "id": "vMjULpkF7JjD"
      },
      "source": [
        "## Validation\n",
        "\n",
        "We now have a trained classifier. Then, we use the same process to preprocess the test set. But now, we use the feature extractor's `.transform()` function and **MUST NOT** use `.fit()` here. (What are new words worth now anyway? The classifier can't understand them.)"
      ]
    },
    {
      "cell_type": "code",
      "execution_count": 37,
      "metadata": {
        "id": "0k-HjPkU7JjD",
        "jupyter": {
          "outputs_hidden": false
        },
        "tags": []
      },
      "outputs": [],
      "source": [
        "test_set = fetch_20newsgroups(\n",
        "    categories=('sci.electronics', 'sci.space', 'sci.crypt'),\n",
        "    remove=('headers', 'footers', 'quotes'),\n",
        "    subset='test'  # test set now, NOT training\n",
        ")"
      ]
    },
    {
      "cell_type": "code",
      "execution_count": 38,
      "metadata": {
        "id": "JMSVAwAQ7JjF",
        "tags": []
      },
      "outputs": [],
      "source": [
        "# important: .transform, not .fit_transform\n",
        "# we dont want to 'learn' new words here, just bring the test data into the format we know for training\n",
        "X_test = vectorizer.transform(test_set.data)\n",
        "y_test = test_set.target"
      ]
    },
    {
      "cell_type": "code",
      "execution_count": 39,
      "metadata": {
        "id": "9rpWFp4c7JjF",
        "jupyter": {
          "outputs_hidden": false
        },
        "tags": []
      },
      "outputs": [],
      "source": [
        "# do predictions with .predict()\n",
        "predictions = clf.predict(X_test)"
      ]
    },
    {
      "cell_type": "code",
      "execution_count": 40,
      "metadata": {
        "colab": {
          "base_uri": "https://localhost:8080/"
        },
        "id": "u71oCQG37JjF",
        "jupyter": {
          "outputs_hidden": false
        },
        "outputId": "5f5adb89-d535-40fd-d31a-af2c4903409f",
        "tags": []
      },
      "outputs": [
        {
          "output_type": "stream",
          "name": "stdout",
          "text": [
            "[2 0 2 2 0 0 2 0 0 0]\n"
          ]
        }
      ],
      "source": [
        "# What do they look like?\n",
        "\n",
        "print(predictions[:10])"
      ]
    },
    {
      "cell_type": "code",
      "execution_count": 41,
      "metadata": {
        "colab": {
          "base_uri": "https://localhost:8080/",
          "height": 35
        },
        "id": "z1TZShtp7JjG",
        "jupyter": {
          "outputs_hidden": false
        },
        "outputId": "2bd4c2c2-81ae-46d4-c4c1-276683c66f1f",
        "tags": []
      },
      "outputs": [
        {
          "output_type": "execute_result",
          "data": {
            "text/plain": [
              "'sci.space'"
            ],
            "application/vnd.google.colaboratory.intrinsic+json": {
              "type": "string"
            }
          },
          "metadata": {},
          "execution_count": 41
        }
      ],
      "source": [
        "train_set.target_names[2]"
      ]
    },
    {
      "cell_type": "markdown",
      "metadata": {
        "id": "_5DYV9HISN7v"
      },
      "source": [
        "### Test Prediction"
      ]
    },
    {
      "cell_type": "markdown",
      "metadata": {
        "id": "vdQgf45kSN7v"
      },
      "source": [
        "#### TASK 2.2\n",
        "Implement a `predict_category` function that allows users to test the trained classifier with any input sentence.\n",
        "\n",
        "The function should:\n",
        "1. input a sentence as string\n",
        "2. preprocess the sentence with `vectorizer.transform()`\n",
        "3. make prediction with `clf.predict()`\n",
        "2. output a category as string (`\"sci.crypt\", \"sci.electronics\", \"sci.space\"`) from the prediction"
      ]
    },
    {
      "cell_type": "code",
      "execution_count": 54,
      "metadata": {
        "id": "Y7-RUqWNSN7v"
      },
      "outputs": [],
      "source": [
        "def predict_category(sentence: str) -> str:\n",
        "    ### IMPLEMENT YOUR SOLUTION HERE ###\n",
        "\n",
        "    vectorized_sentence = vectorizer.transform([sentence])\n",
        "\n",
        "    category_index = clf.predict(vectorized_sentence)[0]\n",
        "\n",
        "    category = test_set.target_names[category_index]\n",
        "\n",
        "    return category"
      ]
    },
    {
      "cell_type": "code",
      "execution_count": 55,
      "metadata": {
        "colab": {
          "base_uri": "https://localhost:8080/"
        },
        "id": "Y5x5HPw-SN7v",
        "outputId": "82bae0e6-2215-4132-eec8-523a4a3b8a53"
      },
      "outputs": [
        {
          "output_type": "stream",
          "name": "stdout",
          "text": [
            "Sentence: 'The new encryption algorithm ensures secure communication over the internet.'\n",
            "Predicted: 'sci.crypt'\n",
            "Correct: 'sci.crypt'\n",
            "\n",
            "Sentence: 'This circuit design optimizes the power efficiency of solar panels.'\n",
            "Predicted: 'sci.electronics'\n",
            "Correct: 'sci.electronics'\n",
            "\n",
            "Sentence: 'The James Webb Space Telescope has captured stunning images of distant galaxies.'\n",
            "Predicted: 'sci.space'\n",
            "Correct: 'sci.space'\n",
            "\n"
          ]
        }
      ],
      "source": [
        "## test the prediction\n",
        "# this dictionary contains sentences and the correct category - you can add more sentences to test\n",
        "# {\"SENTENCE\": \"CORRECT CATEGORY\"}\n",
        "sentence_dict = {\n",
        "    \"The new encryption algorithm ensures secure communication over the internet.\" : \"sci.crypt\",\n",
        "    \"This circuit design optimizes the power efficiency of solar panels.\" : \"sci.electronics\",\n",
        "    \"The James Webb Space Telescope has captured stunning images of distant galaxies.\" : \"sci.space\"\n",
        "    }\n",
        "\n",
        "# test the prediction\n",
        "for sentence, correct_category in sentence_dict.items():\n",
        "    predicted_category = predict_category(sentence)\n",
        "    print(f\"Sentence: '{sentence}'\")\n",
        "    print(f\"Predicted: '{predicted_category}'\")\n",
        "    print(f\"Correct: '{correct_category}'\\n\")\n",
        "\n",
        "# Expected output:\n",
        "# Sentence: 'The new encryption algorithm ensures secure communication over the internet.'\n",
        "# Predicted: 'sci.crypt'\n",
        "# Correct: 'sci.crypt'\n",
        "# ..."
      ]
    },
    {
      "cell_type": "markdown",
      "metadata": {
        "id": "AtN5rXxc7JjG"
      },
      "source": [
        "### Metrics\n",
        "\n",
        "Fortunately, sklearn has all important metrics already included."
      ]
    },
    {
      "cell_type": "code",
      "execution_count": 56,
      "metadata": {
        "id": "575XZUyS7JjG",
        "jupyter": {
          "outputs_hidden": false
        },
        "tags": []
      },
      "outputs": [],
      "source": [
        "from sklearn.metrics import accuracy_score, precision_recall_fscore_support, classification_report"
      ]
    },
    {
      "cell_type": "code",
      "execution_count": 57,
      "metadata": {
        "colab": {
          "base_uri": "https://localhost:8080/"
        },
        "id": "g64e-uSB7JjG",
        "jupyter": {
          "outputs_hidden": false
        },
        "outputId": "67571d5b-b7a0-4a48-d938-e4e0bfc6f4ee",
        "tags": []
      },
      "outputs": [
        {
          "output_type": "execute_result",
          "data": {
            "text/plain": [
              "0.7117497886728656"
            ]
          },
          "metadata": {},
          "execution_count": 57
        }
      ],
      "source": [
        "a = accuracy_score(test_set.target, predictions)\n",
        "\n",
        "a"
      ]
    },
    {
      "cell_type": "code",
      "execution_count": 58,
      "metadata": {
        "id": "m7pnikIv7JjG",
        "jupyter": {
          "outputs_hidden": false
        },
        "tags": []
      },
      "outputs": [],
      "source": [
        "p, r, f, _ = precision_recall_fscore_support(test_set.target, predictions, average='weighted')"
      ]
    },
    {
      "cell_type": "code",
      "execution_count": 59,
      "metadata": {
        "colab": {
          "base_uri": "https://localhost:8080/"
        },
        "id": "Z35Z-tKq7JjG",
        "jupyter": {
          "outputs_hidden": false
        },
        "outputId": "584ff5a3-4403-41e3-d6be-200442abb6c1",
        "tags": []
      },
      "outputs": [
        {
          "output_type": "stream",
          "name": "stdout",
          "text": [
            "Accuracy : 0.7117\n",
            "Precision: 0.7139\n",
            "Recall   : 0.7117\n",
            "F-Score  : 0.7121\n"
          ]
        }
      ],
      "source": [
        "print(f\"Accuracy : {a:>.4f}\")\n",
        "print(f\"Precision: {p:>.4f}\")\n",
        "print(f\"Recall   : {r:>.4f}\")\n",
        "print(f\"F-Score  : {f:>.4f}\")"
      ]
    },
    {
      "cell_type": "code",
      "execution_count": 60,
      "metadata": {
        "colab": {
          "base_uri": "https://localhost:8080/"
        },
        "id": "AOtO6fAg7JjG",
        "jupyter": {
          "outputs_hidden": false
        },
        "outputId": "3eb90c32-f6b1-4eaf-c2e7-4a5b084e23c8",
        "tags": []
      },
      "outputs": [
        {
          "output_type": "stream",
          "name": "stdout",
          "text": [
            "                 precision    recall  f1-score   support\n",
            "\n",
            "      sci.crypt       0.78      0.73      0.76       396\n",
            "sci.electronics       0.69      0.66      0.68       393\n",
            "      sci.space       0.67      0.74      0.70       394\n",
            "\n",
            "       accuracy                           0.71      1183\n",
            "      macro avg       0.71      0.71      0.71      1183\n",
            "   weighted avg       0.71      0.71      0.71      1183\n",
            "\n"
          ]
        }
      ],
      "source": [
        "print(classification_report(test_set.target, predictions, target_names=test_set.target_names))"
      ]
    },
    {
      "cell_type": "markdown",
      "metadata": {
        "id": "l0jxPirdSN7x"
      },
      "source": [
        "We can also observe different confusion matrices. First, the raw matrix from sklearn."
      ]
    },
    {
      "cell_type": "code",
      "execution_count": 61,
      "metadata": {
        "colab": {
          "base_uri": "https://localhost:8080/",
          "height": 466
        },
        "id": "qYw_JPj1SN7x",
        "outputId": "a25b96c4-21f2-4eba-db46-26baa34eaa05"
      },
      "outputs": [
        {
          "output_type": "execute_result",
          "data": {
            "text/plain": [
              "<sklearn.metrics._plot.confusion_matrix.ConfusionMatrixDisplay at 0x7beb5c544b10>"
            ]
          },
          "metadata": {},
          "execution_count": 61
        },
        {
          "output_type": "display_data",
          "data": {
            "text/plain": [
              "<Figure size 640x480 with 2 Axes>"
            ],
            "image/png": "[encoded data removed]"
          },
          "metadata": {}
        }
      ],
      "source": [
        "\n",
        "sklearn.metrics.ConfusionMatrixDisplay(sklearn.metrics.confusion_matrix(test_set.target, predictions)).plot()"
      ]
    },
    {
      "cell_type": "markdown",
      "metadata": {
        "id": "uHnF9a6wSN7x"
      },
      "source": [
        "Now we can make the matrix a bit prettier and add some lables to the matrix."
      ]
    },
    {
      "cell_type": "code",
      "execution_count": 62,
      "metadata": {
        "colab": {
          "base_uri": "https://localhost:8080/"
        },
        "id": "C8yKhlM8SN7x",
        "outputId": "12608b7a-197a-498a-c704-015645ddda2a"
      },
      "outputs": [
        {
          "output_type": "execute_result",
          "data": {
            "text/plain": [
              "['sci.crypt', 'sci.electronics', 'sci.space']"
            ]
          },
          "metadata": {},
          "execution_count": 62
        }
      ],
      "source": [
        "test_set.target_names"
      ]
    },
    {
      "cell_type": "markdown",
      "metadata": {
        "id": "NEPmUcq3SN7x"
      },
      "source": [
        "In the second matrix, we normalize the matrix by true labels (row-wise normalization). Each row sums up to 1."
      ]
    },
    {
      "cell_type": "code",
      "execution_count": 63,
      "metadata": {
        "colab": {
          "base_uri": "https://localhost:8080/",
          "height": 466
        },
        "id": "IFC82-N-SN7x",
        "outputId": "75660a17-fb6b-481f-e4f3-766dc425d4d0"
      },
      "outputs": [
        {
          "output_type": "execute_result",
          "data": {
            "text/plain": [
              "<sklearn.metrics._plot.confusion_matrix.ConfusionMatrixDisplay at 0x7beb5c3b8890>"
            ]
          },
          "metadata": {},
          "execution_count": 63
        },
        {
          "output_type": "display_data",
          "data": {
            "text/plain": [
              "<Figure size 640x480 with 2 Axes>"
            ],
            "image/png": "[encoded data removed]"
          },
          "metadata": {}
        }
      ],
      "source": [
        "# Confusion matrix with normalized by\n",
        "sklearn.metrics.ConfusionMatrixDisplay.from_estimator(\n",
        "    clf,\n",
        "    X=X_test,\n",
        "    y=y_test,\n",
        "    display_labels=test_set.target_names,\n",
        "    normalize='true'\n",
        ")"
      ]
    },
    {
      "cell_type": "markdown",
      "metadata": {
        "id": "LcDj27w9SN7x"
      },
      "source": [
        "Now, in the third confusion matrix, we normalize by the predicted labels (column-wise normalization)."
      ]
    },
    {
      "cell_type": "code",
      "execution_count": 64,
      "metadata": {
        "colab": {
          "base_uri": "https://localhost:8080/",
          "height": 466
        },
        "id": "q0MHPTMSSN7y",
        "outputId": "0f2a813b-8964-4d82-8f0f-939db339d84f"
      },
      "outputs": [
        {
          "output_type": "execute_result",
          "data": {
            "text/plain": [
              "<sklearn.metrics._plot.confusion_matrix.ConfusionMatrixDisplay at 0x7beb5c23f290>"
            ]
          },
          "metadata": {},
          "execution_count": 64
        },
        {
          "output_type": "display_data",
          "data": {
            "text/plain": [
              "<Figure size 640x480 with 2 Axes>"
            ],
            "image/png": "[encoded data removed]"
          },
          "metadata": {}
        }
      ],
      "source": [
        "# Confusion matrix with normalized by prediction values\n",
        "sklearn.metrics.ConfusionMatrixDisplay.from_estimator(\n",
        "    clf,\n",
        "    X=X_test,\n",
        "    y=y_test,\n",
        "    display_labels=test_set.target_names,\n",
        "    normalize='pred'\n",
        ")"
      ]
    },
    {
      "cell_type": "markdown",
      "metadata": {
        "id": "lKh0fz8QSN7y"
      },
      "source": [
        "And lastly we can combine the normalization and use `normalize=\"all\"` to get a global view of class distribution in predictions."
      ]
    },
    {
      "cell_type": "code",
      "execution_count": 65,
      "metadata": {
        "colab": {
          "base_uri": "https://localhost:8080/",
          "height": 466
        },
        "id": "WN8TmkOHSN7y",
        "outputId": "7ed1bf08-fc90-4731-cc04-c37a304d2c04"
      },
      "outputs": [
        {
          "output_type": "execute_result",
          "data": {
            "text/plain": [
              "<sklearn.metrics._plot.confusion_matrix.ConfusionMatrixDisplay at 0x7beb5c25f210>"
            ]
          },
          "metadata": {},
          "execution_count": 65
        },
        {
          "output_type": "display_data",
          "data": {
            "text/plain": [
              "<Figure size 640x480 with 2 Axes>"
            ],
            "image/png": "[encoded data removed]"
          },
          "metadata": {}
        }
      ],
      "source": [
        "sklearn.metrics.ConfusionMatrixDisplay.from_estimator(\n",
        "    clf,\n",
        "    X=X_test,\n",
        "    y=y_test,\n",
        "    display_labels=test_set.target_names,\n",
        "    normalize='all'\n",
        ")"
      ]
    }
  ],
  "metadata": {
    "colab": {
      "provenance": [],
      "include_colab_link": true
    },
    "kernelspec": {
      "display_name": "nlp24_Solution",
      "language": "python",
      "name": "python3"
    },
    "language_info": {
      "codemirror_mode": {
        "name": "ipython",
        "version": 3
      },
      "file_extension": ".py",
      "mimetype": "text/x-python",
      "name": "python",
      "nbconvert_exporter": "python",
      "pygments_lexer": "ipython3",
      "version": "3.10.16"
    }
  },
  "nbformat": 4,
  "nbformat_minor": 0
}