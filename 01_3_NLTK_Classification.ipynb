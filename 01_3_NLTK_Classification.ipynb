{
  "cells": [
    {
      "cell_type": "markdown",
      "metadata": {
        "id": "view-in-github",
        "colab_type": "text"
      },
      "source": [
        "<a href=\"https://colab.research.google.com/github/Showcas/NLP/blob/main/01_3_NLTK_Classification.ipynb\" target=\"_parent\"><img src=\"https://colab.research.google.com/assets/colab-badge.svg\" alt=\"Open In Colab\"/></a>"
      ]
    },
    {
      "cell_type": "markdown",
      "metadata": {
        "id": "dN-f-sa01XjE"
      },
      "source": [
        "# Natural Language Processing with Deep Learning"
      ]
    },
    {
      "cell_type": "code",
      "execution_count": 20,
      "metadata": {
        "id": "j7N9hshV1XjG",
        "jupyter": {
          "outputs_hidden": false
        }
      },
      "outputs": [],
      "source": [
        "# we use this for progress bars\n",
        "from tqdm.auto import tqdm"
      ]
    },
    {
      "cell_type": "code",
      "execution_count": 21,
      "metadata": {
        "id": "D9Fq2oij1XjH",
        "jupyter": {
          "outputs_hidden": false
        }
      },
      "outputs": [],
      "source": [
        "# Use the module by importing\n",
        "import nltk\n",
        "\n",
        "# Also, we use now a different corpus\n",
        "from nltk.corpus import brown"
      ]
    },
    {
      "cell_type": "code",
      "execution_count": 22,
      "metadata": {
        "id": "0_T8bBlH1kJQ",
        "outputId": "ef7001a0-c499-4f0f-9615-fbf2307bc1d3",
        "colab": {
          "base_uri": "https://localhost:8080/"
        }
      },
      "outputs": [
        {
          "output_type": "stream",
          "name": "stderr",
          "text": [
            "[nltk_data] Downloading package brown to /root/nltk_data...\n",
            "[nltk_data]   Package brown is already up-to-date!\n",
            "[nltk_data] Downloading package stopwords to /root/nltk_data...\n",
            "[nltk_data]   Package stopwords is already up-to-date!\n",
            "[nltk_data] Downloading package averaged_perceptron_tagger to\n",
            "[nltk_data]     /root/nltk_data...\n",
            "[nltk_data]   Package averaged_perceptron_tagger is already up-to-\n",
            "[nltk_data]       date!\n",
            "[nltk_data] Downloading package punkt to /root/nltk_data...\n",
            "[nltk_data]   Package punkt is already up-to-date!\n",
            "[nltk_data] Downloading package wordnet to /root/nltk_data...\n",
            "[nltk_data]   Package wordnet is already up-to-date!\n"
          ]
        },
        {
          "output_type": "execute_result",
          "data": {
            "text/plain": [
              "True"
            ]
          },
          "metadata": {},
          "execution_count": 22
        }
      ],
      "source": [
        "# downloading all resources\n",
        "nltk.download('brown')\n",
        "nltk.download('stopwords')\n",
        "nltk.download('averaged_perceptron_tagger')\n",
        "nltk.download('punkt')\n",
        "nltk.download('wordnet')"
      ]
    },
    {
      "cell_type": "code",
      "execution_count": 23,
      "metadata": {
        "id": "tlbsKkXW1XjH",
        "jupyter": {
          "outputs_hidden": false
        },
        "outputId": "6c0b9b6e-e86b-497b-c9f0-ea1777f5c59f",
        "colab": {
          "base_uri": "https://localhost:8080/"
        }
      },
      "outputs": [
        {
          "output_type": "stream",
          "name": "stdout",
          "text": [
            "['adventure', 'belles_lettres', 'editorial', 'fiction', 'government', 'hobbies', 'humor', 'learned', 'lore', 'mystery', 'news', 'religion', 'reviews', 'romance', 'science_fiction']\n"
          ]
        }
      ],
      "source": [
        "# Which categories are there?\n",
        "print(brown.categories())"
      ]
    },
    {
      "cell_type": "markdown",
      "metadata": {
        "id": "urLkQtsc1XjI"
      },
      "source": [
        "\n",
        "We will train a classifier that will be able to distinguish 3 (pseudo-randomly) chosen classes:\n",
        "\n",
        "`science_fiction`, `news`, and `religion`"
      ]
    },
    {
      "cell_type": "code",
      "execution_count": 24,
      "metadata": {
        "id": "E90rU0ZZ1XjI",
        "jupyter": {
          "outputs_hidden": false
        }
      },
      "outputs": [],
      "source": [
        "LABELS = {'fiction', 'news', 'religion'}\n",
        "\n",
        "# We will create a list of tuples: (<tokens>, <label>)\n",
        "\n",
        "full_corpus = [\n",
        "    (brown.words(fileids=[fileid]), label)\n",
        "    for label in LABELS\n",
        "    for fileid in brown.fileids(categories=[label])\n",
        "]"
      ]
    },
    {
      "cell_type": "code",
      "execution_count": 25,
      "metadata": {
        "id": "WAdnCQH31XjI",
        "jupyter": {
          "outputs_hidden": false
        },
        "outputId": "de5ad3e3-57bf-47e9-9403-3796338ebc31",
        "colab": {
          "base_uri": "https://localhost:8080/"
        }
      },
      "outputs": [
        {
          "output_type": "stream",
          "name": "stdout",
          "text": [
            "Counter({'news': 44, 'fiction': 29, 'religion': 17})\n"
          ]
        }
      ],
      "source": [
        "# Count label distribution:\n",
        "\n",
        "from collections import Counter\n",
        "\n",
        "lbl_dist = Counter(label for _, label in full_corpus)\n",
        "\n",
        "print(lbl_dist)"
      ]
    },
    {
      "cell_type": "markdown",
      "metadata": {
        "id": "PtmYDB6s1XjJ"
      },
      "source": [
        "We see from the **unbalanced** dataset that using (normal) _accuracy_ is not possible and we could not trust the result.\n",
        "\n",
        "$ N = 44 + 29 + 17 = 90 $\n",
        "\n",
        "$ P(\\text{news}) = \\frac{44}{90} = 0.49 $\n",
        "\n",
        "$ P(\\text{fiction}) = \\frac{29}{90} = 0.32 $\n",
        "\n",
        "$ P(\\text{religion}) = \\frac{17}{90} = 0.19 $\n",
        "\n",
        "So, by always choosing `news`, the accuracy will automatically be close to 50%."
      ]
    },
    {
      "cell_type": "markdown",
      "metadata": {
        "id": "fbyPqsbS1XjJ"
      },
      "source": [
        "## Preprocessing\n",
        "\n",
        "We need a function that does the preprocessing for us. The text is already tokenized, so we do not need to this.\n",
        "\n",
        "We will do the 2 steps:\n",
        "\n",
        "1. Lowercase all tokens\n",
        "2. Remove stopwords (and punctuation)"
      ]
    },
    {
      "cell_type": "code",
      "execution_count": 26,
      "metadata": {
        "id": "l4utspfK1XjJ",
        "jupyter": {
          "outputs_hidden": false
        }
      },
      "outputs": [],
      "source": [
        "from string import punctuation\n",
        "from nltk.corpus import stopwords\n",
        "\n",
        "\n",
        "STOPWORDS = set(stopwords.words('english'))\n",
        "STOPWORDS = STOPWORDS.union(set(punctuation))\n",
        "STOPWORDS = STOPWORDS.union(set([\"''\", \"--\", \"``\"]))\n",
        "\n",
        "\n",
        "def lowercase_and_filter(tokens):\n",
        "    return [\n",
        "        t\n",
        "        for token in tokens\n",
        "        if (t := token.lower()) not in STOPWORDS\n",
        "    ]"
      ]
    },
    {
      "cell_type": "code",
      "execution_count": 27,
      "metadata": {
        "id": "kcFDBe6q1XjK",
        "jupyter": {
          "outputs_hidden": false
        },
        "outputId": "389c90b0-f2d7-4305-97c2-db9fead719bd",
        "colab": {
          "base_uri": "https://localhost:8080/"
        }
      },
      "outputs": [
        {
          "output_type": "stream",
          "name": "stdout",
          "text": [
            "Unprocessed\n",
            " ['Thirty-three', 'Scotty', 'did', 'not', 'go', 'back', 'to', 'school', '.', 'His', 'parents', 'talked', 'seriously', 'and', 'lengthily', 'to', 'their', 'own', 'doctor', 'and']\n",
            "Preprocessed\n",
            " ['thirty-three', 'scotty', 'go', 'back', 'school', 'parents', 'talked', 'seriously', 'lengthily', 'doctor']\n"
          ]
        }
      ],
      "source": [
        "# example\n",
        "print(\"Unprocessed\\n\", full_corpus[0][0][:20])\n",
        "\n",
        "print(\"Preprocessed\\n\", lowercase_and_filter(full_corpus[0][0][:20]))"
      ]
    },
    {
      "cell_type": "code",
      "execution_count": 29,
      "metadata": {
        "id": "LP5WA2qp1XjK",
        "jupyter": {
          "outputs_hidden": false
        },
        "outputId": "e866088c-8575-4f73-ebf5-99208bc62b9d",
        "colab": {
          "base_uri": "https://localhost:8080/"
        }
      },
      "outputs": [
        {
          "output_type": "execute_result",
          "data": {
            "text/plain": [
              "('investig', 'elect', 'produc')"
            ]
          },
          "metadata": {},
          "execution_count": 29
        }
      ],
      "source": [
        "# We have not many words, so to reduce the vocabulary, we **stem** the tokens additionally.\n",
        "\n",
        "from nltk.stem import SnowballStemmer\n",
        "\n",
        "STEMMER = SnowballStemmer(language='english')\n",
        "\n",
        "# example:\n",
        "\n",
        "STEMMER.stem('investigation'), STEMMER.stem('election'), STEMMER.stem('produced')"
      ]
    },
    {
      "cell_type": "code",
      "execution_count": 30,
      "metadata": {
        "id": "tsXpFloT1XjK",
        "jupyter": {
          "outputs_hidden": false
        }
      },
      "outputs": [],
      "source": [
        "def stem(tokens):\n",
        "    return [STEMMER.stem(token) for token in tokens]"
      ]
    },
    {
      "cell_type": "code",
      "execution_count": 31,
      "metadata": {
        "id": "TzzdR4VL1XjK",
        "jupyter": {
          "outputs_hidden": false
        },
        "outputId": "79aeeb37-6614-4c02-b3f4-57941189707e",
        "colab": {
          "base_uri": "https://localhost:8080/"
        }
      },
      "outputs": [
        {
          "output_type": "stream",
          "name": "stdout",
          "text": [
            "Unprocessed \n",
            " ['Thirty-three', 'Scotty', 'did', 'not', 'go', 'back', 'to', 'school', '.', 'His', 'parents', 'talked', 'seriously', 'and', 'lengthily', 'to', 'their', 'own', 'doctor', 'and']\n",
            "\n",
            "Preprocessed \n",
            " ['thirty-three', 'scotty', 'go', 'back', 'school', 'parents', 'talked', 'seriously', 'lengthily', 'doctor']\n",
            "\n",
            "Stemmed \n",
            " ['thirty-thre', 'scotti', 'go', 'back', 'school', 'parent', 'talk', 'serious', 'lengthili', 'doctor']\n",
            "\n"
          ]
        }
      ],
      "source": [
        "# example\n",
        "print(\"Unprocessed \\n\", full_corpus[0][0][:20], end=\"\\n\\n\")\n",
        "\n",
        "print(\"Preprocessed \\n\", lowercase_and_filter(full_corpus[0][0][:20]), end=\"\\n\\n\")\n",
        "\n",
        "print(\"Stemmed \\n\", stem(lowercase_and_filter(full_corpus[0][0][:20])), end=\"\\n\\n\")"
      ]
    },
    {
      "cell_type": "markdown",
      "metadata": {
        "id": "2IyYg-Qi1XjL"
      },
      "source": [
        "Some words like `said` is not reduced, so we could also use **Lemmatization**.\n",
        "\n",
        "But we know from the lecture, that Lemmatization needs _POS-Tags_ for good results, so we need to to pos-tagging first.\n",
        "\n",
        "1. POS-Tagging\n",
        "2. Lemmatization\n",
        "3. Stopword Removal\n",
        "4. Stemming (?)"
      ]
    },
    {
      "cell_type": "code",
      "execution_count": 41,
      "metadata": {
        "id": "UA_TF_6w1XjL",
        "jupyter": {
          "outputs_hidden": false
        },
        "outputId": "1e676154-5ccd-40f5-e80b-dd618546914f",
        "colab": {
          "base_uri": "https://localhost:8080/"
        }
      },
      "outputs": [
        {
          "output_type": "execute_result",
          "data": {
            "text/plain": [
              "[('Thirty-three', 'JJ'),\n",
              " ('Scotty', 'NNP'),\n",
              " ('did', 'VBD'),\n",
              " ('not', 'RB'),\n",
              " ('go', 'VB'),\n",
              " ('back', 'RB'),\n",
              " ('to', 'TO'),\n",
              " ('school', 'NN'),\n",
              " ('.', '.'),\n",
              " ('His', 'PRP$'),\n",
              " ('parents', 'NNS'),\n",
              " ('talked', 'VBD'),\n",
              " ('seriously', 'RB'),\n",
              " ('and', 'CC'),\n",
              " ('lengthily', 'RB'),\n",
              " ('to', 'TO'),\n",
              " ('their', 'PRP$'),\n",
              " ('own', 'JJ'),\n",
              " ('doctor', 'NN'),\n",
              " ('and', 'CC')]"
            ]
          },
          "metadata": {},
          "execution_count": 41
        }
      ],
      "source": [
        "# Example of POS-Tagging:\n",
        "nltk.pos_tag(full_corpus[0][0][:20])"
      ]
    },
    {
      "cell_type": "code",
      "execution_count": 43,
      "metadata": {
        "id": "fcdTc3rl1XjL",
        "jupyter": {
          "outputs_hidden": false
        },
        "outputId": "83278a6c-0ff2-497f-dc71-4e5bb2ed4f0e",
        "colab": {
          "base_uri": "https://localhost:8080/"
        }
      },
      "outputs": [
        {
          "output_type": "execute_result",
          "data": {
            "text/plain": [
              "[('Do', 'VBP'), (\"n't\", 'RB'), ('treat', 'VB'), ('me', 'PRP'), ('badly', 'RB')]"
            ]
          },
          "metadata": {},
          "execution_count": 43
        }
      ],
      "source": [
        "nltk.pos_tag(nltk.word_tokenize(\"Don't treat me badly\"))"
      ]
    },
    {
      "cell_type": "code",
      "execution_count": 49,
      "metadata": {
        "id": "wBJSMdyf1XjL",
        "jupyter": {
          "outputs_hidden": false
        },
        "outputId": "7a1fce83-39c7-428b-db70-08373f1b5242",
        "colab": {
          "base_uri": "https://localhost:8080/"
        }
      },
      "outputs": [
        {
          "output_type": "stream",
          "name": "stdout",
          "text": [
            "Incorrect: said\n",
            "Correct: say\n"
          ]
        }
      ],
      "source": [
        "from nltk import WordNetLemmatizer\n",
        "\n",
        "LEMMA = WordNetLemmatizer()\n",
        "\n",
        "# example:\n",
        "\n",
        "# Without explizit POS tag (default is NOUN)\n",
        "print('Incorrect:', LEMMA.lemmatize('said'))\n",
        "\n",
        "# With correct POS tag:\n",
        "print('Correct:', LEMMA.lemmatize('said', pos='v'))"
      ]
    },
    {
      "cell_type": "markdown",
      "metadata": {
        "id": "GkPM-q2u1XjL"
      },
      "source": [
        "Unfortunately, the `WordNetLemmatizer` needs a specific form for the pos tag, so we have to convert the tag to a compatible format."
      ]
    },
    {
      "cell_type": "markdown",
      "metadata": {
        "id": "-dg21zWHGsRI"
      },
      "source": [
        "#### TASK 1.5\n",
        "Implement a function to convert the position tag.\n",
        "1. Utilize wordnet.ADJ, wordnet.VERB and wordnet.ADV\n",
        "2. Tags starting with J -> wordnet.ADJ\n",
        "3. Tags starting with V -> wordnet.VERB\n",
        "4. Tags starting with R -> wordnet.ADV\n",
        "5. Tags starting with N -> wordnet.NOUN\n",
        "6. Tags starting with S -> wordnet.ADJ_SAT\n",
        "7. All other Tags should be defaulted to wordnet.NOUN.\n",
        "8. Return the converted tag.\n",
        "\n",
        "*Hint*: You can look up all the possible Tags using: `nltk.help.upenn_tagset()`"
      ]
    },
    {
      "cell_type": "code",
      "execution_count": 58,
      "metadata": {
        "id": "WDC5ObCqGsRI"
      },
      "outputs": [],
      "source": [
        "from nltk.corpus import wordnet\n",
        "\n",
        "### IMPLEMENT YOUR SOLUTION HERE ###\n",
        "\n",
        "def convert_pos_tag(tag):\n",
        "  if tag.startswith(\"J\"):\n",
        "    return wordnet.ADJ\n",
        "  elif tag.startswith(\"V\"):\n",
        "    return wordnet.VERB\n",
        "  elif tag.startswith(\"R\"):\n",
        "    return wordnet.ADV\n",
        "  elif tag.startswith(\"N\"):\n",
        "    return wordnet.NOUN\n",
        "  elif tag.startswith(\"S\"):\n",
        "    return wordnet.ADJ_SAT\n",
        "  else:\n",
        "    return wordnet.NOUN"
      ]
    },
    {
      "cell_type": "code",
      "execution_count": 59,
      "metadata": {
        "id": "xaZocg3Z1XjM",
        "jupyter": {
          "outputs_hidden": false
        },
        "outputId": "0b65bfd1-5843-406c-e375-7990049b6ef9",
        "colab": {
          "base_uri": "https://localhost:8080/"
        }
      },
      "outputs": [
        {
          "output_type": "execute_result",
          "data": {
            "text/plain": [
              "['Thirty-three',\n",
              " 'Scotty',\n",
              " 'do',\n",
              " 'not',\n",
              " 'go',\n",
              " 'back',\n",
              " 'to',\n",
              " 'school',\n",
              " '.',\n",
              " 'His',\n",
              " 'parent',\n",
              " 'talk',\n",
              " 'seriously',\n",
              " 'and',\n",
              " 'lengthily',\n",
              " 'to',\n",
              " 'their',\n",
              " 'own',\n",
              " 'doctor',\n",
              " 'and']"
            ]
          },
          "metadata": {},
          "execution_count": 59
        }
      ],
      "source": [
        "# example:\n",
        "[\n",
        "    LEMMA.lemmatize(\n",
        "        token, pos=convert_pos_tag(tag)\n",
        "    )\n",
        "    for token, tag in nltk.pos_tag(full_corpus[0][0][:20])\n",
        "]"
      ]
    },
    {
      "cell_type": "markdown",
      "metadata": {
        "id": "qnue6_A51XjM"
      },
      "source": [
        "## Combining\n",
        "\n",
        "We need to combine now all of the methods to do the preprocessing in this order:\n",
        "\n",
        "1. POS-Tagging\n",
        "2. Lemmatization\n",
        "3. Stopword Removal\n",
        "4. Stemming (?)"
      ]
    },
    {
      "cell_type": "code",
      "execution_count": 60,
      "metadata": {
        "id": "ZzxKt59_1XjM",
        "jupyter": {
          "outputs_hidden": false
        }
      },
      "outputs": [],
      "source": [
        "def preprocess(tokens):\n",
        "\n",
        "    # 1. POS-Tagging\n",
        "    with_pos = nltk.pos_tag(tokens)\n",
        "\n",
        "    # 2.1 Conversion of pos tags for lemmatizer\n",
        "    with_converted_pos = [(token, convert_pos_tag(tag)) for token, tag in with_pos]\n",
        "\n",
        "    # 2.2 Lemmatize\n",
        "    lemmatized_tokens = [LEMMA.lemmatize(token, pos=tag) for token, tag in with_converted_pos]\n",
        "\n",
        "    # 3.1 Lowercase everything\n",
        "    lowercase_tokens = [token.lower() for token in lemmatized_tokens]\n",
        "\n",
        "    # 3.2 Remove stopwords/unwanted punctuation\n",
        "    filtered_tokens = [token for token in lowercase_tokens if token not in STOPWORDS]\n",
        "\n",
        "    # 4. Stemming\n",
        "    stemmed_tokens = [STEMMER.stem(token) for token in filtered_tokens]\n",
        "\n",
        "    # Done.\n",
        "    return stemmed_tokens"
      ]
    },
    {
      "cell_type": "code",
      "execution_count": 61,
      "metadata": {
        "id": "5RzfHZvE1XjM",
        "jupyter": {
          "outputs_hidden": false
        },
        "outputId": "5d97c07c-2b32-49c4-f95e-7c7537ee2a7d",
        "colab": {
          "base_uri": "https://localhost:8080/",
          "height": 49,
          "referenced_widgets": [
            "6d18be34fd324875abe176d3f553a745",
            "16c49b30124d43069e17ce612bc99346",
            "e788e122168a473792ea832539d6c80c",
            "df4a3e9ad314404cb5b2cd5c950ba24d",
            "ae7730403bcb4a14af200320f9c66669",
            "b4138257a359412aa1f4708273cc16c5",
            "c659a5186bc84072b9de4478bde7fa31",
            "55c8d9ef0cb142748401110f207a2df8",
            "06543c6348ea49878d79f99bc7834998",
            "a6c1698923be40b7b5cf40e35a1d3fbc",
            "dab142fa534b4de2bee04d35b374bb44"
          ]
        }
      },
      "outputs": [
        {
          "output_type": "display_data",
          "data": {
            "text/plain": [
              "Preprocessing:   0%|          | 0/90 [00:00<?, ?it/s]"
            ],
            "application/vnd.jupyter.widget-view+json": {
              "version_major": 2,
              "version_minor": 0,
              "model_id": "6d18be34fd324875abe176d3f553a745"
            }
          },
          "metadata": {}
        }
      ],
      "source": [
        "# Now, we do the heavy-lifting (most time will be spend in the Lemmatizer—it's slow.)\n",
        "# (We will use tqdm to see the progress)\n",
        "\n",
        "preprocessed = [\n",
        "    (preprocess(tokens), label)\n",
        "    for tokens, label in tqdm(full_corpus, total=len(full_corpus), desc='Preprocessing')\n",
        "]"
      ]
    },
    {
      "cell_type": "code",
      "execution_count": 62,
      "metadata": {
        "id": "phvflM3p1XjN",
        "jupyter": {
          "outputs_hidden": false
        },
        "outputId": "01a980f4-1be1-4fc0-9ca1-9cf038a5faff",
        "colab": {
          "base_uri": "https://localhost:8080/"
        }
      },
      "outputs": [
        {
          "output_type": "execute_result",
          "data": {
            "text/plain": [
              "['thirty-thre',\n",
              " 'scotti',\n",
              " 'go',\n",
              " 'back',\n",
              " 'school',\n",
              " 'parent',\n",
              " 'talk',\n",
              " 'serious',\n",
              " 'lengthili',\n",
              " 'doctor',\n",
              " 'specialist',\n",
              " 'univers',\n",
              " 'hospit',\n",
              " 'mr.',\n",
              " 'mckinley',\n",
              " 'entitl',\n",
              " 'discount',\n",
              " 'member',\n",
              " 'famili',\n",
              " 'decid']"
            ]
          },
          "metadata": {},
          "execution_count": 62
        }
      ],
      "source": [
        "# example\n",
        "preprocessed[0][0][:20]"
      ]
    },
    {
      "cell_type": "markdown",
      "metadata": {
        "id": "_m7SktQl1XjN"
      },
      "source": [
        "## Feature Extraction\n",
        "\n",
        "For feature extraction, we use now the **count** of each of the vocabulary word. The vocabulary will be the 100 most common tokens (=lowercased stemmed lemmata without stopwords).\n",
        "\n"
      ]
    },
    {
      "cell_type": "code",
      "execution_count": 63,
      "metadata": {
        "id": "gggJHpdH1XjN",
        "jupyter": {
          "outputs_hidden": false
        },
        "outputId": "67c8a871-5735-4757-ef1d-f5c36775e5a8",
        "colab": {
          "base_uri": "https://localhost:8080/"
        }
      },
      "outputs": [
        {
          "output_type": "stream",
          "name": "stdout",
          "text": [
            "100\n",
            "['also', 'anoth', 'around', 'ask', 'back', 'becom', 'begin', 'big', 'call', 'church', 'citi', 'come', 'could', 'day', 'even', 'face', 'find', 'first', 'four', 'get', 'give', 'go', 'god', 'good', 'great', 'hand', 'head', 'hear', 'high', 'hold', 'home', 'hous', 'john', 'know', 'last', 'leav', 'life', 'like', 'littl', 'live', 'long', 'look', 'make', 'man', 'mani', 'may', 'mean', 'meet', 'member', 'men', 'mr.', 'mrs.', 'much', 'must', 'nation', 'need', 'never', 'new', 'night', 'old', 'one', 'open', 'peopl', 'person', 'place', 'plan', 'play', 'presid', 'right', 'room', 'run', 'say', 'school', 'see', 'seem', 'sinc', 'stand', 'state', 'still', 'take', 'tell', 'thing', 'think', 'three', 'time', 'turn', 'two', 'u', 'univers', 'use', 'want', 'way', 'week', 'well', 'white', 'without', 'work', 'world', 'would', 'year']\n"
          ]
        }
      ],
      "source": [
        "from collections import Counter\n",
        "\n",
        "\n",
        "VOCABULARY = sorted(\n",
        "    token for token, _ in Counter(token for tokens, _ in preprocessed for token in tokens).most_common(100)\n",
        ")\n",
        "\n",
        "print(len(VOCABULARY))\n",
        "\n",
        "print(VOCABULARY)"
      ]
    },
    {
      "cell_type": "code",
      "execution_count": 64,
      "metadata": {
        "id": "VZ5VreeH1XjN",
        "jupyter": {
          "outputs_hidden": false
        }
      },
      "outputs": [],
      "source": [
        "def feature_set(tokens):\n",
        "\n",
        "    features = {}\n",
        "\n",
        "    token_count = Counter(tokens)\n",
        "\n",
        "    for vocab_token in VOCABULARY:\n",
        "        features[f\"amount({vocab_token})\"] = token_count[vocab_token]\n",
        "\n",
        "    # features['text_length'] = len(tokens)\n",
        "    # features['average_token_length'] = sum(len(token) for token in tokens) / len(tokens)\n",
        "\n",
        "    return features"
      ]
    },
    {
      "cell_type": "code",
      "execution_count": 65,
      "metadata": {
        "id": "gAb9A6ld1XjN",
        "jupyter": {
          "outputs_hidden": false
        }
      },
      "outputs": [],
      "source": [
        "training_data = [\n",
        "    (feature_set(tokens), label) for tokens, label in preprocessed\n",
        "]"
      ]
    },
    {
      "cell_type": "markdown",
      "metadata": {
        "id": "pBiH72NV1XjN"
      },
      "source": [
        "## Classification"
      ]
    },
    {
      "cell_type": "code",
      "execution_count": 66,
      "metadata": {
        "id": "ZJvtkhE11XjN",
        "jupyter": {
          "outputs_hidden": false
        }
      },
      "outputs": [],
      "source": [
        "from nltk import NaiveBayesClassifier\n",
        "\n",
        "nb = NaiveBayesClassifier.train(training_data)"
      ]
    },
    {
      "cell_type": "markdown",
      "metadata": {
        "id": "0MHNCfEy1XjO"
      },
      "source": [
        "## Evaluation\n",
        "\n",
        "Now, we want to measure how well the classifier can distinguish the classes.\n",
        "\n",
        "\n",
        "But we don't have a data set for this. We already used the full `training_data` data set for training. We can't _test_ or _evaluate_ the classifier.\n",
        "\n",
        "What me **MUST** do then, **BEFOREHAND**, is _splitting_ the dataset into **two parts**: The _training_ set and _testing_ set.\n",
        "\n",
        "The *test* set is emulated to be fully and totally **UNKNOWN** to the classifier, so we are not allowed to use the full vocabulary: Only the one from the train set.\n",
        "\n",
        "1. **SPLIT** the data set\n",
        "1. Define a preprocess function\n",
        "1. Define a feature extraction function\n",
        "1. Create Vocabulary from **TRAIN** set\n",
        "1. Apply preprocessing/feature extraction for **TRAIN** set.\n",
        "1. Train classifier\n",
        "1. Apply preprocessing/feature extraction for **TEST** set.\n",
        "1. Classify **TEST** set\n",
        "1. Evaluate results!\n",
        "\n",
        "\n",
        "(We already have the preprocess/feature extraction functions.)"
      ]
    },
    {
      "cell_type": "code",
      "execution_count": 67,
      "metadata": {
        "id": "B4ffH5IZ1XjO",
        "jupyter": {
          "outputs_hidden": false
        }
      },
      "outputs": [],
      "source": [
        "# We use random 80% of the data for training\n",
        "import random"
      ]
    },
    {
      "cell_type": "code",
      "execution_count": 68,
      "metadata": {
        "id": "Ce9hTzTi1XjO",
        "jupyter": {
          "outputs_hidden": false
        },
        "outputId": "a934d7fc-04ed-400a-9378-26f8a5ad1bb6",
        "colab": {
          "base_uri": "https://localhost:8080/"
        }
      },
      "outputs": [
        {
          "output_type": "stream",
          "name": "stdout",
          "text": [
            "The train set has 72 items, the test set 18\n"
          ]
        },
        {
          "output_type": "execute_result",
          "data": {
            "text/plain": [
              "(Counter({'news': 35, 'fiction': 27, 'religion': 10}),\n",
              " Counter({'religion': 7, 'news': 9, 'fiction': 2}))"
            ]
          },
          "metadata": {},
          "execution_count": 68
        }
      ],
      "source": [
        "split_index = int(len(full_corpus) * 0.8)\n",
        "\n",
        "random.seed(20)\n",
        "\n",
        "shuffled = random.sample(full_corpus, len(full_corpus))\n",
        "\n",
        "train_set = shuffled[:split_index]\n",
        "test_set = shuffled[split_index:]\n",
        "\n",
        "print(f\"The train set has {len(train_set)} items, the test set {len(test_set)}\")\n",
        "\n",
        "Counter(label for _, label in train_set), Counter(label for _, label in test_set)"
      ]
    },
    {
      "cell_type": "markdown",
      "metadata": {
        "id": "CMEr32B_1XjR"
      },
      "source": [
        "By randomly selecting sets there might be a problem with the label distribution. The random selection does not check if **ALL** labels are in the train and the test set.\n",
        "\n",
        "We can ensure that by splitting 80% of each label population."
      ]
    },
    {
      "cell_type": "code",
      "execution_count": 69,
      "metadata": {
        "id": "Sv0P0ykk1XjS",
        "jupyter": {
          "outputs_hidden": false
        },
        "outputId": "2aeb6227-b4d9-462c-aa62-3b3858bdd5cd",
        "colab": {
          "base_uri": "https://localhost:8080/"
        }
      },
      "outputs": [
        {
          "output_type": "stream",
          "name": "stdout",
          "text": [
            "The train set has 71 items, the test set 19\n"
          ]
        },
        {
          "output_type": "execute_result",
          "data": {
            "text/plain": [
              "(Counter({'fiction': 23, 'religion': 13, 'news': 35}),\n",
              " Counter({'fiction': 6, 'religion': 4, 'news': 9}))"
            ]
          },
          "metadata": {},
          "execution_count": 69
        }
      ],
      "source": [
        "def train_test_split(l, amount=0.8):\n",
        "    split_index = int(len(l) * amount)\n",
        "\n",
        "    shuffled = random.sample(l, len(l))\n",
        "\n",
        "    train_set = shuffled[:split_index]\n",
        "    test_set = shuffled[split_index:]\n",
        "\n",
        "    return train_set, test_set\n",
        "\n",
        "train_set = []\n",
        "test_set = []\n",
        "\n",
        "for label in LABELS:\n",
        "    train_ids, test_ids = train_test_split(brown.fileids(categories=[label]), amount=0.8)\n",
        "    train_set.extend([\n",
        "        (brown.words(fileids=[fileid]), label) for fileid in train_ids\n",
        "    ])\n",
        "    test_set.extend([\n",
        "        (brown.words(fileids=[fileid]), label) for fileid in test_ids\n",
        "    ])\n",
        "\n",
        "\n",
        "print(f\"The train set has {len(train_set)} items, the test set {len(test_set)}\")\n",
        "\n",
        "Counter(label for _, label in train_set), Counter(label for _, label in test_set)"
      ]
    },
    {
      "cell_type": "code",
      "execution_count": 70,
      "metadata": {
        "id": "RyEhGTpk1XjS",
        "jupyter": {
          "outputs_hidden": false
        }
      },
      "outputs": [],
      "source": [
        "def preprocess(tokens):\n",
        "    # 1. POS-Tagging\n",
        "    with_pos = nltk.pos_tag(tokens)\n",
        "\n",
        "    # 2.1 Conversion of pos tags for lemmatizer\n",
        "    with_converted_pos = [(token, convert_pos_tag(tag)) for token, tag in with_pos]\n",
        "\n",
        "    # 2.2 Lemmatize\n",
        "    lemmatized_tokens = [LEMMA.lemmatize(token, pos=tag) for token, tag in with_converted_pos]\n",
        "\n",
        "    # 3.1 Lowercase everything\n",
        "    lowercase_tokens = [token.lower() for token in lemmatized_tokens]\n",
        "\n",
        "    # 3.2 Remove stopwords/unwanted punctuation\n",
        "    filtered_tokens = [token for token in lowercase_tokens if token not in STOPWORDS]\n",
        "\n",
        "    # 4. Stemming\n",
        "    stemmed_tokens = [STEMMER.stem(token) for token in filtered_tokens]\n",
        "\n",
        "    # Done.\n",
        "    return stemmed_tokens"
      ]
    },
    {
      "cell_type": "code",
      "execution_count": 71,
      "metadata": {
        "id": "q62sWCOm1XjS",
        "jupyter": {
          "outputs_hidden": false
        },
        "outputId": "ff019817-3958-45a4-c2a6-da18f637a21c",
        "colab": {
          "base_uri": "https://localhost:8080/",
          "height": 49,
          "referenced_widgets": [
            "b788971bfad6440eb0f3da872037bce6",
            "5f35b0daefa34402b88f424514d1b997",
            "430e4b167399424eb67ce7d91194f695",
            "8196d36eb8dc466d8a7b935f3e537415",
            "8da8b7c5f4594309ae076ce41ff152b1",
            "943f8042d24a4b3493408f8dfa08c9aa",
            "1791b5e849c543eab7a3f97ff5b44e90",
            "73e0c81d11f740158c9edcc86d720d62",
            "37f8819b30304df9b03f5422ca6ff0ca",
            "66294cb0d6e54657b51b12178911aaf9",
            "182efccf62114226b27348003e5c78b7"
          ]
        }
      },
      "outputs": [
        {
          "output_type": "display_data",
          "data": {
            "text/plain": [
              "Preprocessing:   0%|          | 0/71 [00:00<?, ?it/s]"
            ],
            "application/vnd.jupyter.widget-view+json": {
              "version_major": 2,
              "version_minor": 0,
              "model_id": "b788971bfad6440eb0f3da872037bce6"
            }
          },
          "metadata": {}
        }
      ],
      "source": [
        "# We can do the same things: preprocess, feature extraction, classification\n",
        "\n",
        "train_set_preprocessed = [\n",
        "    (preprocess(tokens), label) for tokens, label in tqdm(train_set, total=len(train_set), desc='Preprocessing')\n",
        "]"
      ]
    },
    {
      "cell_type": "code",
      "execution_count": 72,
      "metadata": {
        "id": "OZIa9AEB1XjT",
        "jupyter": {
          "outputs_hidden": false
        },
        "outputId": "7001d86e-35b0-4e52-810b-2b585cdf458a",
        "colab": {
          "base_uri": "https://localhost:8080/"
        }
      },
      "outputs": [
        {
          "output_type": "stream",
          "name": "stdout",
          "text": [
            "100\n",
            "['also', 'anoth', 'ask', 'back', 'becom', 'begin', 'big', 'call', 'car', 'christian', 'church', 'citi', 'come', 'could', 'day', 'even', 'face', 'find', 'first', 'get', 'give', 'go', 'god', 'good', 'great', 'hand', 'head', 'hear', 'high', 'hold', 'home', 'hous', 'john', 'know', 'last', 'leav', 'life', 'like', 'littl', 'live', 'long', 'look', 'make', 'man', 'mani', 'may', 'mean', 'meet', 'member', 'men', 'mr.', 'mrs.', 'much', 'must', 'nation', 'need', 'never', 'new', 'night', 'number', 'old', 'one', 'open', 'peopl', 'person', 'place', 'plan', 'play', 'presid', 'report', 'room', 'say', 'school', 'see', 'seem', 'sinc', 'spirit', 'stand', 'state', 'still', 'take', 'tell', 'thing', 'think', 'three', 'time', 'turn', 'two', 'univers', 'use', 'want', 'way', 'week', 'well', 'white', 'without', 'work', 'world', 'would', 'year']\n"
          ]
        }
      ],
      "source": [
        "TRAIN_VOCABULARY = sorted(\n",
        "    token for token, _ in Counter(token for tokens, _ in train_set_preprocessed for token in tokens).most_common(100)\n",
        ")\n",
        "\n",
        "print(len(TRAIN_VOCABULARY))\n",
        "\n",
        "print(TRAIN_VOCABULARY)"
      ]
    },
    {
      "cell_type": "code",
      "execution_count": 73,
      "metadata": {
        "id": "KBMRsV_j1XjZ",
        "jupyter": {
          "outputs_hidden": false
        }
      },
      "outputs": [],
      "source": [
        "def feature_extraction(tokens):\n",
        "    features = {}\n",
        "\n",
        "    token_count = Counter(tokens)\n",
        "\n",
        "    for vocab_token in VOCABULARY:\n",
        "        features[f\"amount({vocab_token})\"] = token_count[vocab_token]\n",
        "\n",
        "    return features"
      ]
    },
    {
      "cell_type": "code",
      "execution_count": 74,
      "metadata": {
        "id": "KhG84t6B1XjZ",
        "jupyter": {
          "outputs_hidden": false
        }
      },
      "outputs": [],
      "source": [
        "train_data = [\n",
        "    (feature_extraction(tokens), label) for tokens, label in train_set_preprocessed\n",
        "]"
      ]
    },
    {
      "cell_type": "code",
      "execution_count": 75,
      "metadata": {
        "id": "QoFYcJhp1XjZ",
        "jupyter": {
          "outputs_hidden": false
        }
      },
      "outputs": [],
      "source": [
        "nb = NaiveBayesClassifier.train(train_data)"
      ]
    },
    {
      "cell_type": "code",
      "execution_count": 76,
      "metadata": {
        "id": "nAPsxjiA1XjZ",
        "jupyter": {
          "outputs_hidden": false
        },
        "outputId": "6231d969-4d0d-4790-9b0f-0e4bbde0bcf8",
        "colab": {
          "base_uri": "https://localhost:8080/",
          "height": 49,
          "referenced_widgets": [
            "f5c514167b474907ba80a81e52352fff",
            "99fcb185dd2547fea505c3ee74fbbae7",
            "08111aed32734ff7a58ca56da1607fc2",
            "b1dfb355813f4090af8af85f5229c435",
            "5f02d947e9584960a7e85c9c94a192c7",
            "ef24cdda0aee4a0d9193ad0ba95305a9",
            "13e73f064d6e4b22b5f03902b0361956",
            "91b1114a095d4436a907def973ccffd5",
            "f0f3026fb6974edb808241888ad0465c",
            "dbed10376672435fb4d037b345791ee4",
            "c3a3eb21f7d24793960af77a73c55cd2"
          ]
        }
      },
      "outputs": [
        {
          "output_type": "display_data",
          "data": {
            "text/plain": [
              "Preprocessing/Feature Extraction:   0%|          | 0/19 [00:00<?, ?it/s]"
            ],
            "application/vnd.jupyter.widget-view+json": {
              "version_major": 2,
              "version_minor": 0,
              "model_id": "f5c514167b474907ba80a81e52352fff"
            }
          },
          "metadata": {}
        }
      ],
      "source": [
        "test_data = [\n",
        "    (\n",
        "        feature_extraction(\n",
        "            preprocess(\n",
        "                tokens\n",
        "            )\n",
        "        ),\n",
        "        label\n",
        "    ) for tokens, label in tqdm(test_set, desc='Preprocessing/Feature Extraction')\n",
        "]"
      ]
    },
    {
      "cell_type": "code",
      "execution_count": 77,
      "metadata": {
        "id": "-IuCAjtJ1Xja",
        "jupyter": {
          "outputs_hidden": false
        },
        "outputId": "736eeddf-d789-447a-f931-884e4e1e82cf",
        "colab": {
          "base_uri": "https://localhost:8080/"
        }
      },
      "outputs": [
        {
          "output_type": "execute_result",
          "data": {
            "text/plain": [
              "0.8947368421052632"
            ]
          },
          "metadata": {},
          "execution_count": 77
        }
      ],
      "source": [
        "# We can get the accuracy directly with NLTK:\n",
        "\n",
        "nltk.classify.accuracy(nb, test_data)"
      ]
    },
    {
      "cell_type": "code",
      "execution_count": 78,
      "metadata": {
        "id": "o_AN-zUw1Xja",
        "jupyter": {
          "outputs_hidden": false
        }
      },
      "outputs": [],
      "source": [
        "# BUT we know, that this is skewed, so we need Precision/Recall/F1"
      ]
    },
    {
      "cell_type": "code",
      "execution_count": 79,
      "metadata": {
        "id": "J0FooAU41Xja",
        "jupyter": {
          "outputs_hidden": false
        }
      },
      "outputs": [],
      "source": [
        "predictions = nb.classify_many([features for features, _ in test_data])"
      ]
    },
    {
      "cell_type": "code",
      "execution_count": 80,
      "metadata": {
        "id": "SkCw0wGU1Xja",
        "jupyter": {
          "outputs_hidden": false
        }
      },
      "outputs": [],
      "source": [
        "gold = [label for _, label in test_data]"
      ]
    },
    {
      "cell_type": "code",
      "execution_count": 81,
      "metadata": {
        "id": "c-cnvLU91Xja",
        "jupyter": {
          "outputs_hidden": false
        },
        "outputId": "442cb567-638e-4b4d-9c4f-47894aec09ae",
        "colab": {
          "base_uri": "https://localhost:8080/"
        }
      },
      "outputs": [
        {
          "output_type": "stream",
          "name": "stdout",
          "text": [
            "\n",
            "Micro-Precision: 0.8947\n",
            "Micro-Recall   : 0.8947\n",
            "Micro-FScore   : 0.8947\n",
            "\n"
          ]
        }
      ],
      "source": [
        "# Micro Average\n",
        "\n",
        "tp, fp, fn = 0, 0, 0\n",
        "\n",
        "for predicted, correct in zip(predictions, gold):\n",
        "    for label in LABELS:\n",
        "        if correct == label:\n",
        "            if predicted == label:\n",
        "                tp += 1\n",
        "            else:\n",
        "                fn += 1\n",
        "        else:\n",
        "            if predicted == label:\n",
        "                fp += 1\n",
        "            # We don't care about TN for precision/recall\n",
        "\n",
        "micro_precision = tp / (tp + fp)\n",
        "micro_recall = tp / (tp + fn)\n",
        "micro_fscore = (2 * micro_precision * micro_recall) / (micro_precision + micro_recall)\n",
        "\n",
        "print(f\"\"\"\n",
        "Micro-Precision: {micro_precision:.4f}\n",
        "Micro-Recall   : {micro_recall:.4f}\n",
        "Micro-FScore   : {micro_fscore:.4f}\n",
        "\"\"\")"
      ]
    },
    {
      "cell_type": "code",
      "execution_count": 82,
      "metadata": {
        "id": "nhE3LeWg1Xja",
        "jupyter": {
          "outputs_hidden": false
        },
        "tags": [],
        "outputId": "afb7faab-5ac9-4259-ecca-d35287672f9a",
        "colab": {
          "base_uri": "https://localhost:8080/"
        }
      },
      "outputs": [
        {
          "output_type": "stream",
          "name": "stdout",
          "text": [
            "Precision per Label:\n",
            "\tfiction   : 1.00\n",
            "\treligion  : 0.75\n",
            "\tnews      : 0.89\n",
            "\n",
            "Recall per Label:\n",
            "\tfiction   : 1.00\n",
            "\treligion  : 0.75\n",
            "\tnews      : 0.89\n",
            "\n",
            "F-Score per Label:\n",
            "\tfiction   : 1.00\n",
            "\treligion  : 0.75\n",
            "\tnews      : 0.89\n",
            "\n",
            "\n",
            "Macro-Precision: 0.8796\n",
            "Macro-Recall   : 0.8796\n",
            "Macro-FScore   : 0.8796\n",
            "\n"
          ]
        }
      ],
      "source": [
        "# Macro Average\n",
        "\n",
        "precisions, recalls, fscores = {}, {}, {} # as dictionary so, we store it by _label_\n",
        "\n",
        "for label in LABELS:\n",
        "    tp, fp, fn = 0, 0, 0\n",
        "    for predicted, correct in zip(predictions, gold):\n",
        "        if correct == label:\n",
        "            if predicted == label:\n",
        "                tp += 1\n",
        "            else:\n",
        "                fn += 1\n",
        "        else:\n",
        "            if predicted == label:\n",
        "                fp += 1\n",
        "    p = tp / (tp + fp)\n",
        "    r = tp / (tp + fn)\n",
        "    f = (2 * p * r) / (p + r)\n",
        "\n",
        "    precisions[label] = p\n",
        "    recalls[label] = r\n",
        "    fscores[label] = f\n",
        "\n",
        "\n",
        "print(f\"Precision per Label:\")\n",
        "print('\\n'.join(['\\t' + f'{label:<10}: {value:.2f}' for label, value in precisions.items()]))\n",
        "print()\n",
        "\n",
        "print(f\"Recall per Label:\")\n",
        "print('\\n'.join(['\\t' + f'{label:<10}: {value:.2f}' for label, value in recalls.items()]))\n",
        "print()\n",
        "\n",
        "print(f\"F-Score per Label:\")\n",
        "print('\\n'.join(['\\t' + f'{label:<10}: {value:.2f}' for label, value in fscores.items()]))\n",
        "print()\n",
        "\n",
        "macro_precision = sum(precisions.values()) / len(precisions)\n",
        "macro_recall = sum(recalls.values()) / len(recalls)\n",
        "macro_fscore = sum(fscores.values()) / len(fscores)\n",
        "\n",
        "\n",
        "print(f\"\"\"\n",
        "Macro-Precision: {macro_precision:.4f}\n",
        "Macro-Recall   : {macro_recall:.4f}\n",
        "Macro-FScore   : {macro_fscore:.4f}\n",
        "\"\"\")"
      ]
    },
    {
      "cell_type": "code",
      "execution_count": null,
      "metadata": {
        "id": "tdsNvkI51Xja"
      },
      "outputs": [],
      "source": []
    }
  ],
  "metadata": {
    "colab": {
      "provenance": [],
      "include_colab_link": true
    },
    "kernelspec": {
      "display_name": "HSG_NLP_EDU",
      "language": "python",
      "name": "python3"
    },
    "language_info": {
      "codemirror_mode": {
        "name": "ipython",
        "version": 3
      },
      "file_extension": ".py",
      "mimetype": "text/x-python",
      "name": "python",
      "nbconvert_exporter": "python",
      "pygments_lexer": "ipython3",
      "version": "3.9.21"
    },
    "widgets": {
      "application/vnd.jupyter.widget-state+json": {
        "6d18be34fd324875abe176d3f553a745": {
          "model_module": "@jupyter-widgets/controls",
          "model_name": "HBoxModel",
          "model_module_version": "1.5.0",
          "state": {
            "_dom_classes": [],
            "_model_module": "@jupyter-widgets/controls",
            "_model_module_version": "1.5.0",
            "_model_name": "HBoxModel",
            "_view_count": null,
            "_view_module": "@jupyter-widgets/controls",
            "_view_module_version": "1.5.0",
            "_view_name": "HBoxView",
            "box_style": "",
            "children": [
              "IPY_MODEL_16c49b30124d43069e17ce612bc99346",
              "IPY_MODEL_e788e122168a473792ea832539d6c80c",
              "IPY_MODEL_df4a3e9ad314404cb5b2cd5c950ba24d"
            ],
            "layout": "IPY_MODEL_ae7730403bcb4a14af200320f9c66669"
          }
        },
        "16c49b30124d43069e17ce612bc99346": {
          "model_module": "@jupyter-widgets/controls",
          "model_name": "HTMLModel",
          "model_module_version": "1.5.0",
          "state": {
            "_dom_classes": [],
            "_model_module": "@jupyter-widgets/controls",
            "_model_module_version": "1.5.0",
            "_model_name": "HTMLModel",
            "_view_count": null,
            "_view_module": "@jupyter-widgets/controls",
            "_view_module_version": "1.5.0",
            "_view_name": "HTMLView",
            "description": "",
            "description_tooltip": null,
            "layout": "IPY_MODEL_b4138257a359412aa1f4708273cc16c5",
            "placeholder": "​",
            "style": "IPY_MODEL_c659a5186bc84072b9de4478bde7fa31",
            "value": "Preprocessing: 100%"
          }
        },
        "e788e122168a473792ea832539d6c80c": {
          "model_module": "@jupyter-widgets/controls",
          "model_name": "FloatProgressModel",
          "model_module_version": "1.5.0",
          "state": {
            "_dom_classes": [],
            "_model_module": "@jupyter-widgets/controls",
            "_model_module_version": "1.5.0",
            "_model_name": "FloatProgressModel",
            "_view_count": null,
            "_view_module": "@jupyter-widgets/controls",
            "_view_module_version": "1.5.0",
            "_view_name": "ProgressView",
            "bar_style": "success",
            "description": "",
            "description_tooltip": null,
            "layout": "IPY_MODEL_55c8d9ef0cb142748401110f207a2df8",
            "max": 90,
            "min": 0,
            "orientation": "horizontal",
            "style": "IPY_MODEL_06543c6348ea49878d79f99bc7834998",
            "value": 90
          }
        },
        "df4a3e9ad314404cb5b2cd5c950ba24d": {
          "model_module": "@jupyter-widgets/controls",
          "model_name": "HTMLModel",
          "model_module_version": "1.5.0",
          "state": {
            "_dom_classes": [],
            "_model_module": "@jupyter-widgets/controls",
            "_model_module_version": "1.5.0",
            "_model_name": "HTMLModel",
            "_view_count": null,
            "_view_module": "@jupyter-widgets/controls",
            "_view_module_version": "1.5.0",
            "_view_name": "HTMLView",
            "description": "",
            "description_tooltip": null,
            "layout": "IPY_MODEL_a6c1698923be40b7b5cf40e35a1d3fbc",
            "placeholder": "​",
            "style": "IPY_MODEL_dab142fa534b4de2bee04d35b374bb44",
            "value": " 90/90 [00:10&lt;00:00,  8.53it/s]"
          }
        },
        "ae7730403bcb4a14af200320f9c66669": {
          "model_module": "@jupyter-widgets/base",
          "model_name": "LayoutModel",
          "model_module_version": "1.2.0",
          "state": {
            "_model_module": "@jupyter-widgets/base",
            "_model_module_version": "1.2.0",
            "_model_name": "LayoutModel",
            "_view_count": null,
            "_view_module": "@jupyter-widgets/base",
            "_view_module_version": "1.2.0",
            "_view_name": "LayoutView",
            "align_content": null,
            "align_items": null,
            "align_self": null,
            "border": null,
            "bottom": null,
            "display": null,
            "flex": null,
            "flex_flow": null,
            "grid_area": null,
            "grid_auto_columns": null,
            "grid_auto_flow": null,
            "grid_auto_rows": null,
            "grid_column": null,
            "grid_gap": null,
            "grid_row": null,
            "grid_template_areas": null,
            "grid_template_columns": null,
            "grid_template_rows": null,
            "height": null,
            "justify_content": null,
            "justify_items": null,
            "left": null,
            "margin": null,
            "max_height": null,
            "max_width": null,
            "min_height": null,
            "min_width": null,
            "object_fit": null,
            "object_position": null,
            "order": null,
            "overflow": null,
            "overflow_x": null,
            "overflow_y": null,
            "padding": null,
            "right": null,
            "top": null,
            "visibility": null,
            "width": null
          }
        },
        "b4138257a359412aa1f4708273cc16c5": {
          "model_module": "@jupyter-widgets/base",
          "model_name": "LayoutModel",
          "model_module_version": "1.2.0",
          "state": {
            "_model_module": "@jupyter-widgets/base",
            "_model_module_version": "1.2.0",
            "_model_name": "LayoutModel",
            "_view_count": null,
            "_view_module": "@jupyter-widgets/base",
            "_view_module_version": "1.2.0",
            "_view_name": "LayoutView",
            "align_content": null,
            "align_items": null,
            "align_self": null,
            "border": null,
            "bottom": null,
            "display": null,
            "flex": null,
            "flex_flow": null,
            "grid_area": null,
            "grid_auto_columns": null,
            "grid_auto_flow": null,
            "grid_auto_rows": null,
            "grid_column": null,
            "grid_gap": null,
            "grid_row": null,
            "grid_template_areas": null,
            "grid_template_columns": null,
            "grid_template_rows": null,
            "height": null,
            "justify_content": null,
            "justify_items": null,
            "left": null,
            "margin": null,
            "max_height": null,
            "max_width": null,
            "min_height": null,
            "min_width": null,
            "object_fit": null,
            "object_position": null,
            "order": null,
            "overflow": null,
            "overflow_x": null,
            "overflow_y": null,
            "padding": null,
            "right": null,
            "top": null,
            "visibility": null,
            "width": null
          }
        },
        "c659a5186bc84072b9de4478bde7fa31": {
          "model_module": "@jupyter-widgets/controls",
          "model_name": "DescriptionStyleModel",
          "model_module_version": "1.5.0",
          "state": {
            "_model_module": "@jupyter-widgets/controls",
            "_model_module_version": "1.5.0",
            "_model_name": "DescriptionStyleModel",
            "_view_count": null,
            "_view_module": "@jupyter-widgets/base",
            "_view_module_version": "1.2.0",
            "_view_name": "StyleView",
            "description_width": ""
          }
        },
        "55c8d9ef0cb142748401110f207a2df8": {
          "model_module": "@jupyter-widgets/base",
          "model_name": "LayoutModel",
          "model_module_version": "1.2.0",
          "state": {
            "_model_module": "@jupyter-widgets/base",
            "_model_module_version": "1.2.0",
            "_model_name": "LayoutModel",
            "_view_count": null,
            "_view_module": "@jupyter-widgets/base",
            "_view_module_version": "1.2.0",
            "_view_name": "LayoutView",
            "align_content": null,
            "align_items": null,
            "align_self": null,
            "border": null,
            "bottom": null,
            "display": null,
            "flex": null,
            "flex_flow": null,
            "grid_area": null,
            "grid_auto_columns": null,
            "grid_auto_flow": null,
            "grid_auto_rows": null,
            "grid_column": null,
            "grid_gap": null,
            "grid_row": null,
            "grid_template_areas": null,
            "grid_template_columns": null,
            "grid_template_rows": null,
            "height": null,
            "justify_content": null,
            "justify_items": null,
            "left": null,
            "margin": null,
            "max_height": null,
            "max_width": null,
            "min_height": null,
            "min_width": null,
            "object_fit": null,
            "object_position": null,
            "order": null,
            "overflow": null,
            "overflow_x": null,
            "overflow_y": null,
            "padding": null,
            "right": null,
            "top": null,
            "visibility": null,
            "width": null
          }
        },
        "06543c6348ea49878d79f99bc7834998": {
          "model_module": "@jupyter-widgets/controls",
          "model_name": "ProgressStyleModel",
          "model_module_version": "1.5.0",
          "state": {
            "_model_module": "@jupyter-widgets/controls",
            "_model_module_version": "1.5.0",
            "_model_name": "ProgressStyleModel",
            "_view_count": null,
            "_view_module": "@jupyter-widgets/base",
            "_view_module_version": "1.2.0",
            "_view_name": "StyleView",
            "bar_color": null,
            "description_width": ""
          }
        },
        "a6c1698923be40b7b5cf40e35a1d3fbc": {
          "model_module": "@jupyter-widgets/base",
          "model_name": "LayoutModel",
          "model_module_version": "1.2.0",
          "state": {
            "_model_module": "@jupyter-widgets/base",
            "_model_module_version": "1.2.0",
            "_model_name": "LayoutModel",
            "_view_count": null,
            "_view_module": "@jupyter-widgets/base",
            "_view_module_version": "1.2.0",
            "_view_name": "LayoutView",
            "align_content": null,
            "align_items": null,
            "align_self": null,
            "border": null,
            "bottom": null,
            "display": null,
            "flex": null,
            "flex_flow": null,
            "grid_area": null,
            "grid_auto_columns": null,
            "grid_auto_flow": null,
            "grid_auto_rows": null,
            "grid_column": null,
            "grid_gap": null,
            "grid_row": null,
            "grid_template_areas": null,
            "grid_template_columns": null,
            "grid_template_rows": null,
            "height": null,
            "justify_content": null,
            "justify_items": null,
            "left": null,
            "margin": null,
            "max_height": null,
            "max_width": null,
            "min_height": null,
            "min_width": null,
            "object_fit": null,
            "object_position": null,
            "order": null,
            "overflow": null,
            "overflow_x": null,
            "overflow_y": null,
            "padding": null,
            "right": null,
            "top": null,
            "visibility": null,
            "width": null
          }
        },
        "dab142fa534b4de2bee04d35b374bb44": {
          "model_module": "@jupyter-widgets/controls",
          "model_name": "DescriptionStyleModel",
          "model_module_version": "1.5.0",
          "state": {
            "_model_module": "@jupyter-widgets/controls",
            "_model_module_version": "1.5.0",
            "_model_name": "DescriptionStyleModel",
            "_view_count": null,
            "_view_module": "@jupyter-widgets/base",
            "_view_module_version": "1.2.0",
            "_view_name": "StyleView",
            "description_width": ""
          }
        },
        "b788971bfad6440eb0f3da872037bce6": {
          "model_module": "@jupyter-widgets/controls",
          "model_name": "HBoxModel",
          "model_module_version": "1.5.0",
          "state": {
            "_dom_classes": [],
            "_model_module": "@jupyter-widgets/controls",
            "_model_module_version": "1.5.0",
            "_model_name": "HBoxModel",
            "_view_count": null,
            "_view_module": "@jupyter-widgets/controls",
            "_view_module_version": "1.5.0",
            "_view_name": "HBoxView",
            "box_style": "",
            "children": [
              "IPY_MODEL_5f35b0daefa34402b88f424514d1b997",
              "IPY_MODEL_430e4b167399424eb67ce7d91194f695",
              "IPY_MODEL_8196d36eb8dc466d8a7b935f3e537415"
            ],
            "layout": "IPY_MODEL_8da8b7c5f4594309ae076ce41ff152b1"
          }
        },
        "5f35b0daefa34402b88f424514d1b997": {
          "model_module": "@jupyter-widgets/controls",
          "model_name": "HTMLModel",
          "model_module_version": "1.5.0",
          "state": {
            "_dom_classes": [],
            "_model_module": "@jupyter-widgets/controls",
            "_model_module_version": "1.5.0",
            "_model_name": "HTMLModel",
            "_view_count": null,
            "_view_module": "@jupyter-widgets/controls",
            "_view_module_version": "1.5.0",
            "_view_name": "HTMLView",
            "description": "",
            "description_tooltip": null,
            "layout": "IPY_MODEL_943f8042d24a4b3493408f8dfa08c9aa",
            "placeholder": "​",
            "style": "IPY_MODEL_1791b5e849c543eab7a3f97ff5b44e90",
            "value": "Preprocessing: 100%"
          }
        },
        "430e4b167399424eb67ce7d91194f695": {
          "model_module": "@jupyter-widgets/controls",
          "model_name": "FloatProgressModel",
          "model_module_version": "1.5.0",
          "state": {
            "_dom_classes": [],
            "_model_module": "@jupyter-widgets/controls",
            "_model_module_version": "1.5.0",
            "_model_name": "FloatProgressModel",
            "_view_count": null,
            "_view_module": "@jupyter-widgets/controls",
            "_view_module_version": "1.5.0",
            "_view_name": "ProgressView",
            "bar_style": "success",
            "description": "",
            "description_tooltip": null,
            "layout": "IPY_MODEL_73e0c81d11f740158c9edcc86d720d62",
            "max": 71,
            "min": 0,
            "orientation": "horizontal",
            "style": "IPY_MODEL_37f8819b30304df9b03f5422ca6ff0ca",
            "value": 71
          }
        },
        "8196d36eb8dc466d8a7b935f3e537415": {
          "model_module": "@jupyter-widgets/controls",
          "model_name": "HTMLModel",
          "model_module_version": "1.5.0",
          "state": {
            "_dom_classes": [],
            "_model_module": "@jupyter-widgets/controls",
            "_model_module_version": "1.5.0",
            "_model_name": "HTMLModel",
            "_view_count": null,
            "_view_module": "@jupyter-widgets/controls",
            "_view_module_version": "1.5.0",
            "_view_name": "HTMLView",
            "description": "",
            "description_tooltip": null,
            "layout": "IPY_MODEL_66294cb0d6e54657b51b12178911aaf9",
            "placeholder": "​",
            "style": "IPY_MODEL_182efccf62114226b27348003e5c78b7",
            "value": " 71/71 [00:09&lt;00:00,  8.42it/s]"
          }
        },
        "8da8b7c5f4594309ae076ce41ff152b1": {
          "model_module": "@jupyter-widgets/base",
          "model_name": "LayoutModel",
          "model_module_version": "1.2.0",
          "state": {
            "_model_module": "@jupyter-widgets/base",
            "_model_module_version": "1.2.0",
            "_model_name": "LayoutModel",
            "_view_count": null,
            "_view_module": "@jupyter-widgets/base",
            "_view_module_version": "1.2.0",
            "_view_name": "LayoutView",
            "align_content": null,
            "align_items": null,
            "align_self": null,
            "border": null,
            "bottom": null,
            "display": null,
            "flex": null,
            "flex_flow": null,
            "grid_area": null,
            "grid_auto_columns": null,
            "grid_auto_flow": null,
            "grid_auto_rows": null,
            "grid_column": null,
            "grid_gap": null,
            "grid_row": null,
            "grid_template_areas": null,
            "grid_template_columns": null,
            "grid_template_rows": null,
            "height": null,
            "justify_content": null,
            "justify_items": null,
            "left": null,
            "margin": null,
            "max_height": null,
            "max_width": null,
            "min_height": null,
            "min_width": null,
            "object_fit": null,
            "object_position": null,
            "order": null,
            "overflow": null,
            "overflow_x": null,
            "overflow_y": null,
            "padding": null,
            "right": null,
            "top": null,
            "visibility": null,
            "width": null
          }
        },
        "943f8042d24a4b3493408f8dfa08c9aa": {
          "model_module": "@jupyter-widgets/base",
          "model_name": "LayoutModel",
          "model_module_version": "1.2.0",
          "state": {
            "_model_module": "@jupyter-widgets/base",
            "_model_module_version": "1.2.0",
            "_model_name": "LayoutModel",
            "_view_count": null,
            "_view_module": "@jupyter-widgets/base",
            "_view_module_version": "1.2.0",
            "_view_name": "LayoutView",
            "align_content": null,
            "align_items": null,
            "align_self": null,
            "border": null,
            "bottom": null,
            "display": null,
            "flex": null,
            "flex_flow": null,
            "grid_area": null,
            "grid_auto_columns": null,
            "grid_auto_flow": null,
            "grid_auto_rows": null,
            "grid_column": null,
            "grid_gap": null,
            "grid_row": null,
            "grid_template_areas": null,
            "grid_template_columns": null,
            "grid_template_rows": null,
            "height": null,
            "justify_content": null,
            "justify_items": null,
            "left": null,
            "margin": null,
            "max_height": null,
            "max_width": null,
            "min_height": null,
            "min_width": null,
            "object_fit": null,
            "object_position": null,
            "order": null,
            "overflow": null,
            "overflow_x": null,
            "overflow_y": null,
            "padding": null,
            "right": null,
            "top": null,
            "visibility": null,
            "width": null
          }
        },
        "1791b5e849c543eab7a3f97ff5b44e90": {
          "model_module": "@jupyter-widgets/controls",
          "model_name": "DescriptionStyleModel",
          "model_module_version": "1.5.0",
          "state": {
            "_model_module": "@jupyter-widgets/controls",
            "_model_module_version": "1.5.0",
            "_model_name": "DescriptionStyleModel",
            "_view_count": null,
            "_view_module": "@jupyter-widgets/base",
            "_view_module_version": "1.2.0",
            "_view_name": "StyleView",
            "description_width": ""
          }
        },
        "73e0c81d11f740158c9edcc86d720d62": {
          "model_module": "@jupyter-widgets/base",
          "model_name": "LayoutModel",
          "model_module_version": "1.2.0",
          "state": {
            "_model_module": "@jupyter-widgets/base",
            "_model_module_version": "1.2.0",
            "_model_name": "LayoutModel",
            "_view_count": null,
            "_view_module": "@jupyter-widgets/base",
            "_view_module_version": "1.2.0",
            "_view_name": "LayoutView",
            "align_content": null,
            "align_items": null,
            "align_self": null,
            "border": null,
            "bottom": null,
            "display": null,
            "flex": null,
            "flex_flow": null,
            "grid_area": null,
            "grid_auto_columns": null,
            "grid_auto_flow": null,
            "grid_auto_rows": null,
            "grid_column": null,
            "grid_gap": null,
            "grid_row": null,
            "grid_template_areas": null,
            "grid_template_columns": null,
            "grid_template_rows": null,
            "height": null,
            "justify_content": null,
            "justify_items": null,
            "left": null,
            "margin": null,
            "max_height": null,
            "max_width": null,
            "min_height": null,
            "min_width": null,
            "object_fit": null,
            "object_position": null,
            "order": null,
            "overflow": null,
            "overflow_x": null,
            "overflow_y": null,
            "padding": null,
            "right": null,
            "top": null,
            "visibility": null,
            "width": null
          }
        },
        "37f8819b30304df9b03f5422ca6ff0ca": {
          "model_module": "@jupyter-widgets/controls",
          "model_name": "ProgressStyleModel",
          "model_module_version": "1.5.0",
          "state": {
            "_model_module": "@jupyter-widgets/controls",
            "_model_module_version": "1.5.0",
            "_model_name": "ProgressStyleModel",
            "_view_count": null,
            "_view_module": "@jupyter-widgets/base",
            "_view_module_version": "1.2.0",
            "_view_name": "StyleView",
            "bar_color": null,
            "description_width": ""
          }
        },
        "66294cb0d6e54657b51b12178911aaf9": {
          "model_module": "@jupyter-widgets/base",
          "model_name": "LayoutModel",
          "model_module_version": "1.2.0",
          "state": {
            "_model_module": "@jupyter-widgets/base",
            "_model_module_version": "1.2.0",
            "_model_name": "LayoutModel",
            "_view_count": null,
            "_view_module": "@jupyter-widgets/base",
            "_view_module_version": "1.2.0",
            "_view_name": "LayoutView",
            "align_content": null,
            "align_items": null,
            "align_self": null,
            "border": null,
            "bottom": null,
            "display": null,
            "flex": null,
            "flex_flow": null,
            "grid_area": null,
            "grid_auto_columns": null,
            "grid_auto_flow": null,
            "grid_auto_rows": null,
            "grid_column": null,
            "grid_gap": null,
            "grid_row": null,
            "grid_template_areas": null,
            "grid_template_columns": null,
            "grid_template_rows": null,
            "height": null,
            "justify_content": null,
            "justify_items": null,
            "left": null,
            "margin": null,
            "max_height": null,
            "max_width": null,
            "min_height": null,
            "min_width": null,
            "object_fit": null,
            "object_position": null,
            "order": null,
            "overflow": null,
            "overflow_x": null,
            "overflow_y": null,
            "padding": null,
            "right": null,
            "top": null,
            "visibility": null,
            "width": null
          }
        },
        "182efccf62114226b27348003e5c78b7": {
          "model_module": "@jupyter-widgets/controls",
          "model_name": "DescriptionStyleModel",
          "model_module_version": "1.5.0",
          "state": {
            "_model_module": "@jupyter-widgets/controls",
            "_model_module_version": "1.5.0",
            "_model_name": "DescriptionStyleModel",
            "_view_count": null,
            "_view_module": "@jupyter-widgets/base",
            "_view_module_version": "1.2.0",
            "_view_name": "StyleView",
            "description_width": ""
          }
        },
        "f5c514167b474907ba80a81e52352fff": {
          "model_module": "@jupyter-widgets/controls",
          "model_name": "HBoxModel",
          "model_module_version": "1.5.0",
          "state": {
            "_dom_classes": [],
            "_model_module": "@jupyter-widgets/controls",
            "_model_module_version": "1.5.0",
            "_model_name": "HBoxModel",
            "_view_count": null,
            "_view_module": "@jupyter-widgets/controls",
            "_view_module_version": "1.5.0",
            "_view_name": "HBoxView",
            "box_style": "",
            "children": [
              "IPY_MODEL_99fcb185dd2547fea505c3ee74fbbae7",
              "IPY_MODEL_08111aed32734ff7a58ca56da1607fc2",
              "IPY_MODEL_b1dfb355813f4090af8af85f5229c435"
            ],
            "layout": "IPY_MODEL_5f02d947e9584960a7e85c9c94a192c7"
          }
        },
        "99fcb185dd2547fea505c3ee74fbbae7": {
          "model_module": "@jupyter-widgets/controls",
          "model_name": "HTMLModel",
          "model_module_version": "1.5.0",
          "state": {
            "_dom_classes": [],
            "_model_module": "@jupyter-widgets/controls",
            "_model_module_version": "1.5.0",
            "_model_name": "HTMLModel",
            "_view_count": null,
            "_view_module": "@jupyter-widgets/controls",
            "_view_module_version": "1.5.0",
            "_view_name": "HTMLView",
            "description": "",
            "description_tooltip": null,
            "layout": "IPY_MODEL_ef24cdda0aee4a0d9193ad0ba95305a9",
            "placeholder": "​",
            "style": "IPY_MODEL_13e73f064d6e4b22b5f03902b0361956",
            "value": "Preprocessing/Feature Extraction: 100%"
          }
        },
        "08111aed32734ff7a58ca56da1607fc2": {
          "model_module": "@jupyter-widgets/controls",
          "model_name": "FloatProgressModel",
          "model_module_version": "1.5.0",
          "state": {
            "_dom_classes": [],
            "_model_module": "@jupyter-widgets/controls",
            "_model_module_version": "1.5.0",
            "_model_name": "FloatProgressModel",
            "_view_count": null,
            "_view_module": "@jupyter-widgets/controls",
            "_view_module_version": "1.5.0",
            "_view_name": "ProgressView",
            "bar_style": "success",
            "description": "",
            "description_tooltip": null,
            "layout": "IPY_MODEL_91b1114a095d4436a907def973ccffd5",
            "max": 19,
            "min": 0,
            "orientation": "horizontal",
            "style": "IPY_MODEL_f0f3026fb6974edb808241888ad0465c",
            "value": 19
          }
        },
        "b1dfb355813f4090af8af85f5229c435": {
          "model_module": "@jupyter-widgets/controls",
          "model_name": "HTMLModel",
          "model_module_version": "1.5.0",
          "state": {
            "_dom_classes": [],
            "_model_module": "@jupyter-widgets/controls",
            "_model_module_version": "1.5.0",
            "_model_name": "HTMLModel",
            "_view_count": null,
            "_view_module": "@jupyter-widgets/controls",
            "_view_module_version": "1.5.0",
            "_view_name": "HTMLView",
            "description": "",
            "description_tooltip": null,
            "layout": "IPY_MODEL_dbed10376672435fb4d037b345791ee4",
            "placeholder": "​",
            "style": "IPY_MODEL_c3a3eb21f7d24793960af77a73c55cd2",
            "value": " 19/19 [00:02&lt;00:00,  8.30it/s]"
          }
        },
        "5f02d947e9584960a7e85c9c94a192c7": {
          "model_module": "@jupyter-widgets/base",
          "model_name": "LayoutModel",
          "model_module_version": "1.2.0",
          "state": {
            "_model_module": "@jupyter-widgets/base",
            "_model_module_version": "1.2.0",
            "_model_name": "LayoutModel",
            "_view_count": null,
            "_view_module": "@jupyter-widgets/base",
            "_view_module_version": "1.2.0",
            "_view_name": "LayoutView",
            "align_content": null,
            "align_items": null,
            "align_self": null,
            "border": null,
            "bottom": null,
            "display": null,
            "flex": null,
            "flex_flow": null,
            "grid_area": null,
            "grid_auto_columns": null,
            "grid_auto_flow": null,
            "grid_auto_rows": null,
            "grid_column": null,
            "grid_gap": null,
            "grid_row": null,
            "grid_template_areas": null,
            "grid_template_columns": null,
            "grid_template_rows": null,
            "height": null,
            "justify_content": null,
            "justify_items": null,
            "left": null,
            "margin": null,
            "max_height": null,
            "max_width": null,
            "min_height": null,
            "min_width": null,
            "object_fit": null,
            "object_position": null,
            "order": null,
            "overflow": null,
            "overflow_x": null,
            "overflow_y": null,
            "padding": null,
            "right": null,
            "top": null,
            "visibility": null,
            "width": null
          }
        },
        "ef24cdda0aee4a0d9193ad0ba95305a9": {
          "model_module": "@jupyter-widgets/base",
          "model_name": "LayoutModel",
          "model_module_version": "1.2.0",
          "state": {
            "_model_module": "@jupyter-widgets/base",
            "_model_module_version": "1.2.0",
            "_model_name": "LayoutModel",
            "_view_count": null,
            "_view_module": "@jupyter-widgets/base",
            "_view_module_version": "1.2.0",
            "_view_name": "LayoutView",
            "align_content": null,
            "align_items": null,
            "align_self": null,
            "border": null,
            "bottom": null,
            "display": null,
            "flex": null,
            "flex_flow": null,
            "grid_area": null,
            "grid_auto_columns": null,
            "grid_auto_flow": null,
            "grid_auto_rows": null,
            "grid_column": null,
            "grid_gap": null,
            "grid_row": null,
            "grid_template_areas": null,
            "grid_template_columns": null,
            "grid_template_rows": null,
            "height": null,
            "justify_content": null,
            "justify_items": null,
            "left": null,
            "margin": null,
            "max_height": null,
            "max_width": null,
            "min_height": null,
            "min_width": null,
            "object_fit": null,
            "object_position": null,
            "order": null,
            "overflow": null,
            "overflow_x": null,
            "overflow_y": null,
            "padding": null,
            "right": null,
            "top": null,
            "visibility": null,
            "width": null
          }
        },
        "13e73f064d6e4b22b5f03902b0361956": {
          "model_module": "@jupyter-widgets/controls",
          "model_name": "DescriptionStyleModel",
          "model_module_version": "1.5.0",
          "state": {
            "_model_module": "@jupyter-widgets/controls",
            "_model_module_version": "1.5.0",
            "_model_name": "DescriptionStyleModel",
            "_view_count": null,
            "_view_module": "@jupyter-widgets/base",
            "_view_module_version": "1.2.0",
            "_view_name": "StyleView",
            "description_width": ""
          }
        },
        "91b1114a095d4436a907def973ccffd5": {
          "model_module": "@jupyter-widgets/base",
          "model_name": "LayoutModel",
          "model_module_version": "1.2.0",
          "state": {
            "_model_module": "@jupyter-widgets/base",
            "_model_module_version": "1.2.0",
            "_model_name": "LayoutModel",
            "_view_count": null,
            "_view_module": "@jupyter-widgets/base",
            "_view_module_version": "1.2.0",
            "_view_name": "LayoutView",
            "align_content": null,
            "align_items": null,
            "align_self": null,
            "border": null,
            "bottom": null,
            "display": null,
            "flex": null,
            "flex_flow": null,
            "grid_area": null,
            "grid_auto_columns": null,
            "grid_auto_flow": null,
            "grid_auto_rows": null,
            "grid_column": null,
            "grid_gap": null,
            "grid_row": null,
            "grid_template_areas": null,
            "grid_template_columns": null,
            "grid_template_rows": null,
            "height": null,
            "justify_content": null,
            "justify_items": null,
            "left": null,
            "margin": null,
            "max_height": null,
            "max_width": null,
            "min_height": null,
            "min_width": null,
            "object_fit": null,
            "object_position": null,
            "order": null,
            "overflow": null,
            "overflow_x": null,
            "overflow_y": null,
            "padding": null,
            "right": null,
            "top": null,
            "visibility": null,
            "width": null
          }
        },
        "f0f3026fb6974edb808241888ad0465c": {
          "model_module": "@jupyter-widgets/controls",
          "model_name": "ProgressStyleModel",
          "model_module_version": "1.5.0",
          "state": {
            "_model_module": "@jupyter-widgets/controls",
            "_model_module_version": "1.5.0",
            "_model_name": "ProgressStyleModel",
            "_view_count": null,
            "_view_module": "@jupyter-widgets/base",
            "_view_module_version": "1.2.0",
            "_view_name": "StyleView",
            "bar_color": null,
            "description_width": ""
          }
        },
        "dbed10376672435fb4d037b345791ee4": {
          "model_module": "@jupyter-widgets/base",
          "model_name": "LayoutModel",
          "model_module_version": "1.2.0",
          "state": {
            "_model_module": "@jupyter-widgets/base",
            "_model_module_version": "1.2.0",
            "_model_name": "LayoutModel",
            "_view_count": null,
            "_view_module": "@jupyter-widgets/base",
            "_view_module_version": "1.2.0",
            "_view_name": "LayoutView",
            "align_content": null,
            "align_items": null,
            "align_self": null,
            "border": null,
            "bottom": null,
            "display": null,
            "flex": null,
            "flex_flow": null,
            "grid_area": null,
            "grid_auto_columns": null,
            "grid_auto_flow": null,
            "grid_auto_rows": null,
            "grid_column": null,
            "grid_gap": null,
            "grid_row": null,
            "grid_template_areas": null,
            "grid_template_columns": null,
            "grid_template_rows": null,
            "height": null,
            "justify_content": null,
            "justify_items": null,
            "left": null,
            "margin": null,
            "max_height": null,
            "max_width": null,
            "min_height": null,
            "min_width": null,
            "object_fit": null,
            "object_position": null,
            "order": null,
            "overflow": null,
            "overflow_x": null,
            "overflow_y": null,
            "padding": null,
            "right": null,
            "top": null,
            "visibility": null,
            "width": null
          }
        },
        "c3a3eb21f7d24793960af77a73c55cd2": {
          "model_module": "@jupyter-widgets/controls",
          "model_name": "DescriptionStyleModel",
          "model_module_version": "1.5.0",
          "state": {
            "_model_module": "@jupyter-widgets/controls",
            "_model_module_version": "1.5.0",
            "_model_name": "DescriptionStyleModel",
            "_view_count": null,
            "_view_module": "@jupyter-widgets/base",
            "_view_module_version": "1.2.0",
            "_view_name": "StyleView",
            "description_width": ""
          }
        }
      }
    }
  },
  "nbformat": 4,
  "nbformat_minor": 0
}